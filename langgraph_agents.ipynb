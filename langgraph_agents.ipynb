{
 "cells": [
  {
   "cell_type": "code",
   "execution_count": 12,
   "id": "e85f8c6e",
   "metadata": {},
   "outputs": [
    {
     "name": "stdout",
     "output_type": "stream",
     "text": [
      "ok\n"
     ]
    }
   ],
   "source": [
    "print(\"ok\")"
   ]
  },
  {
   "cell_type": "code",
   "execution_count": 13,
   "id": "478f35ba",
   "metadata": {},
   "outputs": [],
   "source": [
    "from langchain_openai import ChatOpenAI"
   ]
  },
  {
   "cell_type": "code",
   "execution_count": 14,
   "id": "d4f6e774",
   "metadata": {},
   "outputs": [],
   "source": [
    "from dotenv import load_dotenv"
   ]
  },
  {
   "cell_type": "code",
   "execution_count": 15,
   "id": "31e4cea3",
   "metadata": {},
   "outputs": [
    {
     "data": {
      "text/plain": [
       "True"
      ]
     },
     "execution_count": 15,
     "metadata": {},
     "output_type": "execute_result"
    }
   ],
   "source": [
    "load_dotenv()"
   ]
  },
  {
   "cell_type": "code",
   "execution_count": 16,
   "id": "118b435c",
   "metadata": {},
   "outputs": [],
   "source": [
    "from langchain_groq import ChatGroq\n",
    "llm=ChatGroq(model_name=\"llama-3.3-70b-versatile\")"
   ]
  },
  {
   "cell_type": "code",
   "execution_count": 17,
   "id": "0fd3bd4a",
   "metadata": {},
   "outputs": [],
   "source": [
    "import os\n",
    "OPENAI_API_KEY=os.getenv(\"OPENAI_API_KEY\")"
   ]
  },
  {
   "cell_type": "code",
   "execution_count": 18,
   "id": "e403ceb6",
   "metadata": {},
   "outputs": [],
   "source": [
    "os.environ[\"OPENAI_API_KEY\"]=OPENAI_API_KEY"
   ]
  },
  {
   "cell_type": "code",
   "execution_count": 19,
   "id": "856994ba",
   "metadata": {},
   "outputs": [],
   "source": [
    "openai_model=ChatOpenAI(model=\"gpt-4o\")"
   ]
  },
  {
   "cell_type": "code",
   "execution_count": 20,
   "id": "c175070d",
   "metadata": {},
   "outputs": [
    {
     "data": {
      "text/plain": [
       "\"It's nice to meet you. Is there something I can help you with, or would you like to chat?\""
      ]
     },
     "execution_count": 20,
     "metadata": {},
     "output_type": "execute_result"
    }
   ],
   "source": [
    "llm.invoke(\"hi\").content"
   ]
  },
  {
   "cell_type": "code",
   "execution_count": null,
   "id": "76abd31a",
   "metadata": {},
   "outputs": [],
   "source": [
    "openai_model.invoke(\"hi\").content"
   ]
  },
  {
   "cell_type": "code",
   "execution_count": 22,
   "id": "bb8831a3",
   "metadata": {},
   "outputs": [],
   "source": [
    "from langgraph.graph import StateGraph,MessagesState, START, END\n",
    "from langgraph.graph.message import add_messages\n",
    "from typing import Annotated, Literal, TypedDict\n",
    "from langchain_core.tools import tool\n",
    "from langchain_core.messages import HumanMessage\n",
    "from langgraph.checkpoint.memory import MemorySaver\n",
    "from langgraph.prebuilt import ToolNode"
   ]
  },
  {
   "cell_type": "code",
   "execution_count": 23,
   "id": "4d63ba09",
   "metadata": {},
   "outputs": [],
   "source": [
    "state={}"
   ]
  },
  {
   "cell_type": "code",
   "execution_count": 24,
   "id": "e96a5150",
   "metadata": {},
   "outputs": [],
   "source": [
    "state[\"messages\"]=[]"
   ]
  },
  {
   "cell_type": "code",
   "execution_count": 25,
   "id": "a41d4f7c",
   "metadata": {},
   "outputs": [
    {
     "data": {
      "text/plain": [
       "{'messages': []}"
      ]
     },
     "execution_count": 25,
     "metadata": {},
     "output_type": "execute_result"
    }
   ],
   "source": [
    "state"
   ]
  },
  {
   "cell_type": "code",
   "execution_count": 26,
   "id": "4d162fea",
   "metadata": {},
   "outputs": [],
   "source": [
    "state[\"messages\"].append(\"hi\")"
   ]
  },
  {
   "cell_type": "code",
   "execution_count": null,
   "id": "e80daffe",
   "metadata": {},
   "outputs": [
    {
     "data": {
      "text/plain": [
       "{'messages': ['hi']}"
      ]
     },
     "execution_count": 11,
     "metadata": {},
     "output_type": "execute_result"
    }
   ],
   "source": [
    "state"
   ]
  },
  {
   "cell_type": "code",
   "execution_count": 27,
   "id": "8d3ff228",
   "metadata": {},
   "outputs": [],
   "source": [
    "state[\"messages\"].append(\"how are you?\")"
   ]
  },
  {
   "cell_type": "code",
   "execution_count": 28,
   "id": "368a2a61",
   "metadata": {},
   "outputs": [
    {
     "data": {
      "text/plain": [
       "{'messages': ['hi', 'how are you?']}"
      ]
     },
     "execution_count": 28,
     "metadata": {},
     "output_type": "execute_result"
    }
   ],
   "source": [
    "state"
   ]
  },
  {
   "cell_type": "code",
   "execution_count": 29,
   "id": "8d15bf38",
   "metadata": {},
   "outputs": [],
   "source": [
    "state[\"messages\"].append(\"what going on?\")"
   ]
  },
  {
   "cell_type": "code",
   "execution_count": null,
   "id": "3912c910",
   "metadata": {},
   "outputs": [],
   "source": [
    "class MessagesState(TypedDict):\n",
    "    messages: Annotated[list[AnyMessage], add_messages]"
   ]
  },
  {
   "cell_type": "code",
   "execution_count": 30,
   "id": "a8bd10a9",
   "metadata": {},
   "outputs": [
    {
     "data": {
      "text/plain": [
       "{'messages': ['hi', 'how are you?', 'what going on?']}"
      ]
     },
     "execution_count": 30,
     "metadata": {},
     "output_type": "execute_result"
    }
   ],
   "source": [
    "state"
   ]
  },
  {
   "cell_type": "code",
   "execution_count": 31,
   "id": "2126ba69",
   "metadata": {},
   "outputs": [
    {
     "data": {
      "text/plain": [
       "'hi'"
      ]
     },
     "execution_count": 31,
     "metadata": {},
     "output_type": "execute_result"
    }
   ],
   "source": [
    "state[\"messages\"][0]"
   ]
  },
  {
   "cell_type": "code",
   "execution_count": 32,
   "id": "09061815",
   "metadata": {},
   "outputs": [
    {
     "data": {
      "text/plain": [
       "'what going on?'"
      ]
     },
     "execution_count": 32,
     "metadata": {},
     "output_type": "execute_result"
    }
   ],
   "source": [
    "state[\"messages\"][-1]"
   ]
  },
  {
   "cell_type": "code",
   "execution_count": 33,
   "id": "a366713e",
   "metadata": {},
   "outputs": [],
   "source": [
    "## this state is a dict which containing the message as list and inside the list there could be n numbvers of messages\n",
    "\n",
    "## this state will be flowing across all the nodes(function) in langgraph"
   ]
  },
  {
   "cell_type": "code",
   "execution_count": 34,
   "id": "a5319fbd",
   "metadata": {},
   "outputs": [],
   "source": [
    "def call_model(state:MessagesState):\n",
    "    question=state[\"messages\"]\n",
    "    response=llm.invoke(question)\n",
    "    return {\"messages\":[response]}"
   ]
  },
  {
   "cell_type": "code",
   "execution_count": 35,
   "id": "ebc0a3ab",
   "metadata": {},
   "outputs": [],
   "source": [
    "workflow=StateGraph(MessagesState)"
   ]
  },
  {
   "cell_type": "code",
   "execution_count": 36,
   "id": "09e3efcf",
   "metadata": {},
   "outputs": [
    {
     "data": {
      "text/plain": [
       "<langgraph.graph.state.StateGraph at 0x1c7700bc890>"
      ]
     },
     "execution_count": 36,
     "metadata": {},
     "output_type": "execute_result"
    }
   ],
   "source": [
    "workflow.add_node(\"chatbot\",call_model)"
   ]
  },
  {
   "cell_type": "code",
   "execution_count": 37,
   "id": "8885ba76",
   "metadata": {},
   "outputs": [
    {
     "data": {
      "text/plain": [
       "<langgraph.graph.state.StateGraph at 0x1c7700bc890>"
      ]
     },
     "execution_count": 37,
     "metadata": {},
     "output_type": "execute_result"
    }
   ],
   "source": [
    "workflow.add_edge(START,\"chatbot\")"
   ]
  },
  {
   "cell_type": "code",
   "execution_count": 38,
   "id": "610a14c2",
   "metadata": {},
   "outputs": [
    {
     "data": {
      "text/plain": [
       "<langgraph.graph.state.StateGraph at 0x1c7700bc890>"
      ]
     },
     "execution_count": 38,
     "metadata": {},
     "output_type": "execute_result"
    }
   ],
   "source": [
    "workflow.add_edge(\"chatbot\",END)"
   ]
  },
  {
   "cell_type": "code",
   "execution_count": 39,
   "id": "43f2ee2d",
   "metadata": {},
   "outputs": [],
   "source": [
    "app=workflow.compile()"
   ]
  },
  {
   "cell_type": "code",
   "execution_count": 40,
   "id": "8a856bbd",
   "metadata": {},
   "outputs": [],
   "source": [
    "from IPython.display import Image,display"
   ]
  },
  {
   "cell_type": "code",
   "execution_count": 41,
   "id": "bfa21563",
   "metadata": {},
   "outputs": [
    {
     "data": {
      "image/png": "[encoded data removed]",
      "text/plain": [
       "<IPython.core.display.Image object>"
      ]
     },
     "metadata": {},
     "output_type": "display_data"
    }
   ],
   "source": [
    "display(Image(app.get_graph().draw_mermaid_png()))"
   ]
  },
  {
   "cell_type": "code",
   "execution_count": 42,
   "id": "110c0b0b",
   "metadata": {},
   "outputs": [],
   "source": [
    "input={\"messages\":[\"hi my name is Vishwas\"]}"
   ]
  },
  {
   "cell_type": "code",
   "execution_count": 43,
   "id": "4487276c",
   "metadata": {},
   "outputs": [],
   "source": [
    "response=app.invoke(input)"
   ]
  },
  {
   "cell_type": "code",
   "execution_count": 44,
   "id": "4a87894e",
   "metadata": {},
   "outputs": [
    {
     "data": {
      "text/plain": [
       "\"Hello Vishwas, it's nice to meet you. Is there something I can help you with or would you like to chat?\""
      ]
     },
     "execution_count": 44,
     "metadata": {},
     "output_type": "execute_result"
    }
   ],
   "source": [
    "response[\"messages\"][-1].content"
   ]
  },
  {
   "cell_type": "code",
   "execution_count": 45,
   "id": "9a955f33",
   "metadata": {},
   "outputs": [
    {
     "name": "stdout",
     "output_type": "stream",
     "text": [
      "Output from chatbot Node\n",
      "_______\n",
      "{'messages': [AIMessage(content=\"Hello Vishwas, it's nice to meet you. Is there something I can help you with or would you like to chat?\", additional_kwargs={}, response_metadata={'token_usage': {'completion_tokens': 27, 'prompt_tokens': 41, 'total_tokens': 68, 'completion_time': 0.098181818, 'prompt_time': 0.002006979, 'queue_time': 0.058376641, 'total_time': 0.100188797}, 'model_name': 'llama-3.3-70b-versatile', 'system_fingerprint': 'fp_3f3b593e33', 'finish_reason': 'stop', 'logprobs': None}, id='run--0e8ebd88-e3fc-4387-8a36-cfcb26490d95-0', usage_metadata={'input_tokens': 41, 'output_tokens': 27, 'total_tokens': 68})]}\n",
      "\n",
      "\n"
     ]
    }
   ],
   "source": [
    "for output in app.stream(input):\n",
    "    for key,value in output.items():\n",
    "        print(f\"Output from {key} Node\")\n",
    "        print(\"_______\")\n",
    "        print(value)\n",
    "        print(\"\\n\")"
   ]
  },
  {
   "cell_type": "code",
   "execution_count": 46,
   "id": "9007efa6",
   "metadata": {},
   "outputs": [],
   "source": [
    "@tool\n",
    "def search(query:str):\n",
    "    \"\"\"this is a tool for weather checking\"\"\"\n",
    "    if \"india\" in query.lower() or \"delhi\" in query.lower():\n",
    "        return \"the weather is hotty with some foggy\"\n",
    "    return \"weather is cloudy with some darkness\""
   ]
  },
  {
   "cell_type": "code",
   "execution_count": 47,
   "id": "e3976a85",
   "metadata": {},
   "outputs": [
    {
     "data": {
      "text/plain": [
       "'weather is cloudy with some darkness'"
      ]
     },
     "execution_count": 47,
     "metadata": {},
     "output_type": "execute_result"
    }
   ],
   "source": [
    "search.invoke(\"what is a weather in japan?\")"
   ]
  },
  {
   "cell_type": "code",
   "execution_count": 48,
   "id": "de3f2f61",
   "metadata": {},
   "outputs": [
    {
     "data": {
      "text/plain": [
       "'the weather is hotty with some foggy'"
      ]
     },
     "execution_count": 48,
     "metadata": {},
     "output_type": "execute_result"
    }
   ],
   "source": [
    "search.invoke(\"what is a weather in delhi?\")"
   ]
  },
  {
   "cell_type": "code",
   "execution_count": 49,
   "id": "52d77bc2",
   "metadata": {},
   "outputs": [],
   "source": [
    "tools=[search]"
   ]
  },
  {
   "cell_type": "code",
   "execution_count": 50,
   "id": "2acdcb3f",
   "metadata": {},
   "outputs": [],
   "source": [
    "llm_with_tool=llm.bind_tools(tools)"
   ]
  },
  {
   "cell_type": "code",
   "execution_count": 51,
   "id": "68759128",
   "metadata": {},
   "outputs": [],
   "source": [
    "response=llm_with_tool.invoke(\"hi\")"
   ]
  },
  {
   "cell_type": "code",
   "execution_count": 52,
   "id": "0a3c7868",
   "metadata": {},
   "outputs": [
    {
     "data": {
      "text/plain": [
       "'<function=search{\"query\": \"hello\"}</function>'"
      ]
     },
     "execution_count": 52,
     "metadata": {},
     "output_type": "execute_result"
    }
   ],
   "source": [
    "response.content"
   ]
  },
  {
   "cell_type": "code",
   "execution_count": 53,
   "id": "21f3f5b9",
   "metadata": {},
   "outputs": [
    {
     "data": {
      "text/plain": [
       "[]"
      ]
     },
     "execution_count": 53,
     "metadata": {},
     "output_type": "execute_result"
    }
   ],
   "source": [
    "response.tool_calls"
   ]
  },
  {
   "cell_type": "code",
   "execution_count": 54,
   "id": "8e42ddba",
   "metadata": {},
   "outputs": [],
   "source": [
    "result=llm_with_tool.invoke(\"what is a weather in europe?\")"
   ]
  },
  {
   "cell_type": "code",
   "execution_count": 55,
   "id": "83291f96",
   "metadata": {},
   "outputs": [
    {
     "data": {
      "text/plain": [
       "''"
      ]
     },
     "execution_count": 55,
     "metadata": {},
     "output_type": "execute_result"
    }
   ],
   "source": [
    "result.content"
   ]
  },
  {
   "cell_type": "code",
   "execution_count": 56,
   "id": "e3722e31",
   "metadata": {},
   "outputs": [
    {
     "data": {
      "text/plain": [
       "[{'name': 'search',\n",
       "  'args': {'query': 'europe weather today'},\n",
       "  'id': 'dq3ckza6f',\n",
       "  'type': 'tool_call'}]"
      ]
     },
     "execution_count": 56,
     "metadata": {},
     "output_type": "execute_result"
    }
   ],
   "source": [
    "result.tool_calls"
   ]
  },
  {
   "cell_type": "code",
   "execution_count": 57,
   "id": "d810a7fe",
   "metadata": {},
   "outputs": [],
   "source": [
    "def call_model(state:MessagesState):\n",
    "    question=state[\"messages\"]\n",
    "    response=llm_with_tool.invoke(question)\n",
    "    return {\"messages\":[response]}"
   ]
  },
  {
   "cell_type": "code",
   "execution_count": 58,
   "id": "46448b70",
   "metadata": {},
   "outputs": [],
   "source": [
    "input={'messages': ['hi my name is sunny']}"
   ]
  },
  {
   "cell_type": "code",
   "execution_count": 59,
   "id": "9bcabdea",
   "metadata": {},
   "outputs": [],
   "source": [
    "response=call_model(input)"
   ]
  },
  {
   "cell_type": "code",
   "execution_count": 60,
   "id": "5ff7c13f",
   "metadata": {},
   "outputs": [],
   "source": [
    "message=response[\"messages\"]"
   ]
  },
  {
   "cell_type": "code",
   "execution_count": 61,
   "id": "9dd08409",
   "metadata": {},
   "outputs": [],
   "source": [
    "last_message=message[-1]"
   ]
  },
  {
   "cell_type": "code",
   "execution_count": 62,
   "id": "726cf236",
   "metadata": {},
   "outputs": [
    {
     "data": {
      "text/plain": [
       "\"Hello Sunny, it's nice to meet you. Is there something I can help you with or would you like to chat?\""
      ]
     },
     "execution_count": 62,
     "metadata": {},
     "output_type": "execute_result"
    }
   ],
   "source": [
    "last_message.content"
   ]
  },
  {
   "cell_type": "code",
   "execution_count": 63,
   "id": "1771da82",
   "metadata": {},
   "outputs": [
    {
     "data": {
      "text/plain": [
       "[]"
      ]
     },
     "execution_count": 63,
     "metadata": {},
     "output_type": "execute_result"
    }
   ],
   "source": [
    "last_message.tool_calls"
   ]
  },
  {
   "cell_type": "code",
   "execution_count": 64,
   "id": "8c60e464",
   "metadata": {},
   "outputs": [],
   "source": [
    "input={'messages': ['what is a weather in mumbai?']}"
   ]
  },
  {
   "cell_type": "code",
   "execution_count": 65,
   "id": "09eda53d",
   "metadata": {},
   "outputs": [],
   "source": [
    "def router_function(state: MessagesState):\n",
    "    message=state[\"messages\"]\n",
    "    last_message=message[-1]\n",
    "    if last_message.tool_calls:\n",
    "        return \"tools\"\n",
    "    return END"
   ]
  },
  {
   "cell_type": "code",
   "execution_count": 66,
   "id": "40cf115c",
   "metadata": {},
   "outputs": [
    {
     "data": {
      "text/plain": [
       "[StructuredTool(name='search', description='this is a tool for weather checking', args_schema=<class 'langchain_core.utils.pydantic.search'>, func=<function search at 0x000001C7728D1580>)]"
      ]
     },
     "execution_count": 66,
     "metadata": {},
     "output_type": "execute_result"
    }
   ],
   "source": [
    "tools"
   ]
  },
  {
   "cell_type": "code",
   "execution_count": 67,
   "id": "cd2caa03",
   "metadata": {},
   "outputs": [],
   "source": [
    "tool_node=ToolNode(tools)"
   ]
  },
  {
   "cell_type": "code",
   "execution_count": 68,
   "id": "8da84a49",
   "metadata": {},
   "outputs": [],
   "source": [
    "workflow=StateGraph(MessagesState)"
   ]
  },
  {
   "cell_type": "code",
   "execution_count": 69,
   "id": "0441f048",
   "metadata": {},
   "outputs": [
    {
     "data": {
      "text/plain": [
       "<langgraph.graph.state.StateGraph at 0x1c76fdcb410>"
      ]
     },
     "execution_count": 69,
     "metadata": {},
     "output_type": "execute_result"
    }
   ],
   "source": [
    "workflow.add_node(\"assistant\",call_model)\n",
    "workflow.add_node(\"myweathertool\",tool_node)"
   ]
  },
  {
   "cell_type": "code",
   "execution_count": 70,
   "id": "073e628b",
   "metadata": {},
   "outputs": [],
   "source": [
    "workflow.add_edge(START, \"assistant\")\n",
    "\n",
    "workflow.add_conditional_edges(\"assistant\",\n",
    "                               router_function,\n",
    "                               {\"tools\": \"myweathertool\", END: END})\n",
    "\n",
    "app = workflow.compile()"
   ]
  },
  {
   "cell_type": "code",
   "execution_count": 71,
   "id": "f1385ee4",
   "metadata": {},
   "outputs": [
    {
     "data": {
      "image/png": "[encoded data removed]",
      "text/plain": [
       "<IPython.core.display.Image object>"
      ]
     },
     "metadata": {},
     "output_type": "display_data"
    }
   ],
   "source": [
    "display(Image(app.get_graph().draw_mermaid_png()))"
   ]
  },
  {
   "cell_type": "code",
   "execution_count": 72,
   "id": "183643c0",
   "metadata": {},
   "outputs": [
    {
     "data": {
      "text/plain": [
       "{'messages': [HumanMessage(content='how are you?', additional_kwargs={}, response_metadata={}, id='6f97861d-8ccf-4837-bde2-987c1e477cc4'),\n",
       "  AIMessage(content=\"I'm just a language model, so I don't have feelings or emotions like humans do, but I'm functioning properly and ready to assist you with any questions or tasks you may have. Is there something specific you'd like to know or discuss?\", additional_kwargs={}, response_metadata={'token_usage': {'completion_tokens': 51, 'prompt_tokens': 216, 'total_tokens': 267, 'completion_time': 0.185454545, 'prompt_time': 0.013508638, 'queue_time': 0.056347933, 'total_time': 0.198963183}, 'model_name': 'llama-3.3-70b-versatile', 'system_fingerprint': 'fp_6507bcfb6f', 'finish_reason': 'stop', 'logprobs': None}, id='run--80beaf24-124c-4299-8b5a-f270a67ba50c-0', usage_metadata={'input_tokens': 216, 'output_tokens': 51, 'total_tokens': 267})]}"
      ]
     },
     "execution_count": 72,
     "metadata": {},
     "output_type": "execute_result"
    }
   ],
   "source": [
    "app.invoke({\"messages\": [\"how are you?\"]})"
   ]
  },
  {
   "cell_type": "code",
   "execution_count": 73,
   "id": "80372ca7",
   "metadata": {},
   "outputs": [
    {
     "data": {
      "text/plain": [
       "{'messages': [HumanMessage(content='what is a weather in delhi?', additional_kwargs={}, response_metadata={}, id='d42c764d-a5c7-48b1-b987-e3acd5a81d7d'),\n",
       "  AIMessage(content='', additional_kwargs={'tool_calls': [{'id': 'j5fj7d9ta', 'function': {'arguments': '{\"query\":\"delhi weather\"}', 'name': 'search'}, 'type': 'function'}]}, response_metadata={'token_usage': {'completion_tokens': 15, 'prompt_tokens': 220, 'total_tokens': 235, 'completion_time': 0.054545455, 'prompt_time': 0.013473769, 'queue_time': 0.053227931000000006, 'total_time': 0.068019224}, 'model_name': 'llama-3.3-70b-versatile', 'system_fingerprint': 'fp_2ddfbb0da0', 'finish_reason': 'tool_calls', 'logprobs': None}, id='run--59b08244-0ab5-4e23-9e15-34e3769bc005-0', tool_calls=[{'name': 'search', 'args': {'query': 'delhi weather'}, 'id': 'j5fj7d9ta', 'type': 'tool_call'}], usage_metadata={'input_tokens': 220, 'output_tokens': 15, 'total_tokens': 235}),\n",
       "  ToolMessage(content='the weather is hotty with some foggy', name='search', id='da0e4490-da7f-4ac7-8f06-abe400577bba', tool_call_id='j5fj7d9ta')]}"
      ]
     },
     "execution_count": 73,
     "metadata": {},
     "output_type": "execute_result"
    }
   ],
   "source": [
    "app.invoke({\"messages\": [\"what is a weather in delhi?\"]})"
   ]
  },
  {
   "cell_type": "code",
   "execution_count": 74,
   "id": "34260be5",
   "metadata": {},
   "outputs": [
    {
     "name": "stderr",
     "output_type": "stream",
     "text": [
      "Adding an edge to a graph that has already been compiled. This will not be reflected in the compiled graph.\n"
     ]
    },
    {
     "data": {
      "text/plain": [
       "<langgraph.graph.state.StateGraph at 0x1c76fdcb410>"
      ]
     },
     "execution_count": 74,
     "metadata": {},
     "output_type": "execute_result"
    }
   ],
   "source": [
    "workflow.add_edge(\"myweathertool\",\"assistant\")"
   ]
  },
  {
   "cell_type": "code",
   "execution_count": 75,
   "id": "a1ecd9c7",
   "metadata": {},
   "outputs": [],
   "source": [
    "app = workflow.compile()"
   ]
  },
  {
   "cell_type": "code",
   "execution_count": 76,
   "id": "f2b75bdf",
   "metadata": {},
   "outputs": [
    {
     "data": {
      "image/png": "[encoded data removed]",
      "text/plain": [
       "<IPython.core.display.Image object>"
      ]
     },
     "metadata": {},
     "output_type": "display_data"
    }
   ],
   "source": [
    "display(Image(app.get_graph().draw_mermaid_png()))"
   ]
  },
  {
   "cell_type": "code",
   "execution_count": 77,
   "id": "10c8747e",
   "metadata": {},
   "outputs": [
    {
     "data": {
      "text/plain": [
       "{'messages': [HumanMessage(content='what is a weather in delhi?', additional_kwargs={}, response_metadata={}, id='b12ebe6d-ad31-4b75-b2dd-612d7dd9025d'),\n",
       "  AIMessage(content='', additional_kwargs={'tool_calls': [{'id': '0fd1yxkja', 'function': {'arguments': '{\"query\":\"delhi weather\"}', 'name': 'search'}, 'type': 'function'}]}, response_metadata={'token_usage': {'completion_tokens': 15, 'prompt_tokens': 220, 'total_tokens': 235, 'completion_time': 0.054545455, 'prompt_time': 0.021200143, 'queue_time': 0.05360323, 'total_time': 0.075745598}, 'model_name': 'llama-3.3-70b-versatile', 'system_fingerprint': 'fp_2ddfbb0da0', 'finish_reason': 'tool_calls', 'logprobs': None}, id='run--03cc4954-3127-448a-871b-e0634eff9681-0', tool_calls=[{'name': 'search', 'args': {'query': 'delhi weather'}, 'id': '0fd1yxkja', 'type': 'tool_call'}], usage_metadata={'input_tokens': 220, 'output_tokens': 15, 'total_tokens': 235}),\n",
       "  ToolMessage(content='the weather is hotty with some foggy', name='search', id='0edb7834-ff57-4d8f-941a-6bba4b8c3fb4', tool_call_id='0fd1yxkja'),\n",
       "  AIMessage(content='', additional_kwargs={'tool_calls': [{'id': 'hax33pq91', 'function': {'arguments': '{\"query\":\"delhi temperature and humidity\"}', 'name': 'search'}, 'type': 'function'}]}, response_metadata={'token_usage': {'completion_tokens': 17, 'prompt_tokens': 254, 'total_tokens': 271, 'completion_time': 0.061818182, 'prompt_time': 0.016559096, 'queue_time': 0.056450707, 'total_time': 0.078377278}, 'model_name': 'llama-3.3-70b-versatile', 'system_fingerprint': 'fp_6507bcfb6f', 'finish_reason': 'tool_calls', 'logprobs': None}, id='run--36de156e-e22c-49b7-a1da-24e0fcc88a8b-0', tool_calls=[{'name': 'search', 'args': {'query': 'delhi temperature and humidity'}, 'id': 'hax33pq91', 'type': 'tool_call'}], usage_metadata={'input_tokens': 254, 'output_tokens': 17, 'total_tokens': 271}),\n",
       "  ToolMessage(content='the weather is hotty with some foggy', name='search', id='2c2ad621-bffc-4e8a-bd60-786f090505ff', tool_call_id='hax33pq91'),\n",
       "  AIMessage(content='', additional_kwargs={'tool_calls': [{'id': 'vtqytvnzm', 'function': {'arguments': '{\"query\":\"current weather conditions in delhi\"}', 'name': 'search'}, 'type': 'function'}]}, response_metadata={'token_usage': {'completion_tokens': 18, 'prompt_tokens': 290, 'total_tokens': 308, 'completion_time': 0.065454545, 'prompt_time': 0.0259496, 'queue_time': 0.05351582199999999, 'total_time': 0.091404145}, 'model_name': 'llama-3.3-70b-versatile', 'system_fingerprint': 'fp_3f3b593e33', 'finish_reason': 'tool_calls', 'logprobs': None}, id='run--fcf05410-55e7-49e3-84bc-f062f572d9d6-0', tool_calls=[{'name': 'search', 'args': {'query': 'current weather conditions in delhi'}, 'id': 'vtqytvnzm', 'type': 'tool_call'}], usage_metadata={'input_tokens': 290, 'output_tokens': 18, 'total_tokens': 308}),\n",
       "  ToolMessage(content='the weather is hotty with some foggy', name='search', id='f041577e-62cb-40ea-bf02-616f9715bc62', tool_call_id='vtqytvnzm'),\n",
       "  AIMessage(content='', additional_kwargs={'tool_calls': [{'id': '3vewf84cv', 'function': {'arguments': '{\"query\":\"delhi weather forecast\"}', 'name': 'search'}, 'type': 'function'}]}, response_metadata={'token_usage': {'completion_tokens': 16, 'prompt_tokens': 327, 'total_tokens': 343, 'completion_time': 0.058181818, 'prompt_time': 0.021497292, 'queue_time': 0.052605388, 'total_time': 0.07967911}, 'model_name': 'llama-3.3-70b-versatile', 'system_fingerprint': 'fp_2ddfbb0da0', 'finish_reason': 'tool_calls', 'logprobs': None}, id='run--62b85462-e62c-462a-86ea-130c30af228e-0', tool_calls=[{'name': 'search', 'args': {'query': 'delhi weather forecast'}, 'id': '3vewf84cv', 'type': 'tool_call'}], usage_metadata={'input_tokens': 327, 'output_tokens': 16, 'total_tokens': 343}),\n",
       "  ToolMessage(content='the weather is hotty with some foggy', name='search', id='d5100fe1-d888-4de6-aec7-2131e525a657', tool_call_id='3vewf84cv'),\n",
       "  AIMessage(content='', additional_kwargs={'tool_calls': [{'id': '81aq6njjx', 'function': {'arguments': '{\"query\":\"delhi weather update\"}', 'name': 'search'}, 'type': 'function'}]}, response_metadata={'token_usage': {'completion_tokens': 16, 'prompt_tokens': 362, 'total_tokens': 378, 'completion_time': 0.058181818, 'prompt_time': 0.02338399, 'queue_time': 0.056704031999999994, 'total_time': 0.081565808}, 'model_name': 'llama-3.3-70b-versatile', 'system_fingerprint': 'fp_6507bcfb6f', 'finish_reason': 'tool_calls', 'logprobs': None}, id='run--0f6a1f36-174e-4628-a5ce-9a1b4024ce87-0', tool_calls=[{'name': 'search', 'args': {'query': 'delhi weather update'}, 'id': '81aq6njjx', 'type': 'tool_call'}], usage_metadata={'input_tokens': 362, 'output_tokens': 16, 'total_tokens': 378}),\n",
       "  ToolMessage(content='the weather is hotty with some foggy', name='search', id='9429eb4a-786d-4643-b2fa-b0b8521313b4', tool_call_id='81aq6njjx'),\n",
       "  AIMessage(content='', additional_kwargs={'tool_calls': [{'id': '2gnd1njxm', 'function': {'arguments': '{\"query\":\"delhi temperature\"}', 'name': 'search'}, 'type': 'function'}]}, response_metadata={'token_usage': {'completion_tokens': 15, 'prompt_tokens': 397, 'total_tokens': 412, 'completion_time': 0.227989303, 'prompt_time': 0.025501884, 'queue_time': 0.052518416, 'total_time': 0.253491187}, 'model_name': 'llama-3.3-70b-versatile', 'system_fingerprint': 'fp_6507bcfb6f', 'finish_reason': 'tool_calls', 'logprobs': None}, id='run--602426d0-3624-4c2b-9c8a-7fee1159c3f5-0', tool_calls=[{'name': 'search', 'args': {'query': 'delhi temperature'}, 'id': '2gnd1njxm', 'type': 'tool_call'}], usage_metadata={'input_tokens': 397, 'output_tokens': 15, 'total_tokens': 412}),\n",
       "  ToolMessage(content='the weather is hotty with some foggy', name='search', id='d07b158c-f98d-420a-aaaa-bb9ab9e51a6d', tool_call_id='2gnd1njxm'),\n",
       "  AIMessage(content='', additional_kwargs={'tool_calls': [{'id': 'xnv73rdr2', 'function': {'arguments': '{\"query\":\"weather in delhi today\"}', 'name': 'search'}, 'type': 'function'}]}, response_metadata={'token_usage': {'completion_tokens': 17, 'prompt_tokens': 431, 'total_tokens': 448, 'completion_time': 0.061818182, 'prompt_time': 0.028330707, 'queue_time': 0.059923083, 'total_time': 0.090148889}, 'model_name': 'llama-3.3-70b-versatile', 'system_fingerprint': 'fp_3f3b593e33', 'finish_reason': 'tool_calls', 'logprobs': None}, id='run--dc3171ec-3667-4f50-b91f-9f4fbca9e3a9-0', tool_calls=[{'name': 'search', 'args': {'query': 'weather in delhi today'}, 'id': 'xnv73rdr2', 'type': 'tool_call'}], usage_metadata={'input_tokens': 431, 'output_tokens': 17, 'total_tokens': 448}),\n",
       "  ToolMessage(content='the weather is hotty with some foggy', name='search', id='0ce50072-c1b0-4209-a9fd-761a3d59d987', tool_call_id='xnv73rdr2'),\n",
       "  AIMessage(content='<function=search[]{\"query\": \"delhi weather now\"}</function>', additional_kwargs={}, response_metadata={'token_usage': {'completion_tokens': 16, 'prompt_tokens': 467, 'total_tokens': 483, 'completion_time': 0.058181818, 'prompt_time': 0.036362834, 'queue_time': 0.052647226000000005, 'total_time': 0.094544652}, 'model_name': 'llama-3.3-70b-versatile', 'system_fingerprint': 'fp_3f3b593e33', 'finish_reason': 'stop', 'logprobs': None}, id='run--9c1de261-70f2-4916-94a6-b5975c38d477-0', usage_metadata={'input_tokens': 467, 'output_tokens': 16, 'total_tokens': 483})]}"
      ]
     },
     "execution_count": 77,
     "metadata": {},
     "output_type": "execute_result"
    }
   ],
   "source": [
    "app.invoke({\"messages\": [\"what is a weather in delhi?\"]})"
   ]
  },
  {
   "cell_type": "code",
   "execution_count": 80,
   "id": "f2deb276",
   "metadata": {},
   "outputs": [
    {
     "name": "stdout",
     "output_type": "stream",
     "text": [
      "here is output from assistant\n",
      "_______\n",
      "{'messages': [AIMessage(content='', additional_kwargs={'tool_calls': [{'id': 'fc8d4kzv7', 'function': {'arguments': '{\"query\":\"delhi weather\"}', 'name': 'search'}, 'type': 'function'}]}, response_metadata={'token_usage': {'completion_tokens': 15, 'prompt_tokens': 219, 'total_tokens': 234, 'completion_time': 0.054792974, 'prompt_time': 0.014043944, 'queue_time': 0.052733646999999995, 'total_time': 0.068836918}, 'model_name': 'llama-3.3-70b-versatile', 'system_fingerprint': 'fp_3f3b593e33', 'finish_reason': 'tool_calls', 'logprobs': None}, id='run--6e1a2c0f-a96e-474c-bda8-c40098f73cba-0', tool_calls=[{'name': 'search', 'args': {'query': 'delhi weather'}, 'id': 'fc8d4kzv7', 'type': 'tool_call'}], usage_metadata={'input_tokens': 219, 'output_tokens': 15, 'total_tokens': 234})]}\n",
      "\n",
      "\n",
      "here is output from myweathertool\n",
      "_______\n",
      "{'messages': [ToolMessage(content='the weather is hotty with some foggy', name='search', id='f29f1c50-ef72-43ed-bf39-819a44b8cb8c', tool_call_id='fc8d4kzv7')]}\n",
      "\n",
      "\n",
      "here is output from assistant\n",
      "_______\n",
      "{'messages': [AIMessage(content='', additional_kwargs={'tool_calls': [{'id': 'ny58sh1jn', 'function': {'arguments': '{\"query\":\"delhi temperature\"}', 'name': 'search'}, 'type': 'function'}]}, response_metadata={'token_usage': {'completion_tokens': 15, 'prompt_tokens': 253, 'total_tokens': 268, 'completion_time': 0.054545455, 'prompt_time': 0.016346734, 'queue_time': 0.054122427, 'total_time': 0.070892189}, 'model_name': 'llama-3.3-70b-versatile', 'system_fingerprint': 'fp_2ddfbb0da0', 'finish_reason': 'tool_calls', 'logprobs': None}, id='run--e56472a5-3a55-42bd-ad60-7192832e3570-0', tool_calls=[{'name': 'search', 'args': {'query': 'delhi temperature'}, 'id': 'ny58sh1jn', 'type': 'tool_call'}], usage_metadata={'input_tokens': 253, 'output_tokens': 15, 'total_tokens': 268})]}\n",
      "\n",
      "\n",
      "here is output from myweathertool\n",
      "_______\n",
      "{'messages': [ToolMessage(content='the weather is hotty with some foggy', name='search', id='6945393e-6795-48e6-8077-c868e80e23b7', tool_call_id='ny58sh1jn')]}\n",
      "\n",
      "\n",
      "here is output from assistant\n",
      "_______\n",
      "{'messages': [AIMessage(content='', additional_kwargs={'tool_calls': [{'id': 'kwfamy6j3', 'function': {'arguments': '{\"query\":\"delhi weather forecast\"}', 'name': 'search'}, 'type': 'function'}]}, response_metadata={'token_usage': {'completion_tokens': 16, 'prompt_tokens': 287, 'total_tokens': 303, 'completion_time': 0.058181818, 'prompt_time': 0.024762825, 'queue_time': 0.053071196, 'total_time': 0.082944643}, 'model_name': 'llama-3.3-70b-versatile', 'system_fingerprint': 'fp_2ddfbb0da0', 'finish_reason': 'tool_calls', 'logprobs': None}, id='run--ae817673-0f3f-4d15-8cbf-7f61826f5dfe-0', tool_calls=[{'name': 'search', 'args': {'query': 'delhi weather forecast'}, 'id': 'kwfamy6j3', 'type': 'tool_call'}], usage_metadata={'input_tokens': 287, 'output_tokens': 16, 'total_tokens': 303})]}\n",
      "\n",
      "\n",
      "here is output from myweathertool\n",
      "_______\n",
      "{'messages': [ToolMessage(content='the weather is hotty with some foggy', name='search', id='8fbdff64-ec7f-4570-8012-232f40b93cb7', tool_call_id='kwfamy6j3')]}\n",
      "\n",
      "\n",
      "here is output from assistant\n",
      "_______\n",
      "{'messages': [AIMessage(content='<function=search={\"query\": \"delhi weather today\"}</function>', additional_kwargs={}, response_metadata={'token_usage': {'completion_tokens': 16, 'prompt_tokens': 322, 'total_tokens': 338, 'completion_time': 0.058181818, 'prompt_time': 0.021157973, 'queue_time': 0.052555408, 'total_time': 0.079339791}, 'model_name': 'llama-3.3-70b-versatile', 'system_fingerprint': 'fp_2ddfbb0da0', 'finish_reason': 'stop', 'logprobs': None}, id='run--721fb4fa-1b16-4595-8d0a-25842459bb3e-0', usage_metadata={'input_tokens': 322, 'output_tokens': 16, 'total_tokens': 338})]}\n",
      "\n",
      "\n"
     ]
    }
   ],
   "source": [
    "for output in app.stream({\"messages\": [\"what is the weather in delhi\"]}):\n",
    "    for key,value in output.items():\n",
    "        print(f\"here is output from {key}\")\n",
    "        print(\"_______\")\n",
    "        print(value)\n",
    "        print(\"\\n\")"
   ]
  },
  {
   "cell_type": "code",
   "execution_count": 81,
   "id": "84a6da14",
   "metadata": {},
   "outputs": [],
   "source": [
    "@tool\n",
    "def multiply(a:int,b:int)->int:\n",
    "    \"\"\"multiply a and b\"\"\"\n",
    "    return a*b"
   ]
  },
  {
   "cell_type": "code",
   "execution_count": 82,
   "id": "fc5eadbf",
   "metadata": {},
   "outputs": [],
   "source": [
    "@tool\n",
    "def add(a:int,b:int)->int:\n",
    "    \"\"\"adding two numbers a and b\"\"\"\n",
    "    return a+b"
   ]
  },
  {
   "cell_type": "code",
   "execution_count": 83,
   "id": "c3c711c9",
   "metadata": {},
   "outputs": [],
   "source": [
    "@tool\n",
    "def divide(a:int,b:int)->int:\n",
    "    \"\"\"dividing two numbers a and b\"\"\"\n",
    "    return a/b"
   ]
  },
  {
   "cell_type": "code",
   "execution_count": 84,
   "id": "35e1b22e",
   "metadata": {},
   "outputs": [],
   "source": [
    "@tool\n",
    "def subtract(a:int,b:int)->int:\n",
    "    \"\"\"subtracting two numbers a and b \"\"\"\n",
    "    return a-b"
   ]
  },
  {
   "cell_type": "code",
   "execution_count": 85,
   "id": "f27fde2f",
   "metadata": {},
   "outputs": [],
   "source": [
    "from langchain_community.tools import DuckDuckGoSearchRun\n"
   ]
  },
  {
   "cell_type": "code",
   "execution_count": 86,
   "id": "ae2569f9",
   "metadata": {},
   "outputs": [],
   "source": [
    "duckduckgo_search=DuckDuckGoSearchRun()"
   ]
  },
  {
   "cell_type": "code",
   "execution_count": 87,
   "id": "7b4846fd",
   "metadata": {},
   "outputs": [
    {
     "data": {
      "text/plain": [
       "\"List of all Prime Ministers of India till 2025: Narendra Modi is the current and 14th Prime Minister of India who assumed office on 10 June 2024. Jawaharlal Nehru is the first and the longest ... Prime Minister Shri Narendra Modi met the members of various delegations who represented India in different countries at his official residence in New Delhi today. ... Shri Narendra Modi was sworn-in as India's Prime Minister for the third time on 9th June 2024, following another decisive victory in the 2024 Parliamentary elections. ... The prime minister of India (ISO: Bhārata kē Pradhānamantr ... Modi is the current prime minister of India, serving since 26 May 2014 and the first to win three consecutive elections to secure a third successive term, 2014, 2019, 2024. Origins and history. Narendra Modi is the current Prime Minister of India. He represents Varanasi constituency in the Lok Sabha. He is a prominent leader of the Bharatiya Janata Party (BJP). He assumed office as Prime Minister for his third term on June 9, 2024 after securing a decisive mandate in the 2024 Lok Sabha elections. Oldest Prime Minister of India: Morarji Desai was India's oldest Prime Minister, serving at 81 from 1977 to 1979. He was born on 29 February 1896, and held various significant positions in government throughout his career, including Chief Minister of Bombay State, Home Minister, Finance Minister, and Deputy Prime Minister before assuming the role of Prime Minister.\""
      ]
     },
     "execution_count": 87,
     "metadata": {},
     "output_type": "execute_result"
    }
   ],
   "source": [
    "duckduckgo_search.invoke(\"who is a current prime minister of India??\")"
   ]
  },
  {
   "cell_type": "code",
   "execution_count": 88,
   "id": "412f68f1",
   "metadata": {},
   "outputs": [],
   "source": [
    "tools=[multiply, add, divide, subtract, duckduckgo_search]"
   ]
  },
  {
   "cell_type": "code",
   "execution_count": 89,
   "id": "4adc205e",
   "metadata": {},
   "outputs": [],
   "source": [
    "llm_with_tools=llm.bind_tools(tools)"
   ]
  },
  {
   "cell_type": "code",
   "execution_count": 90,
   "id": "5c733a83",
   "metadata": {},
   "outputs": [
    {
     "data": {
      "text/plain": [
       "RunnableBinding(bound=ChatGroq(client=<groq.resources.chat.completions.Completions object at 0x000001C76F7154C0>, async_client=<groq.resources.chat.completions.AsyncCompletions object at 0x000001C76FCBF710>, model_name='llama-3.3-70b-versatile', model_kwargs={}, groq_api_key=SecretStr('**********')), kwargs={'tools': [{'type': 'function', 'function': {'name': 'multiply', 'description': 'multiply a and b', 'parameters': {'properties': {'a': {'type': 'integer'}, 'b': {'type': 'integer'}}, 'required': ['a', 'b'], 'type': 'object'}}}, {'type': 'function', 'function': {'name': 'add', 'description': 'adding two numbers a and b', 'parameters': {'properties': {'a': {'type': 'integer'}, 'b': {'type': 'integer'}}, 'required': ['a', 'b'], 'type': 'object'}}}, {'type': 'function', 'function': {'name': 'divide', 'description': 'dividing two numbers a and b', 'parameters': {'properties': {'a': {'type': 'integer'}, 'b': {'type': 'integer'}}, 'required': ['a', 'b'], 'type': 'object'}}}, {'type': 'function', 'function': {'name': 'subtract', 'description': 'subtracting two numbers a and b', 'parameters': {'properties': {'a': {'type': 'integer'}, 'b': {'type': 'integer'}}, 'required': ['a', 'b'], 'type': 'object'}}}, {'type': 'function', 'function': {'name': 'duckduckgo_search', 'description': 'A wrapper around DuckDuckGo Search. Useful for when you need to answer questions about current events. Input should be a search query.', 'parameters': {'properties': {'query': {'description': 'search query to look up', 'type': 'string'}}, 'required': ['query'], 'type': 'object'}}}]}, config={}, config_factories=[])"
      ]
     },
     "execution_count": 90,
     "metadata": {},
     "output_type": "execute_result"
    }
   ],
   "source": [
    "llm_with_tools"
   ]
  },
  {
   "cell_type": "code",
   "execution_count": 91,
   "id": "5c654799",
   "metadata": {},
   "outputs": [
    {
     "data": {
      "text/plain": [
       "[]"
      ]
     },
     "execution_count": 91,
     "metadata": {},
     "output_type": "execute_result"
    }
   ],
   "source": [
    "llm_with_tools.invoke(\"hi\").tool_calls"
   ]
  },
  {
   "cell_type": "code",
   "execution_count": 92,
   "id": "21628b05",
   "metadata": {},
   "outputs": [
    {
     "data": {
      "text/plain": [
       "[]"
      ]
     },
     "execution_count": 92,
     "metadata": {},
     "output_type": "execute_result"
    }
   ],
   "source": [
    "llm_with_tools.invoke(\"can you add these two number 5 and 40?\").tool_calls"
   ]
  },
  {
   "cell_type": "code",
   "execution_count": null,
   "id": "42fbff3e",
   "metadata": {},
   "outputs": [
    {
     "data": {
      "text/plain": [
       "[{'name': 'multiply',\n",
       "  'args': {'a': 5, 'b': 40},\n",
       "  'id': '5js8fbzks',\n",
       "  'type': 'tool_call'}]"
      ]
     },
     "execution_count": 74,
     "metadata": {},
     "output_type": "execute_result"
    }
   ],
   "source": [
    "llm_with_tools.invoke(\"can you multiply these two number 5 and 40?\").tool_calls"
   ]
  },
  {
   "cell_type": "code",
   "execution_count": 93,
   "id": "5cfcfa43",
   "metadata": {},
   "outputs": [
    {
     "data": {
      "text/plain": [
       "[]"
      ]
     },
     "execution_count": 93,
     "metadata": {},
     "output_type": "execute_result"
    }
   ],
   "source": [
    "llm_with_tools.invoke(\"can you divide these two number 5 and 40?\").tool_calls"
   ]
  },
  {
   "cell_type": "code",
   "execution_count": 94,
   "id": "8febcbae",
   "metadata": {},
   "outputs": [
    {
     "data": {
      "text/plain": [
       "[]"
      ]
     },
     "execution_count": 94,
     "metadata": {},
     "output_type": "execute_result"
    }
   ],
   "source": [
    "llm_with_tools.invoke(\"what is a current gdp of india with current affaires\").tool_calls"
   ]
  },
  {
   "cell_type": "code",
   "execution_count": 95,
   "id": "650a34e4",
   "metadata": {},
   "outputs": [],
   "source": [
    "from langchain_core.messages import HumanMessage, SystemMessage"
   ]
  },
  {
   "cell_type": "code",
   "execution_count": 96,
   "id": "24925dc4",
   "metadata": {},
   "outputs": [],
   "source": [
    "# System message\n",
    "sys_msg = SystemMessage(content=\"You are a helpful assistant tasked with using search and performing arithmetic on a set of inputs.\")\n",
    "     "
   ]
  },
  {
   "cell_type": "code",
   "execution_count": 98,
   "id": "a19a024a",
   "metadata": {},
   "outputs": [],
   "source": [
    "def assistant(state:MessagesState):\n",
    "    return {\"messages\":[llm_with_tools.invoke([sys_msg]+state[\"messages\"])]}"
   ]
  },
  {
   "cell_type": "code",
   "execution_count": 99,
   "id": "877fa1d5",
   "metadata": {},
   "outputs": [],
   "source": [
    "builder=StateGraph(MessagesState)"
   ]
  },
  {
   "cell_type": "code",
   "execution_count": 100,
   "id": "1c2042af",
   "metadata": {},
   "outputs": [
    {
     "data": {
      "text/plain": [
       "<langgraph.graph.state.StateGraph at 0x1c770088290>"
      ]
     },
     "execution_count": 100,
     "metadata": {},
     "output_type": "execute_result"
    }
   ],
   "source": [
    "builder.add_node(\"assistant\",assistant)"
   ]
  },
  {
   "cell_type": "code",
   "execution_count": 101,
   "id": "2cb6ce21",
   "metadata": {},
   "outputs": [
    {
     "data": {
      "text/plain": [
       "<langgraph.graph.state.StateGraph at 0x1c770088290>"
      ]
     },
     "execution_count": 101,
     "metadata": {},
     "output_type": "execute_result"
    }
   ],
   "source": [
    "builder.add_node(\"tools\",ToolNode(tools))"
   ]
  },
  {
   "cell_type": "code",
   "execution_count": 102,
   "id": "ac5d6718",
   "metadata": {},
   "outputs": [
    {
     "data": {
      "text/plain": [
       "<langgraph.graph.state.StateGraph at 0x1c770088290>"
      ]
     },
     "execution_count": 102,
     "metadata": {},
     "output_type": "execute_result"
    }
   ],
   "source": [
    "builder.add_edge(START,\"assistant\")"
   ]
  },
  {
   "cell_type": "code",
   "execution_count": 103,
   "id": "32722c39",
   "metadata": {},
   "outputs": [],
   "source": [
    "\n",
    "from langgraph.prebuilt import tools_condition"
   ]
  },
  {
   "cell_type": "code",
   "execution_count": 104,
   "id": "34d176f2",
   "metadata": {},
   "outputs": [
    {
     "data": {
      "text/plain": [
       "<langgraph.graph.state.StateGraph at 0x1c770088290>"
      ]
     },
     "execution_count": 104,
     "metadata": {},
     "output_type": "execute_result"
    }
   ],
   "source": [
    "builder.add_conditional_edges(\n",
    "    \"assistant\",\n",
    "    tools_condition\n",
    ")"
   ]
  },
  {
   "cell_type": "code",
   "execution_count": 105,
   "id": "b8b3e95b",
   "metadata": {},
   "outputs": [],
   "source": [
    "react_app=builder.compile()"
   ]
  },
  {
   "cell_type": "code",
   "execution_count": 106,
   "id": "0f009e31",
   "metadata": {},
   "outputs": [
    {
     "data": {
      "image/png": "[encoded data removed]",
      "text/plain": [
       "<IPython.core.display.Image object>"
      ]
     },
     "metadata": {},
     "output_type": "display_data"
    }
   ],
   "source": [
    "display(Image(react_app.get_graph().draw_mermaid_png()))"
   ]
  },
  {
   "cell_type": "code",
   "execution_count": 107,
   "id": "197108a8",
   "metadata": {},
   "outputs": [
    {
     "name": "stderr",
     "output_type": "stream",
     "text": [
      "Adding an edge to a graph that has already been compiled. This will not be reflected in the compiled graph.\n"
     ]
    },
    {
     "data": {
      "text/plain": [
       "<langgraph.graph.state.StateGraph at 0x1c770088290>"
      ]
     },
     "execution_count": 107,
     "metadata": {},
     "output_type": "execute_result"
    }
   ],
   "source": [
    "builder.add_edge(\"tools\",\"assistant\")"
   ]
  },
  {
   "cell_type": "code",
   "execution_count": 108,
   "id": "90bc0cec",
   "metadata": {},
   "outputs": [],
   "source": [
    "react_app=builder.compile()"
   ]
  },
  {
   "cell_type": "code",
   "execution_count": 109,
   "id": "100c88e5",
   "metadata": {},
   "outputs": [
    {
     "data": {
      "image/png": "[encoded data removed]",
      "text/plain": [
       "<IPython.core.display.Image object>"
      ]
     },
     "metadata": {},
     "output_type": "display_data"
    }
   ],
   "source": [
    "display(Image(react_app.get_graph().draw_mermaid_png()))"
   ]
  },
  {
   "cell_type": "code",
   "execution_count": 110,
   "id": "3a4f5fb0",
   "metadata": {},
   "outputs": [],
   "source": [
    "message=[HumanMessage(content=\"what is twice of narendra modi's current age?\")]\n",
    "\n",
    "## this below detail is called a agentic flow\n",
    "# first it will come to assistant\n",
    "# then it will search narendra modi age\n",
    "# then it will come to again assistant\n",
    "# then it wil call the multiply tool for getting twice of age\n",
    "# then again it will come to assistant \n",
    "# then it will generate a final answer\n",
    "\n",
    "# REACT->> Reasoning+actions\n",
    "\n",
    "# Thinking, action, observation, thiniking,action, observation---> if everything is going to be full fill\n",
    "# then generating a final ans"
   ]
  },
  {
   "cell_type": "code",
   "execution_count": 111,
   "id": "030c2974",
   "metadata": {},
   "outputs": [],
   "source": [
    "response=react_app.invoke({\"messages\":message})"
   ]
  },
  {
   "cell_type": "code",
   "execution_count": 112,
   "id": "2a757c13",
   "metadata": {},
   "outputs": [
    {
     "name": "stdout",
     "output_type": "stream",
     "text": [
      "================================\u001b[1m Human Message \u001b[0m=================================\n",
      "\n",
      "what is twice of narendra modi's current age?\n",
      "==================================\u001b[1m Ai Message \u001b[0m==================================\n",
      "\n",
      "To find the twice of Narendra Modi's current age, I need to find out his current age first.\n",
      "\n",
      "<function=duckduckgo_search{\"query\": \"Narendra Modi current age\"}</function>\n"
     ]
    }
   ],
   "source": [
    "for m in response[\"messages\"]:\n",
    "    m.pretty_print()"
   ]
  },
  {
   "cell_type": "code",
   "execution_count": 113,
   "id": "83208432",
   "metadata": {},
   "outputs": [],
   "source": [
    "messages=[HumanMessage(content=\"hi hello how are you?\")]"
   ]
  },
  {
   "cell_type": "code",
   "execution_count": 114,
   "id": "b811ca15",
   "metadata": {},
   "outputs": [],
   "source": [
    "response=react_app.invoke({\"messages\":messages})"
   ]
  },
  {
   "cell_type": "code",
   "execution_count": 115,
   "id": "e19b73e2",
   "metadata": {},
   "outputs": [
    {
     "name": "stdout",
     "output_type": "stream",
     "text": [
      "================================\u001b[1m Human Message \u001b[0m=================================\n",
      "\n",
      "hi hello how are you?\n",
      "==================================\u001b[1m Ai Message \u001b[0m==================================\n",
      "\n",
      "I'm doing well, thank you for asking. Is there something I can help you with, like a math problem or a question that you'd like me to search for?\n"
     ]
    }
   ],
   "source": [
    "for m in response[\"messages\"]:\n",
    "    m.pretty_print()"
   ]
  },
  {
   "cell_type": "markdown",
   "id": "ead8d44d",
   "metadata": {},
   "source": [
    "1. humanmessage\n",
    "2. ai mesage:toolcall\n",
    "3. duckcuk\n",
    "4. ai assistant\n",
    "5. sustract\n",
    "6. ai\n",
    "7. final answer"
   ]
  },
  {
   "cell_type": "code",
   "execution_count": 116,
   "id": "5c69e77a",
   "metadata": {},
   "outputs": [],
   "source": [
    "messages=[HumanMessage(content=\"what is current gdp of china and india can you give me difference between them?\")]"
   ]
  },
  {
   "cell_type": "code",
   "execution_count": 118,
   "id": "52ca8147",
   "metadata": {},
   "outputs": [
    {
     "ename": "BadRequestError",
     "evalue": "Error code: 400 - {'error': {'message': \"Failed to call a function. Please adjust your prompt. See 'failed_generation' for more details.\", 'type': 'invalid_request_error', 'code': 'tool_use_failed', 'failed_generation': '<function=duckduckgo_search{\"query\": \"current GDP of China and India\"}</function>\\n<function=duckduckgo_search{\"query\": \"GDP difference between China and India\"}</function>'}}",
     "output_type": "error",
     "traceback": [
      "\u001b[31m---------------------------------------------------------------------------\u001b[39m",
      "\u001b[31mBadRequestError\u001b[39m                           Traceback (most recent call last)",
      "\u001b[36mCell\u001b[39m\u001b[36m \u001b[39m\u001b[32mIn[118]\u001b[39m\u001b[32m, line 1\u001b[39m\n\u001b[32m----> \u001b[39m\u001b[32m1\u001b[39m response=\u001b[43mreact_app\u001b[49m\u001b[43m.\u001b[49m\u001b[43minvoke\u001b[49m\u001b[43m(\u001b[49m\u001b[43m{\u001b[49m\u001b[33;43m\"\u001b[39;49m\u001b[33;43mmessages\u001b[39;49m\u001b[33;43m\"\u001b[39;49m\u001b[43m:\u001b[49m\u001b[43mmessages\u001b[49m\u001b[43m}\u001b[49m\u001b[43m)\u001b[49m\n",
      "\u001b[36mFile \u001b[39m\u001b[32mc:\\Users\\Admin\\AppData\\Local\\Programs\\Python\\Python312\\Lib\\site-packages\\langgraph\\pregel\\__init__.py:2719\u001b[39m, in \u001b[36mPregel.invoke\u001b[39m\u001b[34m(self, input, config, stream_mode, output_keys, interrupt_before, interrupt_after, checkpoint_during, debug, **kwargs)\u001b[39m\n\u001b[32m   2716\u001b[39m chunks: \u001b[38;5;28mlist\u001b[39m[Union[\u001b[38;5;28mdict\u001b[39m[\u001b[38;5;28mstr\u001b[39m, Any], Any]] = []\n\u001b[32m   2717\u001b[39m interrupts: \u001b[38;5;28mlist\u001b[39m[Interrupt] = []\n\u001b[32m-> \u001b[39m\u001b[32m2719\u001b[39m \u001b[43m\u001b[49m\u001b[38;5;28;43;01mfor\u001b[39;49;00m\u001b[43m \u001b[49m\u001b[43mchunk\u001b[49m\u001b[43m \u001b[49m\u001b[38;5;129;43;01min\u001b[39;49;00m\u001b[43m \u001b[49m\u001b[38;5;28;43mself\u001b[39;49m\u001b[43m.\u001b[49m\u001b[43mstream\u001b[49m\u001b[43m(\u001b[49m\n\u001b[32m   2720\u001b[39m \u001b[43m    \u001b[49m\u001b[38;5;28;43minput\u001b[39;49m\u001b[43m,\u001b[49m\n\u001b[32m   2721\u001b[39m \u001b[43m    \u001b[49m\u001b[43mconfig\u001b[49m\u001b[43m,\u001b[49m\n\u001b[32m   2722\u001b[39m \u001b[43m    \u001b[49m\u001b[43mstream_mode\u001b[49m\u001b[43m=\u001b[49m\u001b[43mstream_mode\u001b[49m\u001b[43m,\u001b[49m\n\u001b[32m   2723\u001b[39m \u001b[43m    \u001b[49m\u001b[43moutput_keys\u001b[49m\u001b[43m=\u001b[49m\u001b[43moutput_keys\u001b[49m\u001b[43m,\u001b[49m\n\u001b[32m   2724\u001b[39m \u001b[43m    \u001b[49m\u001b[43minterrupt_before\u001b[49m\u001b[43m=\u001b[49m\u001b[43minterrupt_before\u001b[49m\u001b[43m,\u001b[49m\n\u001b[32m   2725\u001b[39m \u001b[43m    \u001b[49m\u001b[43minterrupt_after\u001b[49m\u001b[43m=\u001b[49m\u001b[43minterrupt_after\u001b[49m\u001b[43m,\u001b[49m\n\u001b[32m   2726\u001b[39m \u001b[43m    \u001b[49m\u001b[43mcheckpoint_during\u001b[49m\u001b[43m=\u001b[49m\u001b[43mcheckpoint_during\u001b[49m\u001b[43m,\u001b[49m\n\u001b[32m   2727\u001b[39m \u001b[43m    \u001b[49m\u001b[43mdebug\u001b[49m\u001b[43m=\u001b[49m\u001b[43mdebug\u001b[49m\u001b[43m,\u001b[49m\n\u001b[32m   2728\u001b[39m \u001b[43m    \u001b[49m\u001b[43m*\u001b[49m\u001b[43m*\u001b[49m\u001b[43mkwargs\u001b[49m\u001b[43m,\u001b[49m\n\u001b[32m   2729\u001b[39m \u001b[43m\u001b[49m\u001b[43m)\u001b[49m\u001b[43m:\u001b[49m\n\u001b[32m   2730\u001b[39m \u001b[43m    \u001b[49m\u001b[38;5;28;43;01mif\u001b[39;49;00m\u001b[43m \u001b[49m\u001b[43mstream_mode\u001b[49m\u001b[43m \u001b[49m\u001b[43m==\u001b[49m\u001b[43m \u001b[49m\u001b[33;43m\"\u001b[39;49m\u001b[33;43mvalues\u001b[39;49m\u001b[33;43m\"\u001b[39;49m\u001b[43m:\u001b[49m\n\u001b[32m   2731\u001b[39m \u001b[43m        \u001b[49m\u001b[38;5;28;43;01mif\u001b[39;49;00m\u001b[43m \u001b[49m\u001b[43m(\u001b[49m\n\u001b[32m   2732\u001b[39m \u001b[43m            \u001b[49m\u001b[38;5;28;43misinstance\u001b[39;49m\u001b[43m(\u001b[49m\u001b[43mchunk\u001b[49m\u001b[43m,\u001b[49m\u001b[43m \u001b[49m\u001b[38;5;28;43mdict\u001b[39;49m\u001b[43m)\u001b[49m\n\u001b[32m   2733\u001b[39m \u001b[43m            \u001b[49m\u001b[38;5;129;43;01mand\u001b[39;49;00m\u001b[43m \u001b[49m\u001b[43m(\u001b[49m\u001b[43mints\u001b[49m\u001b[43m \u001b[49m\u001b[43m:=\u001b[49m\u001b[43m \u001b[49m\u001b[43mchunk\u001b[49m\u001b[43m.\u001b[49m\u001b[43mget\u001b[49m\u001b[43m(\u001b[49m\u001b[43mINTERRUPT\u001b[49m\u001b[43m)\u001b[49m\u001b[43m)\u001b[49m\u001b[43m \u001b[49m\u001b[38;5;129;43;01mis\u001b[39;49;00m\u001b[43m \u001b[49m\u001b[38;5;129;43;01mnot\u001b[39;49;00m\u001b[43m \u001b[49m\u001b[38;5;28;43;01mNone\u001b[39;49;00m\n\u001b[32m   2734\u001b[39m \u001b[43m        \u001b[49m\u001b[43m)\u001b[49m\u001b[43m:\u001b[49m\n",
      "\u001b[36mFile \u001b[39m\u001b[32mc:\\Users\\Admin\\AppData\\Local\\Programs\\Python\\Python312\\Lib\\site-packages\\langgraph\\pregel\\__init__.py:2436\u001b[39m, in \u001b[36mPregel.stream\u001b[39m\u001b[34m(self, input, config, stream_mode, output_keys, interrupt_before, interrupt_after, checkpoint_during, debug, subgraphs)\u001b[39m\n\u001b[32m   2434\u001b[39m         \u001b[38;5;28;01mfor\u001b[39;00m task \u001b[38;5;129;01min\u001b[39;00m loop.match_cached_writes():\n\u001b[32m   2435\u001b[39m             loop.output_writes(task.id, task.writes, cached=\u001b[38;5;28;01mTrue\u001b[39;00m)\n\u001b[32m-> \u001b[39m\u001b[32m2436\u001b[39m \u001b[43m        \u001b[49m\u001b[38;5;28;43;01mfor\u001b[39;49;00m\u001b[43m \u001b[49m\u001b[43m_\u001b[49m\u001b[43m \u001b[49m\u001b[38;5;129;43;01min\u001b[39;49;00m\u001b[43m \u001b[49m\u001b[43mrunner\u001b[49m\u001b[43m.\u001b[49m\u001b[43mtick\u001b[49m\u001b[43m(\u001b[49m\n\u001b[32m   2437\u001b[39m \u001b[43m            \u001b[49m\u001b[43m[\u001b[49m\u001b[43mt\u001b[49m\u001b[43m \u001b[49m\u001b[38;5;28;43;01mfor\u001b[39;49;00m\u001b[43m \u001b[49m\u001b[43mt\u001b[49m\u001b[43m \u001b[49m\u001b[38;5;129;43;01min\u001b[39;49;00m\u001b[43m \u001b[49m\u001b[43mloop\u001b[49m\u001b[43m.\u001b[49m\u001b[43mtasks\u001b[49m\u001b[43m.\u001b[49m\u001b[43mvalues\u001b[49m\u001b[43m(\u001b[49m\u001b[43m)\u001b[49m\u001b[43m \u001b[49m\u001b[38;5;28;43;01mif\u001b[39;49;00m\u001b[43m \u001b[49m\u001b[38;5;129;43;01mnot\u001b[39;49;00m\u001b[43m \u001b[49m\u001b[43mt\u001b[49m\u001b[43m.\u001b[49m\u001b[43mwrites\u001b[49m\u001b[43m]\u001b[49m\u001b[43m,\u001b[49m\n\u001b[32m   2438\u001b[39m \u001b[43m            \u001b[49m\u001b[43mtimeout\u001b[49m\u001b[43m=\u001b[49m\u001b[38;5;28;43mself\u001b[39;49m\u001b[43m.\u001b[49m\u001b[43mstep_timeout\u001b[49m\u001b[43m,\u001b[49m\n\u001b[32m   2439\u001b[39m \u001b[43m            \u001b[49m\u001b[43mget_waiter\u001b[49m\u001b[43m=\u001b[49m\u001b[43mget_waiter\u001b[49m\u001b[43m,\u001b[49m\n\u001b[32m   2440\u001b[39m \u001b[43m            \u001b[49m\u001b[43mschedule_task\u001b[49m\u001b[43m=\u001b[49m\u001b[43mloop\u001b[49m\u001b[43m.\u001b[49m\u001b[43maccept_push\u001b[49m\u001b[43m,\u001b[49m\n\u001b[32m   2441\u001b[39m \u001b[43m        \u001b[49m\u001b[43m)\u001b[49m\u001b[43m:\u001b[49m\n\u001b[32m   2442\u001b[39m \u001b[43m            \u001b[49m\u001b[38;5;66;43;03m# emit output\u001b[39;49;00m\n\u001b[32m   2443\u001b[39m \u001b[43m            \u001b[49m\u001b[38;5;28;43;01myield from\u001b[39;49;00m\u001b[43m \u001b[49m\u001b[43moutput\u001b[49m\u001b[43m(\u001b[49m\u001b[43m)\u001b[49m\n\u001b[32m   2444\u001b[39m \u001b[38;5;66;03m# emit output\u001b[39;00m\n",
      "\u001b[36mFile \u001b[39m\u001b[32mc:\\Users\\Admin\\AppData\\Local\\Programs\\Python\\Python312\\Lib\\site-packages\\langgraph\\pregel\\runner.py:161\u001b[39m, in \u001b[36mPregelRunner.tick\u001b[39m\u001b[34m(self, tasks, reraise, timeout, retry_policy, get_waiter, schedule_task)\u001b[39m\n\u001b[32m    159\u001b[39m t = tasks[\u001b[32m0\u001b[39m]\n\u001b[32m    160\u001b[39m \u001b[38;5;28;01mtry\u001b[39;00m:\n\u001b[32m--> \u001b[39m\u001b[32m161\u001b[39m     \u001b[43mrun_with_retry\u001b[49m\u001b[43m(\u001b[49m\n\u001b[32m    162\u001b[39m \u001b[43m        \u001b[49m\u001b[43mt\u001b[49m\u001b[43m,\u001b[49m\n\u001b[32m    163\u001b[39m \u001b[43m        \u001b[49m\u001b[43mretry_policy\u001b[49m\u001b[43m,\u001b[49m\n\u001b[32m    164\u001b[39m \u001b[43m        \u001b[49m\u001b[43mconfigurable\u001b[49m\u001b[43m=\u001b[49m\u001b[43m{\u001b[49m\n\u001b[32m    165\u001b[39m \u001b[43m            \u001b[49m\u001b[43mCONFIG_KEY_CALL\u001b[49m\u001b[43m:\u001b[49m\u001b[43m \u001b[49m\u001b[43mpartial\u001b[49m\u001b[43m(\u001b[49m\n\u001b[32m    166\u001b[39m \u001b[43m                \u001b[49m\u001b[43m_call\u001b[49m\u001b[43m,\u001b[49m\n\u001b[32m    167\u001b[39m \u001b[43m                \u001b[49m\u001b[43mweakref\u001b[49m\u001b[43m.\u001b[49m\u001b[43mref\u001b[49m\u001b[43m(\u001b[49m\u001b[43mt\u001b[49m\u001b[43m)\u001b[49m\u001b[43m,\u001b[49m\n\u001b[32m    168\u001b[39m \u001b[43m                \u001b[49m\u001b[43mretry\u001b[49m\u001b[43m=\u001b[49m\u001b[43mretry_policy\u001b[49m\u001b[43m,\u001b[49m\n\u001b[32m    169\u001b[39m \u001b[43m                \u001b[49m\u001b[43mfutures\u001b[49m\u001b[43m=\u001b[49m\u001b[43mweakref\u001b[49m\u001b[43m.\u001b[49m\u001b[43mref\u001b[49m\u001b[43m(\u001b[49m\u001b[43mfutures\u001b[49m\u001b[43m)\u001b[49m\u001b[43m,\u001b[49m\n\u001b[32m    170\u001b[39m \u001b[43m                \u001b[49m\u001b[43mschedule_task\u001b[49m\u001b[43m=\u001b[49m\u001b[43mschedule_task\u001b[49m\u001b[43m,\u001b[49m\n\u001b[32m    171\u001b[39m \u001b[43m                \u001b[49m\u001b[43msubmit\u001b[49m\u001b[43m=\u001b[49m\u001b[38;5;28;43mself\u001b[39;49m\u001b[43m.\u001b[49m\u001b[43msubmit\u001b[49m\u001b[43m,\u001b[49m\n\u001b[32m    172\u001b[39m \u001b[43m            \u001b[49m\u001b[43m)\u001b[49m\u001b[43m,\u001b[49m\n\u001b[32m    173\u001b[39m \u001b[43m        \u001b[49m\u001b[43m}\u001b[49m\u001b[43m,\u001b[49m\n\u001b[32m    174\u001b[39m \u001b[43m    \u001b[49m\u001b[43m)\u001b[49m\n\u001b[32m    175\u001b[39m     \u001b[38;5;28mself\u001b[39m.commit(t, \u001b[38;5;28;01mNone\u001b[39;00m)\n\u001b[32m    176\u001b[39m \u001b[38;5;28;01mexcept\u001b[39;00m \u001b[38;5;167;01mException\u001b[39;00m \u001b[38;5;28;01mas\u001b[39;00m exc:\n",
      "\u001b[36mFile \u001b[39m\u001b[32mc:\\Users\\Admin\\AppData\\Local\\Programs\\Python\\Python312\\Lib\\site-packages\\langgraph\\pregel\\retry.py:40\u001b[39m, in \u001b[36mrun_with_retry\u001b[39m\u001b[34m(task, retry_policy, configurable)\u001b[39m\n\u001b[32m     38\u001b[39m     task.writes.clear()\n\u001b[32m     39\u001b[39m     \u001b[38;5;66;03m# run the task\u001b[39;00m\n\u001b[32m---> \u001b[39m\u001b[32m40\u001b[39m     \u001b[38;5;28;01mreturn\u001b[39;00m \u001b[43mtask\u001b[49m\u001b[43m.\u001b[49m\u001b[43mproc\u001b[49m\u001b[43m.\u001b[49m\u001b[43minvoke\u001b[49m\u001b[43m(\u001b[49m\u001b[43mtask\u001b[49m\u001b[43m.\u001b[49m\u001b[43minput\u001b[49m\u001b[43m,\u001b[49m\u001b[43m \u001b[49m\u001b[43mconfig\u001b[49m\u001b[43m)\u001b[49m\n\u001b[32m     41\u001b[39m \u001b[38;5;28;01mexcept\u001b[39;00m ParentCommand \u001b[38;5;28;01mas\u001b[39;00m exc:\n\u001b[32m     42\u001b[39m     ns: \u001b[38;5;28mstr\u001b[39m = config[CONF][CONFIG_KEY_CHECKPOINT_NS]\n",
      "\u001b[36mFile \u001b[39m\u001b[32mc:\\Users\\Admin\\AppData\\Local\\Programs\\Python\\Python312\\Lib\\site-packages\\langgraph\\utils\\runnable.py:623\u001b[39m, in \u001b[36mRunnableSeq.invoke\u001b[39m\u001b[34m(self, input, config, **kwargs)\u001b[39m\n\u001b[32m    621\u001b[39m     \u001b[38;5;66;03m# run in context\u001b[39;00m\n\u001b[32m    622\u001b[39m     \u001b[38;5;28;01mwith\u001b[39;00m set_config_context(config, run) \u001b[38;5;28;01mas\u001b[39;00m context:\n\u001b[32m--> \u001b[39m\u001b[32m623\u001b[39m         \u001b[38;5;28minput\u001b[39m = \u001b[43mcontext\u001b[49m\u001b[43m.\u001b[49m\u001b[43mrun\u001b[49m\u001b[43m(\u001b[49m\u001b[43mstep\u001b[49m\u001b[43m.\u001b[49m\u001b[43minvoke\u001b[49m\u001b[43m,\u001b[49m\u001b[43m \u001b[49m\u001b[38;5;28;43minput\u001b[39;49m\u001b[43m,\u001b[49m\u001b[43m \u001b[49m\u001b[43mconfig\u001b[49m\u001b[43m,\u001b[49m\u001b[43m \u001b[49m\u001b[43m*\u001b[49m\u001b[43m*\u001b[49m\u001b[43mkwargs\u001b[49m\u001b[43m)\u001b[49m\n\u001b[32m    624\u001b[39m \u001b[38;5;28;01melse\u001b[39;00m:\n\u001b[32m    625\u001b[39m     \u001b[38;5;28minput\u001b[39m = step.invoke(\u001b[38;5;28minput\u001b[39m, config)\n",
      "\u001b[36mFile \u001b[39m\u001b[32mc:\\Users\\Admin\\AppData\\Local\\Programs\\Python\\Python312\\Lib\\site-packages\\langgraph\\utils\\runnable.py:377\u001b[39m, in \u001b[36mRunnableCallable.invoke\u001b[39m\u001b[34m(self, input, config, **kwargs)\u001b[39m\n\u001b[32m    375\u001b[39m         run_manager.on_chain_end(ret)\n\u001b[32m    376\u001b[39m \u001b[38;5;28;01melse\u001b[39;00m:\n\u001b[32m--> \u001b[39m\u001b[32m377\u001b[39m     ret = \u001b[38;5;28;43mself\u001b[39;49m\u001b[43m.\u001b[49m\u001b[43mfunc\u001b[49m\u001b[43m(\u001b[49m\u001b[43m*\u001b[49m\u001b[43margs\u001b[49m\u001b[43m,\u001b[49m\u001b[43m \u001b[49m\u001b[43m*\u001b[49m\u001b[43m*\u001b[49m\u001b[43mkwargs\u001b[49m\u001b[43m)\u001b[49m\n\u001b[32m    378\u001b[39m \u001b[38;5;28;01mif\u001b[39;00m \u001b[38;5;28mself\u001b[39m.recurse \u001b[38;5;129;01mand\u001b[39;00m \u001b[38;5;28misinstance\u001b[39m(ret, Runnable):\n\u001b[32m    379\u001b[39m     \u001b[38;5;28;01mreturn\u001b[39;00m ret.invoke(\u001b[38;5;28minput\u001b[39m, config)\n",
      "\u001b[36mCell\u001b[39m\u001b[36m \u001b[39m\u001b[32mIn[98]\u001b[39m\u001b[32m, line 2\u001b[39m, in \u001b[36massistant\u001b[39m\u001b[34m(state)\u001b[39m\n\u001b[32m      1\u001b[39m \u001b[38;5;28;01mdef\u001b[39;00m\u001b[38;5;250m \u001b[39m\u001b[34massistant\u001b[39m(state:MessagesState):\n\u001b[32m----> \u001b[39m\u001b[32m2\u001b[39m     \u001b[38;5;28;01mreturn\u001b[39;00m {\u001b[33m\"\u001b[39m\u001b[33mmessages\u001b[39m\u001b[33m\"\u001b[39m:[\u001b[43mllm_with_tools\u001b[49m\u001b[43m.\u001b[49m\u001b[43minvoke\u001b[49m\u001b[43m(\u001b[49m\u001b[43m[\u001b[49m\u001b[43msys_msg\u001b[49m\u001b[43m]\u001b[49m\u001b[43m+\u001b[49m\u001b[43mstate\u001b[49m\u001b[43m[\u001b[49m\u001b[33;43m\"\u001b[39;49m\u001b[33;43mmessages\u001b[39;49m\u001b[33;43m\"\u001b[39;49m\u001b[43m]\u001b[49m\u001b[43m)\u001b[49m]}\n",
      "\u001b[36mFile \u001b[39m\u001b[32mc:\\Users\\Admin\\AppData\\Local\\Programs\\Python\\Python312\\Lib\\site-packages\\langchain_core\\runnables\\base.py:5431\u001b[39m, in \u001b[36mRunnableBindingBase.invoke\u001b[39m\u001b[34m(self, input, config, **kwargs)\u001b[39m\n\u001b[32m   5424\u001b[39m \u001b[38;5;129m@override\u001b[39m\n\u001b[32m   5425\u001b[39m \u001b[38;5;28;01mdef\u001b[39;00m\u001b[38;5;250m \u001b[39m\u001b[34minvoke\u001b[39m(\n\u001b[32m   5426\u001b[39m     \u001b[38;5;28mself\u001b[39m,\n\u001b[32m   (...)\u001b[39m\u001b[32m   5429\u001b[39m     **kwargs: Optional[Any],\n\u001b[32m   5430\u001b[39m ) -> Output:\n\u001b[32m-> \u001b[39m\u001b[32m5431\u001b[39m     \u001b[38;5;28;01mreturn\u001b[39;00m \u001b[38;5;28;43mself\u001b[39;49m\u001b[43m.\u001b[49m\u001b[43mbound\u001b[49m\u001b[43m.\u001b[49m\u001b[43minvoke\u001b[49m\u001b[43m(\u001b[49m\n\u001b[32m   5432\u001b[39m \u001b[43m        \u001b[49m\u001b[38;5;28;43minput\u001b[39;49m\u001b[43m,\u001b[49m\n\u001b[32m   5433\u001b[39m \u001b[43m        \u001b[49m\u001b[38;5;28;43mself\u001b[39;49m\u001b[43m.\u001b[49m\u001b[43m_merge_configs\u001b[49m\u001b[43m(\u001b[49m\u001b[43mconfig\u001b[49m\u001b[43m)\u001b[49m\u001b[43m,\u001b[49m\n\u001b[32m   5434\u001b[39m \u001b[43m        \u001b[49m\u001b[43m*\u001b[49m\u001b[43m*\u001b[49m\u001b[43m{\u001b[49m\u001b[43m*\u001b[49m\u001b[43m*\u001b[49m\u001b[38;5;28;43mself\u001b[39;49m\u001b[43m.\u001b[49m\u001b[43mkwargs\u001b[49m\u001b[43m,\u001b[49m\u001b[43m \u001b[49m\u001b[43m*\u001b[49m\u001b[43m*\u001b[49m\u001b[43mkwargs\u001b[49m\u001b[43m}\u001b[49m\u001b[43m,\u001b[49m\n\u001b[32m   5435\u001b[39m \u001b[43m    \u001b[49m\u001b[43m)\u001b[49m\n",
      "\u001b[36mFile \u001b[39m\u001b[32mc:\\Users\\Admin\\AppData\\Local\\Programs\\Python\\Python312\\Lib\\site-packages\\langchain_core\\language_models\\chat_models.py:372\u001b[39m, in \u001b[36mBaseChatModel.invoke\u001b[39m\u001b[34m(self, input, config, stop, **kwargs)\u001b[39m\n\u001b[32m    360\u001b[39m \u001b[38;5;129m@override\u001b[39m\n\u001b[32m    361\u001b[39m \u001b[38;5;28;01mdef\u001b[39;00m\u001b[38;5;250m \u001b[39m\u001b[34minvoke\u001b[39m(\n\u001b[32m    362\u001b[39m     \u001b[38;5;28mself\u001b[39m,\n\u001b[32m   (...)\u001b[39m\u001b[32m    367\u001b[39m     **kwargs: Any,\n\u001b[32m    368\u001b[39m ) -> BaseMessage:\n\u001b[32m    369\u001b[39m     config = ensure_config(config)\n\u001b[32m    370\u001b[39m     \u001b[38;5;28;01mreturn\u001b[39;00m cast(\n\u001b[32m    371\u001b[39m         \u001b[33m\"\u001b[39m\u001b[33mChatGeneration\u001b[39m\u001b[33m\"\u001b[39m,\n\u001b[32m--> \u001b[39m\u001b[32m372\u001b[39m         \u001b[38;5;28;43mself\u001b[39;49m\u001b[43m.\u001b[49m\u001b[43mgenerate_prompt\u001b[49m\u001b[43m(\u001b[49m\n\u001b[32m    373\u001b[39m \u001b[43m            \u001b[49m\u001b[43m[\u001b[49m\u001b[38;5;28;43mself\u001b[39;49m\u001b[43m.\u001b[49m\u001b[43m_convert_input\u001b[49m\u001b[43m(\u001b[49m\u001b[38;5;28;43minput\u001b[39;49m\u001b[43m)\u001b[49m\u001b[43m]\u001b[49m\u001b[43m,\u001b[49m\n\u001b[32m    374\u001b[39m \u001b[43m            \u001b[49m\u001b[43mstop\u001b[49m\u001b[43m=\u001b[49m\u001b[43mstop\u001b[49m\u001b[43m,\u001b[49m\n\u001b[32m    375\u001b[39m \u001b[43m            \u001b[49m\u001b[43mcallbacks\u001b[49m\u001b[43m=\u001b[49m\u001b[43mconfig\u001b[49m\u001b[43m.\u001b[49m\u001b[43mget\u001b[49m\u001b[43m(\u001b[49m\u001b[33;43m\"\u001b[39;49m\u001b[33;43mcallbacks\u001b[39;49m\u001b[33;43m\"\u001b[39;49m\u001b[43m)\u001b[49m\u001b[43m,\u001b[49m\n\u001b[32m    376\u001b[39m \u001b[43m            \u001b[49m\u001b[43mtags\u001b[49m\u001b[43m=\u001b[49m\u001b[43mconfig\u001b[49m\u001b[43m.\u001b[49m\u001b[43mget\u001b[49m\u001b[43m(\u001b[49m\u001b[33;43m\"\u001b[39;49m\u001b[33;43mtags\u001b[39;49m\u001b[33;43m\"\u001b[39;49m\u001b[43m)\u001b[49m\u001b[43m,\u001b[49m\n\u001b[32m    377\u001b[39m \u001b[43m            \u001b[49m\u001b[43mmetadata\u001b[49m\u001b[43m=\u001b[49m\u001b[43mconfig\u001b[49m\u001b[43m.\u001b[49m\u001b[43mget\u001b[49m\u001b[43m(\u001b[49m\u001b[33;43m\"\u001b[39;49m\u001b[33;43mmetadata\u001b[39;49m\u001b[33;43m\"\u001b[39;49m\u001b[43m)\u001b[49m\u001b[43m,\u001b[49m\n\u001b[32m    378\u001b[39m \u001b[43m            \u001b[49m\u001b[43mrun_name\u001b[49m\u001b[43m=\u001b[49m\u001b[43mconfig\u001b[49m\u001b[43m.\u001b[49m\u001b[43mget\u001b[49m\u001b[43m(\u001b[49m\u001b[33;43m\"\u001b[39;49m\u001b[33;43mrun_name\u001b[39;49m\u001b[33;43m\"\u001b[39;49m\u001b[43m)\u001b[49m\u001b[43m,\u001b[49m\n\u001b[32m    379\u001b[39m \u001b[43m            \u001b[49m\u001b[43mrun_id\u001b[49m\u001b[43m=\u001b[49m\u001b[43mconfig\u001b[49m\u001b[43m.\u001b[49m\u001b[43mpop\u001b[49m\u001b[43m(\u001b[49m\u001b[33;43m\"\u001b[39;49m\u001b[33;43mrun_id\u001b[39;49m\u001b[33;43m\"\u001b[39;49m\u001b[43m,\u001b[49m\u001b[43m \u001b[49m\u001b[38;5;28;43;01mNone\u001b[39;49;00m\u001b[43m)\u001b[49m\u001b[43m,\u001b[49m\n\u001b[32m    380\u001b[39m \u001b[43m            \u001b[49m\u001b[43m*\u001b[49m\u001b[43m*\u001b[49m\u001b[43mkwargs\u001b[49m\u001b[43m,\u001b[49m\n\u001b[32m    381\u001b[39m \u001b[43m        \u001b[49m\u001b[43m)\u001b[49m.generations[\u001b[32m0\u001b[39m][\u001b[32m0\u001b[39m],\n\u001b[32m    382\u001b[39m     ).message\n",
      "\u001b[36mFile \u001b[39m\u001b[32mc:\\Users\\Admin\\AppData\\Local\\Programs\\Python\\Python312\\Lib\\site-packages\\langchain_core\\language_models\\chat_models.py:957\u001b[39m, in \u001b[36mBaseChatModel.generate_prompt\u001b[39m\u001b[34m(self, prompts, stop, callbacks, **kwargs)\u001b[39m\n\u001b[32m    948\u001b[39m \u001b[38;5;129m@override\u001b[39m\n\u001b[32m    949\u001b[39m \u001b[38;5;28;01mdef\u001b[39;00m\u001b[38;5;250m \u001b[39m\u001b[34mgenerate_prompt\u001b[39m(\n\u001b[32m    950\u001b[39m     \u001b[38;5;28mself\u001b[39m,\n\u001b[32m   (...)\u001b[39m\u001b[32m    954\u001b[39m     **kwargs: Any,\n\u001b[32m    955\u001b[39m ) -> LLMResult:\n\u001b[32m    956\u001b[39m     prompt_messages = [p.to_messages() \u001b[38;5;28;01mfor\u001b[39;00m p \u001b[38;5;129;01min\u001b[39;00m prompts]\n\u001b[32m--> \u001b[39m\u001b[32m957\u001b[39m     \u001b[38;5;28;01mreturn\u001b[39;00m \u001b[38;5;28;43mself\u001b[39;49m\u001b[43m.\u001b[49m\u001b[43mgenerate\u001b[49m\u001b[43m(\u001b[49m\u001b[43mprompt_messages\u001b[49m\u001b[43m,\u001b[49m\u001b[43m \u001b[49m\u001b[43mstop\u001b[49m\u001b[43m=\u001b[49m\u001b[43mstop\u001b[49m\u001b[43m,\u001b[49m\u001b[43m \u001b[49m\u001b[43mcallbacks\u001b[49m\u001b[43m=\u001b[49m\u001b[43mcallbacks\u001b[49m\u001b[43m,\u001b[49m\u001b[43m \u001b[49m\u001b[43m*\u001b[49m\u001b[43m*\u001b[49m\u001b[43mkwargs\u001b[49m\u001b[43m)\u001b[49m\n",
      "\u001b[36mFile \u001b[39m\u001b[32mc:\\Users\\Admin\\AppData\\Local\\Programs\\Python\\Python312\\Lib\\site-packages\\langchain_core\\language_models\\chat_models.py:776\u001b[39m, in \u001b[36mBaseChatModel.generate\u001b[39m\u001b[34m(self, messages, stop, callbacks, tags, metadata, run_name, run_id, **kwargs)\u001b[39m\n\u001b[32m    773\u001b[39m \u001b[38;5;28;01mfor\u001b[39;00m i, m \u001b[38;5;129;01min\u001b[39;00m \u001b[38;5;28menumerate\u001b[39m(input_messages):\n\u001b[32m    774\u001b[39m     \u001b[38;5;28;01mtry\u001b[39;00m:\n\u001b[32m    775\u001b[39m         results.append(\n\u001b[32m--> \u001b[39m\u001b[32m776\u001b[39m             \u001b[38;5;28;43mself\u001b[39;49m\u001b[43m.\u001b[49m\u001b[43m_generate_with_cache\u001b[49m\u001b[43m(\u001b[49m\n\u001b[32m    777\u001b[39m \u001b[43m                \u001b[49m\u001b[43mm\u001b[49m\u001b[43m,\u001b[49m\n\u001b[32m    778\u001b[39m \u001b[43m                \u001b[49m\u001b[43mstop\u001b[49m\u001b[43m=\u001b[49m\u001b[43mstop\u001b[49m\u001b[43m,\u001b[49m\n\u001b[32m    779\u001b[39m \u001b[43m                \u001b[49m\u001b[43mrun_manager\u001b[49m\u001b[43m=\u001b[49m\u001b[43mrun_managers\u001b[49m\u001b[43m[\u001b[49m\u001b[43mi\u001b[49m\u001b[43m]\u001b[49m\u001b[43m \u001b[49m\u001b[38;5;28;43;01mif\u001b[39;49;00m\u001b[43m \u001b[49m\u001b[43mrun_managers\u001b[49m\u001b[43m \u001b[49m\u001b[38;5;28;43;01melse\u001b[39;49;00m\u001b[43m \u001b[49m\u001b[38;5;28;43;01mNone\u001b[39;49;00m\u001b[43m,\u001b[49m\n\u001b[32m    780\u001b[39m \u001b[43m                \u001b[49m\u001b[43m*\u001b[49m\u001b[43m*\u001b[49m\u001b[43mkwargs\u001b[49m\u001b[43m,\u001b[49m\n\u001b[32m    781\u001b[39m \u001b[43m            \u001b[49m\u001b[43m)\u001b[49m\n\u001b[32m    782\u001b[39m         )\n\u001b[32m    783\u001b[39m     \u001b[38;5;28;01mexcept\u001b[39;00m \u001b[38;5;167;01mBaseException\u001b[39;00m \u001b[38;5;28;01mas\u001b[39;00m e:\n\u001b[32m    784\u001b[39m         \u001b[38;5;28;01mif\u001b[39;00m run_managers:\n",
      "\u001b[36mFile \u001b[39m\u001b[32mc:\\Users\\Admin\\AppData\\Local\\Programs\\Python\\Python312\\Lib\\site-packages\\langchain_core\\language_models\\chat_models.py:1022\u001b[39m, in \u001b[36mBaseChatModel._generate_with_cache\u001b[39m\u001b[34m(self, messages, stop, run_manager, **kwargs)\u001b[39m\n\u001b[32m   1020\u001b[39m     result = generate_from_stream(\u001b[38;5;28miter\u001b[39m(chunks))\n\u001b[32m   1021\u001b[39m \u001b[38;5;28;01melif\u001b[39;00m inspect.signature(\u001b[38;5;28mself\u001b[39m._generate).parameters.get(\u001b[33m\"\u001b[39m\u001b[33mrun_manager\u001b[39m\u001b[33m\"\u001b[39m):\n\u001b[32m-> \u001b[39m\u001b[32m1022\u001b[39m     result = \u001b[38;5;28;43mself\u001b[39;49m\u001b[43m.\u001b[49m\u001b[43m_generate\u001b[49m\u001b[43m(\u001b[49m\n\u001b[32m   1023\u001b[39m \u001b[43m        \u001b[49m\u001b[43mmessages\u001b[49m\u001b[43m,\u001b[49m\u001b[43m \u001b[49m\u001b[43mstop\u001b[49m\u001b[43m=\u001b[49m\u001b[43mstop\u001b[49m\u001b[43m,\u001b[49m\u001b[43m \u001b[49m\u001b[43mrun_manager\u001b[49m\u001b[43m=\u001b[49m\u001b[43mrun_manager\u001b[49m\u001b[43m,\u001b[49m\u001b[43m \u001b[49m\u001b[43m*\u001b[49m\u001b[43m*\u001b[49m\u001b[43mkwargs\u001b[49m\n\u001b[32m   1024\u001b[39m \u001b[43m    \u001b[49m\u001b[43m)\u001b[49m\n\u001b[32m   1025\u001b[39m \u001b[38;5;28;01melse\u001b[39;00m:\n\u001b[32m   1026\u001b[39m     result = \u001b[38;5;28mself\u001b[39m._generate(messages, stop=stop, **kwargs)\n",
      "\u001b[36mFile \u001b[39m\u001b[32mc:\\Users\\Admin\\AppData\\Local\\Programs\\Python\\Python312\\Lib\\site-packages\\langchain_groq\\chat_models.py:498\u001b[39m, in \u001b[36mChatGroq._generate\u001b[39m\u001b[34m(self, messages, stop, run_manager, **kwargs)\u001b[39m\n\u001b[32m    493\u001b[39m message_dicts, params = \u001b[38;5;28mself\u001b[39m._create_message_dicts(messages, stop)\n\u001b[32m    494\u001b[39m params = {\n\u001b[32m    495\u001b[39m     **params,\n\u001b[32m    496\u001b[39m     **kwargs,\n\u001b[32m    497\u001b[39m }\n\u001b[32m--> \u001b[39m\u001b[32m498\u001b[39m response = \u001b[38;5;28;43mself\u001b[39;49m\u001b[43m.\u001b[49m\u001b[43mclient\u001b[49m\u001b[43m.\u001b[49m\u001b[43mcreate\u001b[49m\u001b[43m(\u001b[49m\u001b[43mmessages\u001b[49m\u001b[43m=\u001b[49m\u001b[43mmessage_dicts\u001b[49m\u001b[43m,\u001b[49m\u001b[43m \u001b[49m\u001b[43m*\u001b[49m\u001b[43m*\u001b[49m\u001b[43mparams\u001b[49m\u001b[43m)\u001b[49m\n\u001b[32m    499\u001b[39m \u001b[38;5;28;01mreturn\u001b[39;00m \u001b[38;5;28mself\u001b[39m._create_chat_result(response)\n",
      "\u001b[36mFile \u001b[39m\u001b[32mc:\\Users\\Admin\\AppData\\Local\\Programs\\Python\\Python312\\Lib\\site-packages\\groq\\resources\\chat\\completions.py:361\u001b[39m, in \u001b[36mCompletions.create\u001b[39m\u001b[34m(self, messages, model, exclude_domains, frequency_penalty, function_call, functions, include_domains, logit_bias, logprobs, max_completion_tokens, max_tokens, metadata, n, parallel_tool_calls, presence_penalty, reasoning_format, response_format, search_settings, seed, service_tier, stop, store, stream, temperature, tool_choice, tools, top_logprobs, top_p, user, extra_headers, extra_query, extra_body, timeout)\u001b[39m\n\u001b[32m    178\u001b[39m \u001b[38;5;28;01mdef\u001b[39;00m\u001b[38;5;250m \u001b[39m\u001b[34mcreate\u001b[39m(\n\u001b[32m    179\u001b[39m     \u001b[38;5;28mself\u001b[39m,\n\u001b[32m    180\u001b[39m     *,\n\u001b[32m   (...)\u001b[39m\u001b[32m    225\u001b[39m     timeout: \u001b[38;5;28mfloat\u001b[39m | httpx.Timeout | \u001b[38;5;28;01mNone\u001b[39;00m | NotGiven = NOT_GIVEN,\n\u001b[32m    226\u001b[39m ) -> ChatCompletion | Stream[ChatCompletionChunk]:\n\u001b[32m    227\u001b[39m \u001b[38;5;250m    \u001b[39m\u001b[33;03m\"\"\"\u001b[39;00m\n\u001b[32m    228\u001b[39m \u001b[33;03m    Creates a model response for the given chat conversation.\u001b[39;00m\n\u001b[32m    229\u001b[39m \n\u001b[32m   (...)\u001b[39m\u001b[32m    359\u001b[39m \u001b[33;03m      timeout: Override the client-level default timeout for this request, in seconds\u001b[39;00m\n\u001b[32m    360\u001b[39m \u001b[33;03m    \"\"\"\u001b[39;00m\n\u001b[32m--> \u001b[39m\u001b[32m361\u001b[39m     \u001b[38;5;28;01mreturn\u001b[39;00m \u001b[38;5;28;43mself\u001b[39;49m\u001b[43m.\u001b[49m\u001b[43m_post\u001b[49m\u001b[43m(\u001b[49m\n\u001b[32m    362\u001b[39m \u001b[43m        \u001b[49m\u001b[33;43m\"\u001b[39;49m\u001b[33;43m/openai/v1/chat/completions\u001b[39;49m\u001b[33;43m\"\u001b[39;49m\u001b[43m,\u001b[49m\n\u001b[32m    363\u001b[39m \u001b[43m        \u001b[49m\u001b[43mbody\u001b[49m\u001b[43m=\u001b[49m\u001b[43mmaybe_transform\u001b[49m\u001b[43m(\u001b[49m\n\u001b[32m    364\u001b[39m \u001b[43m            \u001b[49m\u001b[43m{\u001b[49m\n\u001b[32m    365\u001b[39m \u001b[43m                \u001b[49m\u001b[33;43m\"\u001b[39;49m\u001b[33;43mmessages\u001b[39;49m\u001b[33;43m\"\u001b[39;49m\u001b[43m:\u001b[49m\u001b[43m \u001b[49m\u001b[43mmessages\u001b[49m\u001b[43m,\u001b[49m\n\u001b[32m    366\u001b[39m \u001b[43m                \u001b[49m\u001b[33;43m\"\u001b[39;49m\u001b[33;43mmodel\u001b[39;49m\u001b[33;43m\"\u001b[39;49m\u001b[43m:\u001b[49m\u001b[43m \u001b[49m\u001b[43mmodel\u001b[49m\u001b[43m,\u001b[49m\n\u001b[32m    367\u001b[39m \u001b[43m                \u001b[49m\u001b[33;43m\"\u001b[39;49m\u001b[33;43mexclude_domains\u001b[39;49m\u001b[33;43m\"\u001b[39;49m\u001b[43m:\u001b[49m\u001b[43m \u001b[49m\u001b[43mexclude_domains\u001b[49m\u001b[43m,\u001b[49m\n\u001b[32m    368\u001b[39m \u001b[43m                \u001b[49m\u001b[33;43m\"\u001b[39;49m\u001b[33;43mfrequency_penalty\u001b[39;49m\u001b[33;43m\"\u001b[39;49m\u001b[43m:\u001b[49m\u001b[43m \u001b[49m\u001b[43mfrequency_penalty\u001b[49m\u001b[43m,\u001b[49m\n\u001b[32m    369\u001b[39m \u001b[43m                \u001b[49m\u001b[33;43m\"\u001b[39;49m\u001b[33;43mfunction_call\u001b[39;49m\u001b[33;43m\"\u001b[39;49m\u001b[43m:\u001b[49m\u001b[43m \u001b[49m\u001b[43mfunction_call\u001b[49m\u001b[43m,\u001b[49m\n\u001b[32m    370\u001b[39m \u001b[43m                \u001b[49m\u001b[33;43m\"\u001b[39;49m\u001b[33;43mfunctions\u001b[39;49m\u001b[33;43m\"\u001b[39;49m\u001b[43m:\u001b[49m\u001b[43m \u001b[49m\u001b[43mfunctions\u001b[49m\u001b[43m,\u001b[49m\n\u001b[32m    371\u001b[39m \u001b[43m                \u001b[49m\u001b[33;43m\"\u001b[39;49m\u001b[33;43minclude_domains\u001b[39;49m\u001b[33;43m\"\u001b[39;49m\u001b[43m:\u001b[49m\u001b[43m \u001b[49m\u001b[43minclude_domains\u001b[49m\u001b[43m,\u001b[49m\n\u001b[32m    372\u001b[39m \u001b[43m                \u001b[49m\u001b[33;43m\"\u001b[39;49m\u001b[33;43mlogit_bias\u001b[39;49m\u001b[33;43m\"\u001b[39;49m\u001b[43m:\u001b[49m\u001b[43m \u001b[49m\u001b[43mlogit_bias\u001b[49m\u001b[43m,\u001b[49m\n\u001b[32m    373\u001b[39m \u001b[43m                \u001b[49m\u001b[33;43m\"\u001b[39;49m\u001b[33;43mlogprobs\u001b[39;49m\u001b[33;43m\"\u001b[39;49m\u001b[43m:\u001b[49m\u001b[43m \u001b[49m\u001b[43mlogprobs\u001b[49m\u001b[43m,\u001b[49m\n\u001b[32m    374\u001b[39m \u001b[43m                \u001b[49m\u001b[33;43m\"\u001b[39;49m\u001b[33;43mmax_completion_tokens\u001b[39;49m\u001b[33;43m\"\u001b[39;49m\u001b[43m:\u001b[49m\u001b[43m \u001b[49m\u001b[43mmax_completion_tokens\u001b[49m\u001b[43m,\u001b[49m\n\u001b[32m    375\u001b[39m \u001b[43m                \u001b[49m\u001b[33;43m\"\u001b[39;49m\u001b[33;43mmax_tokens\u001b[39;49m\u001b[33;43m\"\u001b[39;49m\u001b[43m:\u001b[49m\u001b[43m \u001b[49m\u001b[43mmax_tokens\u001b[49m\u001b[43m,\u001b[49m\n\u001b[32m    376\u001b[39m \u001b[43m                \u001b[49m\u001b[33;43m\"\u001b[39;49m\u001b[33;43mmetadata\u001b[39;49m\u001b[33;43m\"\u001b[39;49m\u001b[43m:\u001b[49m\u001b[43m \u001b[49m\u001b[43mmetadata\u001b[49m\u001b[43m,\u001b[49m\n\u001b[32m    377\u001b[39m \u001b[43m                \u001b[49m\u001b[33;43m\"\u001b[39;49m\u001b[33;43mn\u001b[39;49m\u001b[33;43m\"\u001b[39;49m\u001b[43m:\u001b[49m\u001b[43m \u001b[49m\u001b[43mn\u001b[49m\u001b[43m,\u001b[49m\n\u001b[32m    378\u001b[39m \u001b[43m                \u001b[49m\u001b[33;43m\"\u001b[39;49m\u001b[33;43mparallel_tool_calls\u001b[39;49m\u001b[33;43m\"\u001b[39;49m\u001b[43m:\u001b[49m\u001b[43m \u001b[49m\u001b[43mparallel_tool_calls\u001b[49m\u001b[43m,\u001b[49m\n\u001b[32m    379\u001b[39m \u001b[43m                \u001b[49m\u001b[33;43m\"\u001b[39;49m\u001b[33;43mpresence_penalty\u001b[39;49m\u001b[33;43m\"\u001b[39;49m\u001b[43m:\u001b[49m\u001b[43m \u001b[49m\u001b[43mpresence_penalty\u001b[49m\u001b[43m,\u001b[49m\n\u001b[32m    380\u001b[39m \u001b[43m                \u001b[49m\u001b[33;43m\"\u001b[39;49m\u001b[33;43mreasoning_format\u001b[39;49m\u001b[33;43m\"\u001b[39;49m\u001b[43m:\u001b[49m\u001b[43m \u001b[49m\u001b[43mreasoning_format\u001b[49m\u001b[43m,\u001b[49m\n\u001b[32m    381\u001b[39m \u001b[43m                \u001b[49m\u001b[33;43m\"\u001b[39;49m\u001b[33;43mresponse_format\u001b[39;49m\u001b[33;43m\"\u001b[39;49m\u001b[43m:\u001b[49m\u001b[43m \u001b[49m\u001b[43mresponse_format\u001b[49m\u001b[43m,\u001b[49m\n\u001b[32m    382\u001b[39m \u001b[43m                \u001b[49m\u001b[33;43m\"\u001b[39;49m\u001b[33;43msearch_settings\u001b[39;49m\u001b[33;43m\"\u001b[39;49m\u001b[43m:\u001b[49m\u001b[43m \u001b[49m\u001b[43msearch_settings\u001b[49m\u001b[43m,\u001b[49m\n\u001b[32m    383\u001b[39m \u001b[43m                \u001b[49m\u001b[33;43m\"\u001b[39;49m\u001b[33;43mseed\u001b[39;49m\u001b[33;43m\"\u001b[39;49m\u001b[43m:\u001b[49m\u001b[43m \u001b[49m\u001b[43mseed\u001b[49m\u001b[43m,\u001b[49m\n\u001b[32m    384\u001b[39m \u001b[43m                \u001b[49m\u001b[33;43m\"\u001b[39;49m\u001b[33;43mservice_tier\u001b[39;49m\u001b[33;43m\"\u001b[39;49m\u001b[43m:\u001b[49m\u001b[43m \u001b[49m\u001b[43mservice_tier\u001b[49m\u001b[43m,\u001b[49m\n\u001b[32m    385\u001b[39m \u001b[43m                \u001b[49m\u001b[33;43m\"\u001b[39;49m\u001b[33;43mstop\u001b[39;49m\u001b[33;43m\"\u001b[39;49m\u001b[43m:\u001b[49m\u001b[43m \u001b[49m\u001b[43mstop\u001b[49m\u001b[43m,\u001b[49m\n\u001b[32m    386\u001b[39m \u001b[43m                \u001b[49m\u001b[33;43m\"\u001b[39;49m\u001b[33;43mstore\u001b[39;49m\u001b[33;43m\"\u001b[39;49m\u001b[43m:\u001b[49m\u001b[43m \u001b[49m\u001b[43mstore\u001b[49m\u001b[43m,\u001b[49m\n\u001b[32m    387\u001b[39m \u001b[43m                \u001b[49m\u001b[33;43m\"\u001b[39;49m\u001b[33;43mstream\u001b[39;49m\u001b[33;43m\"\u001b[39;49m\u001b[43m:\u001b[49m\u001b[43m \u001b[49m\u001b[43mstream\u001b[49m\u001b[43m,\u001b[49m\n\u001b[32m    388\u001b[39m \u001b[43m                \u001b[49m\u001b[33;43m\"\u001b[39;49m\u001b[33;43mtemperature\u001b[39;49m\u001b[33;43m\"\u001b[39;49m\u001b[43m:\u001b[49m\u001b[43m \u001b[49m\u001b[43mtemperature\u001b[49m\u001b[43m,\u001b[49m\n\u001b[32m    389\u001b[39m \u001b[43m                \u001b[49m\u001b[33;43m\"\u001b[39;49m\u001b[33;43mtool_choice\u001b[39;49m\u001b[33;43m\"\u001b[39;49m\u001b[43m:\u001b[49m\u001b[43m \u001b[49m\u001b[43mtool_choice\u001b[49m\u001b[43m,\u001b[49m\n\u001b[32m    390\u001b[39m \u001b[43m                \u001b[49m\u001b[33;43m\"\u001b[39;49m\u001b[33;43mtools\u001b[39;49m\u001b[33;43m\"\u001b[39;49m\u001b[43m:\u001b[49m\u001b[43m \u001b[49m\u001b[43mtools\u001b[49m\u001b[43m,\u001b[49m\n\u001b[32m    391\u001b[39m \u001b[43m                \u001b[49m\u001b[33;43m\"\u001b[39;49m\u001b[33;43mtop_logprobs\u001b[39;49m\u001b[33;43m\"\u001b[39;49m\u001b[43m:\u001b[49m\u001b[43m \u001b[49m\u001b[43mtop_logprobs\u001b[49m\u001b[43m,\u001b[49m\n\u001b[32m    392\u001b[39m \u001b[43m                \u001b[49m\u001b[33;43m\"\u001b[39;49m\u001b[33;43mtop_p\u001b[39;49m\u001b[33;43m\"\u001b[39;49m\u001b[43m:\u001b[49m\u001b[43m \u001b[49m\u001b[43mtop_p\u001b[49m\u001b[43m,\u001b[49m\n\u001b[32m    393\u001b[39m \u001b[43m                \u001b[49m\u001b[33;43m\"\u001b[39;49m\u001b[33;43muser\u001b[39;49m\u001b[33;43m\"\u001b[39;49m\u001b[43m:\u001b[49m\u001b[43m \u001b[49m\u001b[43muser\u001b[49m\u001b[43m,\u001b[49m\n\u001b[32m    394\u001b[39m \u001b[43m            \u001b[49m\u001b[43m}\u001b[49m\u001b[43m,\u001b[49m\n\u001b[32m    395\u001b[39m \u001b[43m            \u001b[49m\u001b[43mcompletion_create_params\u001b[49m\u001b[43m.\u001b[49m\u001b[43mCompletionCreateParams\u001b[49m\u001b[43m,\u001b[49m\n\u001b[32m    396\u001b[39m \u001b[43m        \u001b[49m\u001b[43m)\u001b[49m\u001b[43m,\u001b[49m\n\u001b[32m    397\u001b[39m \u001b[43m        \u001b[49m\u001b[43moptions\u001b[49m\u001b[43m=\u001b[49m\u001b[43mmake_request_options\u001b[49m\u001b[43m(\u001b[49m\n\u001b[32m    398\u001b[39m \u001b[43m            \u001b[49m\u001b[43mextra_headers\u001b[49m\u001b[43m=\u001b[49m\u001b[43mextra_headers\u001b[49m\u001b[43m,\u001b[49m\u001b[43m \u001b[49m\u001b[43mextra_query\u001b[49m\u001b[43m=\u001b[49m\u001b[43mextra_query\u001b[49m\u001b[43m,\u001b[49m\u001b[43m \u001b[49m\u001b[43mextra_body\u001b[49m\u001b[43m=\u001b[49m\u001b[43mextra_body\u001b[49m\u001b[43m,\u001b[49m\u001b[43m \u001b[49m\u001b[43mtimeout\u001b[49m\u001b[43m=\u001b[49m\u001b[43mtimeout\u001b[49m\n\u001b[32m    399\u001b[39m \u001b[43m        \u001b[49m\u001b[43m)\u001b[49m\u001b[43m,\u001b[49m\n\u001b[32m    400\u001b[39m \u001b[43m        \u001b[49m\u001b[43mcast_to\u001b[49m\u001b[43m=\u001b[49m\u001b[43mChatCompletion\u001b[49m\u001b[43m,\u001b[49m\n\u001b[32m    401\u001b[39m \u001b[43m        \u001b[49m\u001b[43mstream\u001b[49m\u001b[43m=\u001b[49m\u001b[43mstream\u001b[49m\u001b[43m \u001b[49m\u001b[38;5;129;43;01mor\u001b[39;49;00m\u001b[43m \u001b[49m\u001b[38;5;28;43;01mFalse\u001b[39;49;00m\u001b[43m,\u001b[49m\n\u001b[32m    402\u001b[39m \u001b[43m        \u001b[49m\u001b[43mstream_cls\u001b[49m\u001b[43m=\u001b[49m\u001b[43mStream\u001b[49m\u001b[43m[\u001b[49m\u001b[43mChatCompletionChunk\u001b[49m\u001b[43m]\u001b[49m\u001b[43m,\u001b[49m\n\u001b[32m    403\u001b[39m \u001b[43m    \u001b[49m\u001b[43m)\u001b[49m\n",
      "\u001b[36mFile \u001b[39m\u001b[32mc:\\Users\\Admin\\AppData\\Local\\Programs\\Python\\Python312\\Lib\\site-packages\\groq\\_base_client.py:1222\u001b[39m, in \u001b[36mSyncAPIClient.post\u001b[39m\u001b[34m(self, path, cast_to, body, options, files, stream, stream_cls)\u001b[39m\n\u001b[32m   1208\u001b[39m \u001b[38;5;28;01mdef\u001b[39;00m\u001b[38;5;250m \u001b[39m\u001b[34mpost\u001b[39m(\n\u001b[32m   1209\u001b[39m     \u001b[38;5;28mself\u001b[39m,\n\u001b[32m   1210\u001b[39m     path: \u001b[38;5;28mstr\u001b[39m,\n\u001b[32m   (...)\u001b[39m\u001b[32m   1217\u001b[39m     stream_cls: \u001b[38;5;28mtype\u001b[39m[_StreamT] | \u001b[38;5;28;01mNone\u001b[39;00m = \u001b[38;5;28;01mNone\u001b[39;00m,\n\u001b[32m   1218\u001b[39m ) -> ResponseT | _StreamT:\n\u001b[32m   1219\u001b[39m     opts = FinalRequestOptions.construct(\n\u001b[32m   1220\u001b[39m         method=\u001b[33m\"\u001b[39m\u001b[33mpost\u001b[39m\u001b[33m\"\u001b[39m, url=path, json_data=body, files=to_httpx_files(files), **options\n\u001b[32m   1221\u001b[39m     )\n\u001b[32m-> \u001b[39m\u001b[32m1222\u001b[39m     \u001b[38;5;28;01mreturn\u001b[39;00m cast(ResponseT, \u001b[38;5;28;43mself\u001b[39;49m\u001b[43m.\u001b[49m\u001b[43mrequest\u001b[49m\u001b[43m(\u001b[49m\u001b[43mcast_to\u001b[49m\u001b[43m,\u001b[49m\u001b[43m \u001b[49m\u001b[43mopts\u001b[49m\u001b[43m,\u001b[49m\u001b[43m \u001b[49m\u001b[43mstream\u001b[49m\u001b[43m=\u001b[49m\u001b[43mstream\u001b[49m\u001b[43m,\u001b[49m\u001b[43m \u001b[49m\u001b[43mstream_cls\u001b[49m\u001b[43m=\u001b[49m\u001b[43mstream_cls\u001b[49m\u001b[43m)\u001b[49m)\n",
      "\u001b[36mFile \u001b[39m\u001b[32mc:\\Users\\Admin\\AppData\\Local\\Programs\\Python\\Python312\\Lib\\site-packages\\groq\\_base_client.py:1031\u001b[39m, in \u001b[36mSyncAPIClient.request\u001b[39m\u001b[34m(self, cast_to, options, stream, stream_cls)\u001b[39m\n\u001b[32m   1028\u001b[39m             err.response.read()\n\u001b[32m   1030\u001b[39m         log.debug(\u001b[33m\"\u001b[39m\u001b[33mRe-raising status error\u001b[39m\u001b[33m\"\u001b[39m)\n\u001b[32m-> \u001b[39m\u001b[32m1031\u001b[39m         \u001b[38;5;28;01mraise\u001b[39;00m \u001b[38;5;28mself\u001b[39m._make_status_error_from_response(err.response) \u001b[38;5;28;01mfrom\u001b[39;00m\u001b[38;5;250m \u001b[39m\u001b[38;5;28;01mNone\u001b[39;00m\n\u001b[32m   1033\u001b[39m     \u001b[38;5;28;01mbreak\u001b[39;00m\n\u001b[32m   1035\u001b[39m \u001b[38;5;28;01massert\u001b[39;00m response \u001b[38;5;129;01mis\u001b[39;00m \u001b[38;5;129;01mnot\u001b[39;00m \u001b[38;5;28;01mNone\u001b[39;00m, \u001b[33m\"\u001b[39m\u001b[33mcould not resolve response (should never happen)\u001b[39m\u001b[33m\"\u001b[39m\n",
      "\u001b[31mBadRequestError\u001b[39m: Error code: 400 - {'error': {'message': \"Failed to call a function. Please adjust your prompt. See 'failed_generation' for more details.\", 'type': 'invalid_request_error', 'code': 'tool_use_failed', 'failed_generation': '<function=duckduckgo_search{\"query\": \"current GDP of China and India\"}</function>\\n<function=duckduckgo_search{\"query\": \"GDP difference between China and India\"}</function>'}}",
      "During task with name 'assistant' and id 'd08c158a-0949-58e8-bdf6-76fcc9131041'"
     ]
    }
   ],
   "source": [
    "response=react_app.invoke({\"messages\":messages})"
   ]
  },
  {
   "cell_type": "code",
   "execution_count": 119,
   "id": "ed95b3be",
   "metadata": {},
   "outputs": [
    {
     "name": "stdout",
     "output_type": "stream",
     "text": [
      "================================\u001b[1m Human Message \u001b[0m=================================\n",
      "\n",
      "hi hello how are you?\n",
      "==================================\u001b[1m Ai Message \u001b[0m==================================\n",
      "\n",
      "I'm doing well, thank you for asking. Is there something I can help you with, like a math problem or a question that you'd like me to search for?\n"
     ]
    }
   ],
   "source": [
    "for m in response[\"messages\"]:\n",
    "    m.pretty_print()"
   ]
  },
  {
   "cell_type": "markdown",
   "id": "4f3f413f",
   "metadata": {},
   "source": [
    "As of 2023, China's GDP is approximately $17.73 trillion, while India's GDP is about $3.9 trillion. The difference in their GDPs is approximately $13.83 trillion, with China's economy being larger than India's by this amount."
   ]
  },
  {
   "cell_type": "code",
   "execution_count": null,
   "id": "269c4f89",
   "metadata": {},
   "outputs": [],
   "source": [
    "project:rag,agent,deployment,modularcoding,ci/cd,git\n",
    "\n",
    "multiagentic collrabtive agent and supoervisor agent\n",
    "\n"
   ]
  },
  {
   "cell_type": "markdown",
   "id": "8da83e52",
   "metadata": {},
   "source": [
    "Reaserch and analsysis react agent: assisgnment\n",
    "1. llm assistant\n",
    "2. take a realtime weather api to check the real time weather detail\n",
    "3. take a realtime api for checking realtime cricket score\n",
    "4. take a tool for analysis the generated data(REPL)python code\n",
    "5. create a report based on the generated data\n",
    "memory\n",
    "human in loop\n",
    "multiagentic flow\n",
    "\n",
    "\n",
    "from next week onwards will implemnt the project"
   ]
  },
  {
   "cell_type": "markdown",
   "id": "c4ec52f0",
   "metadata": {},
   "source": [
    "## 1. langgraph-> memeory saver, human in loop\n",
    "## 2. multiagents"
   ]
  },
  {
   "cell_type": "code",
   "execution_count": 120,
   "id": "f47297f7",
   "metadata": {},
   "outputs": [],
   "source": [
    "\n",
    "from typing import Annotated\n",
    "import operator,json\n",
    "from typing import TypedDict, Annotated, Sequence\n",
    "from typing_extensions import TypedDict\n",
    "from langchain_core.messages import BaseMessage\n",
    "from langgraph.checkpoint.memory import MemorySaver\n",
    "from langgraph.graph import StateGraph,END,START\n",
    "from langgraph.graph.message import add_messages\n",
    "from langgraph.prebuilt import ToolNode, tools_condition\n",
    "from langchain_core.tools import tool\n",
    "from langchain_community.tools.tavily_search import TavilySearchResults"
   ]
  },
  {
   "cell_type": "code",
   "execution_count": null,
   "id": "1d940360",
   "metadata": {},
   "outputs": [],
   "source": [
    "import os\n",
    "from langchain_community.tools.tavily_search import TavilySearchResults\n",
    "TAVILY_API_KEY=\"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\"\n",
    "os.environ[\"TAVILY_API_KEY\"]=TAVILY_API_KEY"
   ]
  },
  {
   "cell_type": "code",
   "execution_count": 122,
   "id": "87c82fe6",
   "metadata": {},
   "outputs": [],
   "source": [
    "import os\n",
    "os.environ[\"TAVILY_API_KEY\"]=TAVILY_API_KEY"
   ]
  },
  {
   "cell_type": "code",
   "execution_count": 123,
   "id": "02a8be10",
   "metadata": {},
   "outputs": [],
   "source": [
    "@tool\n",
    "def multiply(first_number:int, second_number:int)->int:\n",
    "    \"\"\"multiply two integer number\"\"\"\n",
    "    return first_number * second_number"
   ]
  },
  {
   "cell_type": "code",
   "execution_count": 124,
   "id": "ea569626",
   "metadata": {},
   "outputs": [],
   "source": [
    "@tool\n",
    "def search(query:str):\n",
    "    \"\"\"perform the web search on the user query\"\"\"\n",
    "    tavily=TavilySearchResults(tavily_api_key=\"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\")\n",
    "    result=tavily.invoke(query)\n",
    "    return result\n",
    "     "
   ]
  },
  {
   "cell_type": "code",
   "execution_count": 125,
   "id": "7082a82d",
   "metadata": {},
   "outputs": [
    {
     "data": {
      "text/plain": [
       "[{'title': 'Prime Minister of India - Wikipedia',\n",
       "  'url': 'https://en.wikipedia.org/wiki/Prime_Minister_of_India',\n",
       "  'content': 'Narasimha Rao, Atal Bihari Vajpayee, Manmohan Singh, and Narendra Modi. Modi is the current prime minister of India, serving since 26 May 2014 and the first',\n",
       "  'score': 0.8773195},\n",
       " {'title': 'List of all Prime Ministers of India (1947-2025) - Jagran Josh',\n",
       "  'url': 'https://www.jagranjosh.com/general-knowledge/list-of-all-prime-ministers-of-india-1473165149-1',\n",
       "  'content': \"Currently, Narendra Modi is the Prime Minister of India, having been in office since 2014. He is the 14th Prime Minister of India who had three consecutive terms on the post.\\xa0He took the Prime Minister's Oath on June 9, 2024.\\n\\nThis article provides a complete list of all the Prime Ministers of India from 1947 to 2025, along with their contributions to the country’s growth. The list reflects India's democratic resilience and its leaders' varied contributions to the nation's progress. [...] India has been governed by 14 prime ministers over the years. Currently,\\xa0Narendra Modi is serving his third term as Prime Minister in 2024, continuing his leadership journey that started in 2014.\\n\\nKnown for major reforms like GST, Make in India, and Swachh Bharat, Modi's tenure also included bold actions like Article 370’s revocation and digital advancements.\\n\\nHere is the List of Prime Ministers of India from 1947-2025: [...] | 16 | **Manmohan Singh (1932-2024)** | 22 May 2004 | 26 May 2014 | 10 years, 4 days | Indian National Congress (UPA) |\\n| 17 | **Narendra Modi (born 1950)** | 26 May 2014 | May 30, 2019 | 10 years, 192 days | Bharatiya Janata Party (NDA) |\\n| May 30, 2019 | June 9, 2024 |\\n| June 9, 2024 | Incumbent |\",\n",
       "  'score': 0.8660535},\n",
       " {'title': \"PM Sangrahlaya - a Tribute to India's Prime Ministers\",\n",
       "  'url': 'https://www.pmsangrahalaya.gov.in/prime-ministers-of-india',\n",
       "  'content': 'Shri Narendra Modi is the current and the fourth longest-serving Prime Minister of India. He served as the Chief Minister of Gujarat for 14 years and was',\n",
       "  'score': 0.83710164},\n",
       " {'title': 'PM Events – Prime Minister of India',\n",
       "  'url': 'https://pmevents.mygov.in/en/home/',\n",
       "  'content': \"Shri Narendra Modi was sworn-in as India's Prime Minister on 30th May 2019, marking the start of his second term in office.\",\n",
       "  'score': 0.76173395},\n",
       " {'title': 'Narendra Modi - Wikipedia',\n",
       "  'url': 'https://en.wikipedia.org/wiki/Narendra_Modi',\n",
       "  'content': 'Narendra Damodardas Modi (born 17 September 1950) is an Indian politician who has served as the prime minister of India since 2014.',\n",
       "  'score': 0.7471924}]"
      ]
     },
     "execution_count": 125,
     "metadata": {},
     "output_type": "execute_result"
    }
   ],
   "source": [
    "search.invoke(\"who is a current PM in india?\")"
   ]
  },
  {
   "cell_type": "code",
   "execution_count": 126,
   "id": "205e5ebb",
   "metadata": {},
   "outputs": [],
   "source": [
    "tools=[search,multiply]"
   ]
  },
  {
   "cell_type": "code",
   "execution_count": 127,
   "id": "3363a5a1",
   "metadata": {},
   "outputs": [],
   "source": [
    "model_with_tools=llm.bind_tools(tools)"
   ]
  },
  {
   "cell_type": "code",
   "execution_count": 128,
   "id": "51c7ef4f",
   "metadata": {},
   "outputs": [
    {
     "data": {
      "text/plain": [
       "AIMessage(content='<function=search{\"query\": \"current Prime Minister of Japan\"}</function>', additional_kwargs={}, response_metadata={'token_usage': {'completion_tokens': 17, 'prompt_tokens': 280, 'total_tokens': 297, 'completion_time': 0.061818182, 'prompt_time': 0.017766274, 'queue_time': 0.057116606, 'total_time': 0.079584456}, 'model_name': 'llama-3.3-70b-versatile', 'system_fingerprint': 'fp_3f3b593e33', 'finish_reason': 'stop', 'logprobs': None}, id='run--563a4c2d-1ca7-4e5d-9c20-7b73b9829e19-0', usage_metadata={'input_tokens': 280, 'output_tokens': 17, 'total_tokens': 297})"
      ]
     },
     "execution_count": 128,
     "metadata": {},
     "output_type": "execute_result"
    }
   ],
   "source": [
    "model_with_tools.invoke(\"who is a cuurent pm of japan?\")"
   ]
  },
  {
   "cell_type": "code",
   "execution_count": 129,
   "id": "777ae390",
   "metadata": {},
   "outputs": [
    {
     "data": {
      "text/plain": [
       "[]"
      ]
     },
     "execution_count": 129,
     "metadata": {},
     "output_type": "execute_result"
    }
   ],
   "source": [
    "model_with_tools.invoke(\"who is a cuurent pm of japan?\").tool_calls"
   ]
  },
  {
   "cell_type": "code",
   "execution_count": 130,
   "id": "da9237f0",
   "metadata": {},
   "outputs": [],
   "source": [
    "tool_mapping={tool.name: tool for tool in tools}"
   ]
  },
  {
   "cell_type": "code",
   "execution_count": 131,
   "id": "c5148ea5",
   "metadata": {},
   "outputs": [
    {
     "data": {
      "text/plain": [
       "{'search': StructuredTool(name='search', description='perform the web search on the user query', args_schema=<class 'langchain_core.utils.pydantic.search'>, func=<function search at 0x000001C774333BA0>),\n",
       " 'multiply': StructuredTool(name='multiply', description='multiply two integer number', args_schema=<class 'langchain_core.utils.pydantic.multiply'>, func=<function multiply at 0x000001C7743327A0>)}"
      ]
     },
     "execution_count": 131,
     "metadata": {},
     "output_type": "execute_result"
    }
   ],
   "source": [
    "tool_mapping"
   ]
  },
  {
   "cell_type": "code",
   "execution_count": 132,
   "id": "8ed66455",
   "metadata": {},
   "outputs": [],
   "source": [
    "response=model_with_tools.invoke(\"who is a current president of uk?\")"
   ]
  },
  {
   "cell_type": "code",
   "execution_count": 134,
   "id": "128d5625",
   "metadata": {},
   "outputs": [
    {
     "data": {
      "text/plain": [
       "AIMessage(content='<function=search{\"query\": \"current president of UK\"}</function>', additional_kwargs={}, response_metadata={'token_usage': {'completion_tokens': 16, 'prompt_tokens': 279, 'total_tokens': 295, 'completion_time': 0.058181818, 'prompt_time': 0.017786548, 'queue_time': 0.053546965, 'total_time': 0.075968366}, 'model_name': 'llama-3.3-70b-versatile', 'system_fingerprint': 'fp_2ddfbb0da0', 'finish_reason': 'stop', 'logprobs': None}, id='run--170e4ec1-8963-4383-a81b-5cd8ef3b4cf2-0', usage_metadata={'input_tokens': 279, 'output_tokens': 16, 'total_tokens': 295})"
      ]
     },
     "execution_count": 134,
     "metadata": {},
     "output_type": "execute_result"
    }
   ],
   "source": [
    "response"
   ]
  },
  {
   "cell_type": "code",
   "execution_count": 135,
   "id": "8c1b8f8e",
   "metadata": {},
   "outputs": [],
   "source": [
    "tool_details=response.additional_kwargs"
   ]
  },
  {
   "cell_type": "code",
   "execution_count": 136,
   "id": "b7366adb",
   "metadata": {},
   "outputs": [
    {
     "data": {
      "text/plain": [
       "{}"
      ]
     },
     "execution_count": 136,
     "metadata": {},
     "output_type": "execute_result"
    }
   ],
   "source": [
    "tool_details"
   ]
  },
  {
   "cell_type": "code",
   "execution_count": 137,
   "id": "e4b5ceb3",
   "metadata": {},
   "outputs": [],
   "source": [
    "tool_details=tool_details.get(\"tool_calls\")"
   ]
  },
  {
   "cell_type": "code",
   "execution_count": 138,
   "id": "18945983",
   "metadata": {},
   "outputs": [
    {
     "ename": "TypeError",
     "evalue": "'NoneType' object is not subscriptable",
     "output_type": "error",
     "traceback": [
      "\u001b[31m---------------------------------------------------------------------------\u001b[39m",
      "\u001b[31mTypeError\u001b[39m                                 Traceback (most recent call last)",
      "\u001b[36mCell\u001b[39m\u001b[36m \u001b[39m\u001b[32mIn[138]\u001b[39m\u001b[32m, line 1\u001b[39m\n\u001b[32m----> \u001b[39m\u001b[32m1\u001b[39m \u001b[43mtool_details\u001b[49m\u001b[43m[\u001b[49m\u001b[32;43m0\u001b[39;49m\u001b[43m]\u001b[49m[\u001b[33m\"\u001b[39m\u001b[33mfunction\u001b[39m\u001b[33m\"\u001b[39m][\u001b[33m\"\u001b[39m\u001b[33mname\u001b[39m\u001b[33m\"\u001b[39m]\n",
      "\u001b[31mTypeError\u001b[39m: 'NoneType' object is not subscriptable"
     ]
    }
   ],
   "source": [
    "tool_details[0][\"function\"][\"name\"]"
   ]
  },
  {
   "cell_type": "code",
   "execution_count": null,
   "id": "b51c797a",
   "metadata": {},
   "outputs": [
    {
     "data": {
      "text/plain": [
       "'{\"query\":\"current president of uk\"}'"
      ]
     },
     "execution_count": 124,
     "metadata": {},
     "output_type": "execute_result"
    }
   ],
   "source": [
    "tool_details[0][\"function\"][\"arguments\"]"
   ]
  },
  {
   "cell_type": "code",
   "execution_count": null,
   "id": "e1a8a102",
   "metadata": {},
   "outputs": [
    {
     "data": {
      "text/plain": [
       "{'query': 'current president of uk'}"
      ]
     },
     "execution_count": 125,
     "metadata": {},
     "output_type": "execute_result"
    }
   ],
   "source": [
    "json.loads(tool_details[0][\"function\"][\"arguments\"])"
   ]
  },
  {
   "cell_type": "code",
   "execution_count": null,
   "id": "ecb1eee2",
   "metadata": {},
   "outputs": [
    {
     "data": {
      "text/plain": [
       "[{'title': 'Rishi Sunak | Biography, Wife, Politics, & Net Worth - Britannica',\n",
       "  'url': 'https://www.britannica.com/biography/Rishi-Sunak',\n",
       "  'content': '![David Cameron. President Barack Obama and Prime Minister David Cameron of the United Kingdom talk during the G8 Summit at the Lough Erne Resort in Enniskillen, Northern Ireland, June 17, 2013](https://cdn.britannica.com/46/172446-131-3351BF8A/David-Cameron-Barack-Obama-talk-United-Kingdom-June-17-2013.jpg?w=200&h=200&c=crop) [...] As a result of his parents’ sacrifices and saving to fund his education, Sunak was able to attend [Winchester College](https://www.britannica.com/topic/Winchester-College), the [exclusive](https://www.merriam-webster.com/dictionary/exclusive) private school that has produced no fewer than six chancellors of the Exchequer. In addition to becoming “head boy” at Winchester, Sunak was the editor of the school’s newspaper. During summer vacations he waited tables at a Southampton Indian restaurant. [...] In March 2023 Sunak held off a Tory rebellion and passed the so-called Windsor Framework, a post-[Brexit](https://www.britannica.com/topic/Brexit) deal to regulate trade between [Northern Ireland](https://www.britannica.com/place/Northern-Ireland), the rest of the United Kingdom, and the [European Union](https://www.britannica.com/topic/European-Union). During his campaign to drum up support for the bill, Sunak stressed the “privileged access, not just to the U.K. home market, which is',\n",
       "  'score': 0.3642578},\n",
       " {'title': 'What does the UK Prime Minister want from his meeting ... - YouTube',\n",
       "  'url': 'https://www.youtube.com/watch?v=AUjvkLzZaEI',\n",
       "  'content': 'The UK Prime Minister Sir Keir Starmer is en route to Washington for his first White House meeting with President Donald Trump.',\n",
       "  'score': 0.32357296},\n",
       " {'title': 'Prime Minister of the United Kingdom - Wikipedia',\n",
       "  'url': 'https://en.wikipedia.org/wiki/Prime_Minister_of_the_United_Kingdom',\n",
       "  'content': '| Prime Minister of the United Kingdom of Great Britain and Northern Ireland | |\\n| --- | --- |\\n| [Royal Arms](/wiki/Royal_coat_of_arms_of_the_United_Kingdom \"Royal coat of arms of the United Kingdom\") of [His Majesty\\'s Government](/wiki/Government_of_the_United_Kingdom \"Government of the United Kingdom\") | |\\n| [Flag of the United Kingdom](/wiki/Flag_of_the_United_Kingdom \"Flag of the United Kingdom\") | |\\n| Incumbent [Keir Starmer](/wiki/Keir_Starmer \"Keir Starmer\") since\\xa05 July 2024 | | [...] East\").[[164]](#cite_note-169) [Gordon Brown](/wiki/Gordon_Brown \"Gordon Brown\") was actively involved in politics long after he left office, most notably during the [2014 Scottish independence referendum](/wiki/2014_Scottish_independence_referendum \"2014 Scottish independence referendum\"), in which he campaigned for the no vote that advocated Scotland to remain in the union.[[165]](#cite_note-170)[[166]](#cite_note-171) [...] \"List of prime ministers of the United Kingdom by length of tenure\") was also Walpole, who served over 20 years, and the shortest-serving was [Liz Truss](/wiki/Liz_Truss \"Liz Truss\"), who served seven weeks. [Keir Starmer](/wiki/Keir_Starmer \"Keir Starmer\") succeeded [Rishi Sunak](/wiki/Rishi_Sunak \"Rishi Sunak\") as prime minister on 5 July 2024, following the [2024 general election](/wiki/2024_United_Kingdom_general_election \"2024 United Kingdom general election\").[[20]](#cite_note-20)',\n",
       "  'score': 0.31747967},\n",
       " {'title': 'Prime Minister - GOV.UK',\n",
       "  'url': 'https://www.gov.uk/government/ministers/prime-minister',\n",
       "  'content': '## Contents\\n\\n## Responsibilities\\n\\nThe Prime Minister is the leader of His Majesty’s Government and is ultimately responsible for the policy and decisions of the government.\\n\\nAs leader of the UK government the Prime Minister also:\\n\\n## Current role holder\\n\\n### The Rt Hon Sir Keir Starmer KCB KC MP\\n\\nSir Keir Starmer\\xa0became Prime Minister on 5 July 2024.\\n\\n## Education',\n",
       "  'score': 0.25939435},\n",
       " {'title': 'UK Prime Minister - Facebook',\n",
       "  'url': 'https://www.facebook.com/10downingstreet/',\n",
       "  'content': 'UK Prime Minister. 1102968 likes · 16801 talking about this. Official page for the office of Prime Minister Keir Starmer, based at 10 Downing Street.',\n",
       "  'score': 0.2509591}]"
      ]
     },
     "execution_count": 126,
     "metadata": {},
     "output_type": "execute_result"
    }
   ],
   "source": [
    "tool_mapping[tool_details[0][\"function\"][\"name\"]].invoke(json.loads(tool_details[0][\"function\"][\"arguments\"]))"
   ]
  },
  {
   "cell_type": "code",
   "execution_count": null,
   "id": "b26fc42e",
   "metadata": {},
   "outputs": [],
   "source": [
    "tool_mapping={tool.name: tool for tool in tools}"
   ]
  },
  {
   "cell_type": "code",
   "execution_count": null,
   "id": "797007d5",
   "metadata": {},
   "outputs": [
    {
     "data": {
      "text/plain": [
       "{'search': StructuredTool(name='search', description='perform the web search on the user query', args_schema=<class 'langchain_core.utils.pydantic.search'>, func=<function search at 0x000001F265F7FA60>),\n",
       " 'multiply': StructuredTool(name='multiply', description='multiply two integer number', args_schema=<class 'langchain_core.utils.pydantic.multiply'>, func=<function multiply at 0x000001F265F7F920>)}"
      ]
     },
     "execution_count": 128,
     "metadata": {},
     "output_type": "execute_result"
    }
   ],
   "source": [
    "tool_mapping"
   ]
  },
  {
   "cell_type": "code",
   "execution_count": 139,
   "id": "15d895f9",
   "metadata": {},
   "outputs": [],
   "source": [
    "class AgentState(TypedDict):\n",
    "    messages:Annotated[Sequence[BaseMessage], operator.add]"
   ]
  },
  {
   "cell_type": "code",
   "execution_count": 140,
   "id": "1bdcca11",
   "metadata": {},
   "outputs": [],
   "source": [
    "def invoke_model(state:AgentState):\n",
    "    messages = state['messages']\n",
    "    question = messages[-1]   ## Fetching the user question\n",
    "    return {\"messages\":[model_with_tools.invoke(question)]}"
   ]
  },
  {
   "cell_type": "code",
   "execution_count": 141,
   "id": "dff3f8fb",
   "metadata": {},
   "outputs": [],
   "source": [
    "def invoke_tool(state:AgentState):\n",
    "    print(\"****my state*****\")\n",
    "    print(state['messages'][-1])\n",
    "    tool_details= state['messages'][-1].additional_kwargs.get(\"tool_calls\", [])[0]\n",
    "    \n",
    "    if tool_details is None:\n",
    "        raise Exception(\"no tool call found\")\n",
    "    \n",
    "    print(f'Selected tool: {tool_details.get(\"function\").get(\"name\")}')\n",
    "    \n",
    "    if tool_details.get(\"function\").get(\"name\")==\"search\":\n",
    "        print(\"**********tool detils****\")\n",
    "        print(tool_details)\n",
    "        response = input(prompt=f\"[y/n] continue with expensive web search?\")\n",
    "        if response == \"n\":\n",
    "            raise Exception(\"web search discard\")\n",
    "        \n",
    "    response = tool_mapping[tool_details['function']['name']].invoke(json.loads(tool_details.get(\"function\").get(\"arguments\")))\n",
    "    return {\"messages\" : [response]}\n",
    "     "
   ]
  },
  {
   "cell_type": "code",
   "execution_count": 142,
   "id": "1e925346",
   "metadata": {},
   "outputs": [],
   "source": [
    "def router(state:AgentState):\n",
    "    tool_calls = state['messages'][-1].additional_kwargs.get(\"tool_calls\", [])\n",
    "    if len(tool_calls):\n",
    "        return \"tool\"\n",
    "    else:\n",
    "        return \"end\"\n",
    "     "
   ]
  },
  {
   "cell_type": "code",
   "execution_count": 143,
   "id": "9975bbaf",
   "metadata": {},
   "outputs": [],
   "source": [
    "graph=StateGraph(AgentState)"
   ]
  },
  {
   "cell_type": "code",
   "execution_count": 144,
   "id": "2baeeb35",
   "metadata": {},
   "outputs": [
    {
     "data": {
      "text/plain": [
       "<langgraph.graph.state.StateGraph at 0x1c773572c90>"
      ]
     },
     "execution_count": 144,
     "metadata": {},
     "output_type": "execute_result"
    }
   ],
   "source": [
    "graph.add_node(\"ai_assistant\",invoke_model)\n",
    "graph.add_node(\"tool\",invoke_tool)"
   ]
  },
  {
   "cell_type": "code",
   "execution_count": 145,
   "id": "6ea37701",
   "metadata": {},
   "outputs": [
    {
     "data": {
      "text/plain": [
       "<langgraph.graph.state.StateGraph at 0x1c773572c90>"
      ]
     },
     "execution_count": 145,
     "metadata": {},
     "output_type": "execute_result"
    }
   ],
   "source": [
    "graph.add_conditional_edges(\"ai_assistant\",\n",
    "                            router,\n",
    "                            {\"tool\":\"tool\",\n",
    "                             \"end\":END})"
   ]
  },
  {
   "cell_type": "code",
   "execution_count": 146,
   "id": "b69381ba",
   "metadata": {},
   "outputs": [
    {
     "data": {
      "text/plain": [
       "<langgraph.graph.state.StateGraph at 0x1c773572c90>"
      ]
     },
     "execution_count": 146,
     "metadata": {},
     "output_type": "execute_result"
    }
   ],
   "source": [
    "graph.add_edge(\"tool\", END)\n",
    "\n",
    "# graph.add_edge(\"tool\", \"ai_assistant\")\n",
    "\n",
    "graph.set_entry_point(\"ai_assistant\")"
   ]
  },
  {
   "cell_type": "code",
   "execution_count": 147,
   "id": "dfaf71b3",
   "metadata": {},
   "outputs": [],
   "source": [
    "app=graph.compile()"
   ]
  },
  {
   "cell_type": "code",
   "execution_count": 148,
   "id": "7810dff3",
   "metadata": {},
   "outputs": [
    {
     "data": {
      "image/png": "[encoded data removed]",
      "text/plain": [
       "<IPython.core.display.Image object>"
      ]
     },
     "metadata": {},
     "output_type": "display_data"
    }
   ],
   "source": [
    "from IPython.display import Image, display\n",
    "display(Image(app.get_graph().draw_mermaid_png()))"
   ]
  },
  {
   "cell_type": "code",
   "execution_count": 149,
   "id": "537fd9cf",
   "metadata": {},
   "outputs": [
    {
     "data": {
      "text/plain": [
       "{'messages': ['who is president of India?',\n",
       "  AIMessage(content='<function=search{\"query\": \"President of India\"}</function>', additional_kwargs={}, response_metadata={'token_usage': {'completion_tokens': 15, 'prompt_tokens': 277, 'total_tokens': 292, 'completion_time': 0.054545455, 'prompt_time': 0.018073503, 'queue_time': 0.057900999999999994, 'total_time': 0.072618958}, 'model_name': 'llama-3.3-70b-versatile', 'system_fingerprint': 'fp_3f3b593e33', 'finish_reason': 'stop', 'logprobs': None}, id='run--54025c07-c1d7-49a0-a87f-3e703c66edb5-0', usage_metadata={'input_tokens': 277, 'output_tokens': 15, 'total_tokens': 292})]}"
      ]
     },
     "execution_count": 149,
     "metadata": {},
     "output_type": "execute_result"
    }
   ],
   "source": [
    "app.invoke({\"messages\": [\"who is president of India?\"]})"
   ]
  },
  {
   "cell_type": "code",
   "execution_count": 150,
   "id": "d1addde7",
   "metadata": {},
   "outputs": [
    {
     "name": "stdout",
     "output_type": "stream",
     "text": [
      "{'messages': [AIMessage(content='<function=search{\"query\": \"current President of the United States\"}</function>', additional_kwargs={}, response_metadata={'token_usage': {'completion_tokens': 18, 'prompt_tokens': 277, 'total_tokens': 295, 'completion_time': 0.081245072, 'prompt_time': 0.018685259, 'queue_time': 0.065205292, 'total_time': 0.099930331}, 'model_name': 'llama-3.3-70b-versatile', 'system_fingerprint': 'fp_3f3b593e33', 'finish_reason': 'stop', 'logprobs': None}, id='run--1be2778e-1da3-4617-a6d7-bec0e33a9c66-0', usage_metadata={'input_tokens': 277, 'output_tokens': 18, 'total_tokens': 295})]}\n",
      "----\n"
     ]
    }
   ],
   "source": [
    "for s in app.stream({\"messages\": [\"who is president of USA?\"]}):\n",
    "    print(list(s.values())[0])\n",
    "    print(\"----\")"
   ]
  },
  {
   "cell_type": "code",
   "execution_count": 151,
   "id": "4679352d",
   "metadata": {},
   "outputs": [
    {
     "name": "stdout",
     "output_type": "stream",
     "text": [
      "****my state*****\n",
      "content='' additional_kwargs={'tool_calls': [{'id': 's5gf5r7ep', 'function': {'arguments': '{\"first_number\":23,\"second_number\":46}', 'name': 'multiply'}, 'type': 'function'}]} response_metadata={'token_usage': {'completion_tokens': 21, 'prompt_tokens': 281, 'total_tokens': 302, 'completion_time': 0.076363636, 'prompt_time': 0.017866281, 'queue_time': 0.056692520999999996, 'total_time': 0.094229917}, 'model_name': 'llama-3.3-70b-versatile', 'system_fingerprint': 'fp_6507bcfb6f', 'finish_reason': 'tool_calls', 'logprobs': None} id='run--efa58a96-d5ad-4219-b237-f23c9478192e-0' tool_calls=[{'name': 'multiply', 'args': {'first_number': 23, 'second_number': 46}, 'id': 's5gf5r7ep', 'type': 'tool_call'}] usage_metadata={'input_tokens': 281, 'output_tokens': 21, 'total_tokens': 302}\n",
      "Selected tool: multiply\n"
     ]
    },
    {
     "data": {
      "text/plain": [
       "{'messages': ['what is multiplication of 23 and 46?',\n",
       "  AIMessage(content='', additional_kwargs={'tool_calls': [{'id': 's5gf5r7ep', 'function': {'arguments': '{\"first_number\":23,\"second_number\":46}', 'name': 'multiply'}, 'type': 'function'}]}, response_metadata={'token_usage': {'completion_tokens': 21, 'prompt_tokens': 281, 'total_tokens': 302, 'completion_time': 0.076363636, 'prompt_time': 0.017866281, 'queue_time': 0.056692520999999996, 'total_time': 0.094229917}, 'model_name': 'llama-3.3-70b-versatile', 'system_fingerprint': 'fp_6507bcfb6f', 'finish_reason': 'tool_calls', 'logprobs': None}, id='run--efa58a96-d5ad-4219-b237-f23c9478192e-0', tool_calls=[{'name': 'multiply', 'args': {'first_number': 23, 'second_number': 46}, 'id': 's5gf5r7ep', 'type': 'tool_call'}], usage_metadata={'input_tokens': 281, 'output_tokens': 21, 'total_tokens': 302}),\n",
       "  1058]}"
      ]
     },
     "execution_count": 151,
     "metadata": {},
     "output_type": "execute_result"
    }
   ],
   "source": [
    "app.invoke({\"messages\": [\"what is multiplication of 23 and 46?\"]})"
   ]
  },
  {
   "cell_type": "code",
   "execution_count": 152,
   "id": "c4567be5",
   "metadata": {},
   "outputs": [
    {
     "data": {
      "text/plain": [
       "{'messages': ['Who won the IPL 2025?',\n",
       "  AIMessage(content='<function=search{\"query\": \"IPL 2025 winner\"}</function>', additional_kwargs={}, response_metadata={'token_usage': {'completion_tokens': 18, 'prompt_tokens': 279, 'total_tokens': 297, 'completion_time': 0.065454545, 'prompt_time': 0.018019888, 'queue_time': 0.057923713, 'total_time': 0.083474433}, 'model_name': 'llama-3.3-70b-versatile', 'system_fingerprint': 'fp_2ddfbb0da0', 'finish_reason': 'stop', 'logprobs': None}, id='run--8f887f8f-0544-499a-a454-03d8df33714f-0', usage_metadata={'input_tokens': 279, 'output_tokens': 18, 'total_tokens': 297})]}"
      ]
     },
     "execution_count": 152,
     "metadata": {},
     "output_type": "execute_result"
    }
   ],
   "source": [
    "app.invoke({\"messages\": [\"Who won the IPL 2025?\"]})"
   ]
  },
  {
   "cell_type": "markdown",
   "id": "bd7e73b0",
   "metadata": {},
   "source": [
    "## Langgraph human in loop concept"
   ]
  },
  {
   "cell_type": "code",
   "execution_count": null,
   "id": "3294232a",
   "metadata": {},
   "outputs": [],
   "source": [
    "\n",
    "tavily=TavilySearchResults()\n",
    "     "
   ]
  },
  {
   "cell_type": "code",
   "execution_count": null,
   "id": "74d6f4bf",
   "metadata": {},
   "outputs": [],
   "source": [
    "\n",
    "tools = [tavily]"
   ]
  },
  {
   "cell_type": "code",
   "execution_count": null,
   "id": "68b0ceba",
   "metadata": {},
   "outputs": [],
   "source": [
    "llm_with_tools=llm.bind_tools(tools)"
   ]
  },
  {
   "cell_type": "code",
   "execution_count": null,
   "id": "ffb59517",
   "metadata": {},
   "outputs": [],
   "source": [
    "def ai_assistant(state: AgentState):\n",
    "    return {\"messages\": [llm_with_tools.invoke(state[\"messages\"])]}"
   ]
  },
  {
   "cell_type": "code",
   "execution_count": null,
   "id": "dedeb6ab",
   "metadata": {},
   "outputs": [],
   "source": [
    "memory=MemorySaver()"
   ]
  },
  {
   "cell_type": "code",
   "execution_count": null,
   "id": "0a5f6b0e",
   "metadata": {},
   "outputs": [
    {
     "data": {
      "text/plain": [
       "<langgraph.graph.state.StateGraph at 0x1f2662356a0>"
      ]
     },
     "execution_count": 155,
     "metadata": {},
     "output_type": "execute_result"
    }
   ],
   "source": [
    "graph_builder = StateGraph(AgentState)\n",
    "graph_builder.add_node(\"ai_assistant\", ai_assistant)\n",
    "\n",
    "tool_node = ToolNode(tools=tools)\n",
    "graph_builder.add_node(\"tools\", tool_node)"
   ]
  },
  {
   "cell_type": "code",
   "execution_count": null,
   "id": "443026c0",
   "metadata": {},
   "outputs": [
    {
     "data": {
      "text/plain": [
       "<langgraph.graph.state.StateGraph at 0x1f2662356a0>"
      ]
     },
     "execution_count": 156,
     "metadata": {},
     "output_type": "execute_result"
    }
   ],
   "source": [
    "graph_builder.add_edge(START, \"ai_assistant\")\n",
    "\n",
    "graph_builder.add_conditional_edges(\n",
    "    \"ai_assistant\",\n",
    "    tools_condition,\n",
    ")\n",
    "graph_builder.add_edge(\"tools\", \"ai_assistant\")"
   ]
  },
  {
   "cell_type": "code",
   "execution_count": null,
   "id": "405dc3b0",
   "metadata": {},
   "outputs": [],
   "source": [
    "app2=graph_builder.compile(\n",
    "    checkpointer=memory,\n",
    "    interrupt_before=[\"tools\"]\n",
    ")"
   ]
  },
  {
   "cell_type": "code",
   "execution_count": null,
   "id": "2082b686",
   "metadata": {},
   "outputs": [
    {
     "data": {
      "image/png": "[encoded data removed]",
      "text/plain": [
       "<IPython.core.display.Image object>"
      ]
     },
     "metadata": {},
     "output_type": "display_data"
    }
   ],
   "source": [
    "from IPython.display import Image, display\n",
    "display(Image(app2.get_graph().draw_mermaid_png()))"
   ]
  },
  {
   "cell_type": "code",
   "execution_count": null,
   "id": "deccc725",
   "metadata": {},
   "outputs": [],
   "source": [
    "user_input = \"what is current a GDP of india?\"\n",
    "config = {\"configurable\": {\"thread_id\": \"1\"}}"
   ]
  },
  {
   "cell_type": "code",
   "execution_count": null,
   "id": "44b4eea5",
   "metadata": {},
   "outputs": [],
   "source": [
    "user_input = \"what is today value of apple stock?\"\n",
    "config = {\"configurable\": {\"thread_id\": \"1\"}}"
   ]
  },
  {
   "cell_type": "code",
   "execution_count": null,
   "id": "02f25c22",
   "metadata": {},
   "outputs": [],
   "source": [
    "user_input = \"famous places of the bangalore and must visit restaurants?\"\n",
    "config = {\"configurable\": {\"thread_id\": \"1\"}}"
   ]
  },
  {
   "cell_type": "code",
   "execution_count": null,
   "id": "00f815a2",
   "metadata": {},
   "outputs": [],
   "source": [
    "events = app2.stream(\n",
    "    {\"messages\": [(\"user\", user_input)]}, config, stream_mode=\"values\"\n",
    ")"
   ]
  },
  {
   "cell_type": "code",
   "execution_count": null,
   "id": "1a9940c2",
   "metadata": {},
   "outputs": [
    {
     "name": "stdout",
     "output_type": "stream",
     "text": [
      "{'messages': [('user', 'famous places of the bangalore and must visit restaurants?')]}\n",
      "{'messages': [('user', 'famous places of the bangalore and must visit restaurants?'), AIMessage(content='', additional_kwargs={'tool_calls': [{'id': '4ptnz3rns', 'function': {'arguments': '{\"query\":\"famous places in Bangalore and must visit restaurants\"}', 'name': 'tavily_search_results_json'}, 'type': 'function'}]}, response_metadata={'token_usage': {'completion_tokens': 93, 'prompt_tokens': 991, 'total_tokens': 1084, 'completion_time': 0.169090909, 'prompt_time': 0.03499773, 'queue_time': 0.24604857000000002, 'total_time': 0.204088639}, 'model_name': 'Gemma2-9b-It', 'system_fingerprint': 'fp_10c08bf97d', 'finish_reason': 'tool_calls', 'logprobs': None}, id='run--9951d717-6d44-4a8e-8c38-628135b6ccdc-0', tool_calls=[{'name': 'tavily_search_results_json', 'args': {'query': 'famous places in Bangalore and must visit restaurants'}, 'id': '4ptnz3rns', 'type': 'tool_call'}], usage_metadata={'input_tokens': 991, 'output_tokens': 93, 'total_tokens': 1084})]}\n"
     ]
    }
   ],
   "source": [
    "for event in events:\n",
    "    print(event)"
   ]
  },
  {
   "cell_type": "code",
   "execution_count": null,
   "id": "07fbb446",
   "metadata": {},
   "outputs": [],
   "source": [
    "snapshot=app2.get_state(config)"
   ]
  },
  {
   "cell_type": "code",
   "execution_count": null,
   "id": "0729842a",
   "metadata": {},
   "outputs": [
    {
     "data": {
      "text/plain": [
       "('tools',)"
      ]
     },
     "execution_count": 165,
     "metadata": {},
     "output_type": "execute_result"
    }
   ],
   "source": [
    "snapshot.next"
   ]
  },
  {
   "cell_type": "code",
   "execution_count": null,
   "id": "37659523",
   "metadata": {},
   "outputs": [],
   "source": [
    "\n",
    "last_message=snapshot.values[\"messages\"][-1]"
   ]
  },
  {
   "cell_type": "code",
   "execution_count": null,
   "id": "eeb1df61",
   "metadata": {},
   "outputs": [
    {
     "data": {
      "text/plain": [
       "[{'name': 'tavily_search_results_json',\n",
       "  'args': {'query': 'famous places in Bangalore and must visit restaurants'},\n",
       "  'id': '4ptnz3rns',\n",
       "  'type': 'tool_call'}]"
      ]
     },
     "execution_count": 167,
     "metadata": {},
     "output_type": "execute_result"
    }
   ],
   "source": [
    "\n",
    "last_message.tool_calls"
   ]
  },
  {
   "cell_type": "code",
   "execution_count": null,
   "id": "6d61f9e1",
   "metadata": {},
   "outputs": [],
   "source": [
    "events = app2.stream(None, config, stream_mode=\"values\")"
   ]
  },
  {
   "cell_type": "code",
   "execution_count": null,
   "id": "69b6793f",
   "metadata": {},
   "outputs": [
    {
     "name": "stdout",
     "output_type": "stream",
     "text": [
      "==================================\u001b[1m Ai Message \u001b[0m==================================\n",
      "Tool Calls:\n",
      "  tavily_search_results_json (4ptnz3rns)\n",
      " Call ID: 4ptnz3rns\n",
      "  Args:\n",
      "    query: famous places in Bangalore and must visit restaurants\n",
      "=================================\u001b[1m Tool Message \u001b[0m=================================\n",
      "Name: tavily_search_results_json\n",
      "\n",
      "[{\"title\": \"10 Best Places to Eat in Bangalore That Must Be on Your Bucket List\", \"url\": \"https://www.stayvista.com/blog/best-places-to-eat-in-bangalore/\", \"content\": \"To help you navigate through the sea of options, here are the best eateries in Bangalore—a mix of iconic restaurants and popular cafes that promise an unforgettable dining experience.\\n\\n### 1. **Vidyarthi Bhavan**\\n\\nVidyarthi Bhavan is an iconic eatery in Bangalore that has been serving the best dosa in Bangalore since 1943. The crispy, golden masala dosa and their legendary filter coffee make it a must-visit spot for anyone craving authentic South Indian cuisine. [...] ## FAQs on Places to Eat in Bangalore\\n\\n### 1. **What is the famous food in Bangalore?**\\n\\nBangalore is famous for its South Indian cuisine, especially dosas, idlis, and vadas. The city is also known for its variety of street food, including chaats and pani puri.\\n\\n### 2. Which are the best vegetarian restaurants in Bangalore?\\n\\nSome of the best vegetarian restaurants in Bangalore include Vidyarthi Bhavan, MTR, and New Krishna Bhavan. These places serve authentic South Indian vegetarian fare. [...] **Must-Try:** Masala Dosa, Filter Coffee\\n\\n**Cuisine:** South Indian Vegetarian\\n\\n**Timings:** 6:30 AM to 11:30 AM, 2:00 PM to 8:00 PM\\n\\n**Location:** Gandhi Bazaar, Basavanagudi\\n\\n### 2. **Hard Rock Cafe**\\n\\nLocated in a colonial bungalow, Hard Rock Cafe offers a mix of great food and live music, making it one of the top restaurants in Bangalore for those who enjoy a lively atmosphere. Their burgers and cocktails are legendary, drawing crowds from across the city.\", \"score\": 0.8800674}, {\"title\": \"Famous Eateries In Bangalore You Must Try - LBB\", \"url\": \"https://lbb.in/bangalore/iconic-eateries-bangalore/\", \"content\": \"Famous Eateries In Bangalore: Iconic Restaurants You Must Visit Once In The City · 1. MTR · 2. CTR Shri Sagar · 3. Vidhyarthi Bhavan · 4. Corner House Ice Cream · 5.\", \"score\": 0.8497846}, {\"title\": \"What are the must-visit food places in Bangalore, and when ... - Quora\", \"url\": \"https://www.quora.com/What-are-the-must-visit-food-places-in-Bangalore-and-when-is-the-best-time-to-visit-that-place\", \"content\": \"1.Vidyarthi Bhavan. · 2.SLV usually stands for Shri Lakshmi Venkateshwara. · 3.Central Tiffin Room (CTR) or Sri Sagar Hotel is a heritage\", \"score\": 0.79883134}, {\"title\": \"The Best Restaurants in Bengaluru for Dining Out - Zomato\", \"url\": \"https://www.zomato.com/bangalore/restaurants\", \"content\": \"[Vivanta Whitefield](https://www.zomato.com/bangalore/restaurants/in/vivanta-whitefield)[Taj MG Road](https://www.zomato.com/bangalore/restaurants/in/taj-mg-road)[ITC Gardenia](https://www.zomato.com/bangalore/restaurants/in/itc-gardenia-residency-road)[ITC Windsor](https://www.zomato.com/bangalore/restaurants/in/itc-windsor)[Sheraton Grand Bangalore, Brigade Gateway](https://www.zomato.com/bangalore/restaurants/in/sheraton-grand-bangalore-brigade-gateway)[The Zuri [...] Yeshwantpur](https://www.zomato.com/bangalore/restaurants/in/taj-yeshwantpur)[The Park, MG Road](https://www.zomato.com/bangalore/restaurants/in/the-park-mg-road)[Le Meridien, Sankey Road](https://www.zomato.com/bangalore/restaurants/in/le-meridien-sankey-road)[Royal Orchid Hotel, Old Airport Road](https://www.zomato.com/bangalore/restaurants/in/royal-orchid-hotel-old-airport-road)[Royal Orchid Central, MG Road](https://www.zomato.com/bangalore/restaurants/in/royal-orchid-central-mg-road)[Royal [...] City](https://www.zomato.com/bangalore/restaurants/in/svenska-hotel-electronic-city)[The Solitaire Hotel, Madhavanagar](https://www.zomato.com/bangalore/restaurants/in/hotel-solitaire-madhavnagar)[Aloft Hotel, Whitefield](https://www.zomato.com/bangalore/restaurants/in/aloft-hotel-whitefield)[The Lalit Ashok Bangalore, Seshadripuram](https://www.zomato.com/bangalore/restaurants/in/the-lalit-ashok-bangalore-seshadripuram)[Taj\", \"score\": 0.7756902}, {\"title\": \"THE 10 BEST Restaurants in Bengaluru (Updated June 2025)\", \"url\": \"https://www.tripadvisor.com/Restaurants-g297628-Bengaluru_Bangalore_District_Karnataka.html\", \"content\": \"[18. Shang Palace](https://www.tripadvisor.com/Restaurant_Review-g297628-d8762876-Reviews-Shang_Palace-Bengaluru_Bangalore_District_Karnataka.html)\\n\\n4.8\\n\\n[(425 reviews)](https://www.tripadvisor.com/Restaurant_Review-g297628-d8762876-Reviews-Shang_Palace-Bengaluru_Bangalore_District_Karnataka.html#REVIEWS)\\n\\nClosed now\\n\\nChinese, Asian$$$$ [...] *   [Taaza Thindi](https://www.tripadvisor.com/Restaurant_Review-g297628-d7243749-Reviews-Taaza_Thindi-Bengaluru_Bangalore_District_Karnataka.html)\\n*   [Brahmin's Coffee Bar](https://www.tripadvisor.com/Restaurant_Review-g297628-d785691-Reviews-Brahmin_s_Coffee_Bar-Bengaluru_Bangalore_District_Karnataka.html)\\n*   [Shri Sagar (C.T.R)](https://www.tripadvisor.com/Restaurant_Review-g297628-d850324-Reviews-Shri_Sagar_C_T_R-Bengaluru_Bangalore_District_Karnataka.html)\\n\\n* * *\\n\\nBengaluru [...] [29. The Reservoire](https://www.tripadvisor.com/Restaurant_Review-g297628-d14008089-Reviews-The_Reservoire-Bengaluru_Bangalore_District_Karnataka.html)\\n\\n4.6\\n\\n[(65 reviews)](https://www.tripadvisor.com/Restaurant_Review-g297628-d14008089-Reviews-The_Reservoire-Bengaluru_Bangalore_District_Karnataka.html#REVIEWS)\\n\\nClosed now\\n\\nBars & Pubs, Italian$$$$\", \"score\": 0.7576693}]\n",
      "==================================\u001b[1m Ai Message \u001b[0m==================================\n",
      "Tool Calls:\n",
      "  tavily_search_results_json (qxp4sj3k1)\n",
      " Call ID: qxp4sj3k1\n",
      "  Args:\n",
      "    query: famous places in Bangalore and must visit restaurants\n"
     ]
    }
   ],
   "source": [
    "\n",
    "for event in events:\n",
    "    if \"messages\" in event:\n",
    "        event[\"messages\"][-1].pretty_print()"
   ]
  },
  {
   "cell_type": "code",
   "execution_count": null,
   "id": "16f94bc6",
   "metadata": {},
   "outputs": [],
   "source": [
    "\n",
    "user_input = \"what is a weather there?\"\n",
    "\n",
    "config = {\"configurable\": {\"thread_id\": \"1\"}}"
   ]
  },
  {
   "cell_type": "code",
   "execution_count": null,
   "id": "79242d3d",
   "metadata": {},
   "outputs": [],
   "source": [
    "events = app2.stream(\n",
    "    {\"messages\": [(\"user\", user_input)]}, config, stream_mode=\"values\"\n",
    ")"
   ]
  },
  {
   "cell_type": "code",
   "execution_count": null,
   "id": "714f60fe",
   "metadata": {},
   "outputs": [
    {
     "name": "stdout",
     "output_type": "stream",
     "text": [
      "{'messages': [['user', 'famous places of the bangalore and must visit restaurants?'], AIMessage(content='', additional_kwargs={'tool_calls': [{'id': 'call_NheTr6jPV4EZPe0g1Xluhdhy', 'function': {'arguments': '{\"query\": \"famous places to visit in Bangalore\"}', 'name': 'tavily_search_results_json'}, 'type': 'function'}, {'id': 'call_UoOT3m5svSe0vMILWeIx6l75', 'function': {'arguments': '{\"query\": \"must visit restaurants in Bangalore\"}', 'name': 'tavily_search_results_json'}, 'type': 'function'}], 'refusal': None}, response_metadata={'token_usage': {'completion_tokens': 63, 'prompt_tokens': 91, 'total_tokens': 154, 'completion_tokens_details': {'accepted_prediction_tokens': 0, 'audio_tokens': 0, 'reasoning_tokens': 0, 'rejected_prediction_tokens': 0}, 'prompt_tokens_details': {'audio_tokens': 0, 'cached_tokens': 0}}, 'model_name': 'gpt-4o-2024-08-06', 'system_fingerprint': 'fp_92f14e8683', 'finish_reason': 'tool_calls', 'logprobs': None}, id='run-afa8bec0-9f5c-4783-94df-7beb2bb893d7-0', tool_calls=[{'name': 'tavily_search_results_json', 'args': {'query': 'famous places to visit in Bangalore'}, 'id': 'call_NheTr6jPV4EZPe0g1Xluhdhy', 'type': 'tool_call'}, {'name': 'tavily_search_results_json', 'args': {'query': 'must visit restaurants in Bangalore'}, 'id': 'call_UoOT3m5svSe0vMILWeIx6l75', 'type': 'tool_call'}], usage_metadata={'input_tokens': 91, 'output_tokens': 63, 'total_tokens': 154, 'input_token_details': {'audio': 0, 'cache_read': 0}, 'output_token_details': {'audio': 0, 'reasoning': 0}}), ToolMessage(content='[{\"title\": \"10 Places to visit in Bengaluru 2025 - Capture A Trip\", \"url\": \"https://www.captureatrip.com/blog/places-to-visit-in-bangalore\", \"content\": \"3. What are the famous places to visit in Bangalore ?\\\\n\\\\nOthers are Vidhana Soudha, Bangalore Palace and Bull Temple for its historical and cultural value.\\\\n\\\\n4. Where can I go for a weekend in Bangalore?\\\\n\\\\nNandi Hills is another suitable place for a weekend trip and it offers scenic views of the city while Bannerghatta National Park offers a wildlife experience.\\\\n\\\\nRecent Blogs\\\\n\\\\nOutstanding Hill Stations Near Nainital For a Peaceful Journey\\\\n\\\\nExplore 10 Best Things To Do In Georgia [...] This beautiful palace was the summer residence of the great Kingdom’s ruler, Tipu Sultan and is an Indo Islamic architectural masterpiece. This place is one of the most famous places to visit in Bangalore due to the presence of gorgeous wooden carved work and history.\\\\n\\\\n4. ISKCON Temple: [...] Here are the top 10 places to visit in Bangalore if anybody has the zeal to explore them which includes some historical places, parks, and cultural places. All these places make the city diverse by just giving each place uniqueness that attracts different people.\\\\n\\\\n1. Vidhana Soudha:\\\\n\\\\n\\\\n\\\\nThis big edifice is the home of the state legislature of Karnataka in India. This makes it count among the most visited places in Bangalore, thanks to its beautiful architectural design.\", \"score\": 0.89720124}, {\"title\": \"52 Best Places to visit in Bangalore | Top Tourist Attractions - Holidify\", \"url\": \"https://www.holidify.com/places/bangalore/sightseeing-and-things-to-do.html\", \"content\": \"Bangalore\\\\nPlaces To Visit\\\\nPackages\\\\nHotels\\\\nHow to Reach\\\\nBest Time To Visit\\\\nPhotos\\\\nFood\\\\n\\\\nMore\\\\n\\\\n\\\\nCollections\\\\n\\\\n\\\\nMap\\\\n\\\\n\\\\nReviews & QnA\\\\n\\\\n\\\\nTravel Agents\\\\n\\\\n\\\\n\\\\n\\\\nCollections\\\\n\\\\nMap\\\\nReviews & QnA\\\\nTravel Agents\\\\n\\\\nBangalore, Karnataka\\\\nLalbagh\\\\nCubbon Park\\\\nBangalore Palace\\\\nBannerghatta National Park [...] Places To Visit in Bangalore\\\\nLocated in : Central Bangalore\\\\nSpread over an area of 300 acres, Cubbon Park in the city of Bangalore is a major sightseeing attraction rich in green foliage. It is a green belt region of the city and is an ideal place for nature lovers and those seeking a calm atmosphere. Having been laid down by Lord Cubbon, the park is named so in his honour. It is home to more than 6,000 trees that support a vibrant ecosystem.\\\\nRead More [...] Art Gallery \\xa0\\xa0Garden & Park \\xa0\\xa0Amusement & Theme Park \\xa0\\xa0Forts & Palaces \\xa0\\xa0Hills & Valleys \\xa0\\xa0Temple \\xa0\\xa0Lake \\xa0\\xa0Museum \\xa0\\xa0Waterfall \\xa0\\xa0Commercial Street \\xa0\\xa0Shopping Market \\xa0\\xa0Monument \\xa0\\xa0National Park \\xa0\\xa0Yoga & Meditation \\xa0\\xa0Buddhist Temple \\xa0\\xa0Planetarium \\xa0\\xa0Church & Cathedral \\xa0\\xa0Aquarium \\xa0\\xa0Adventure Zone \\\\nClear All Apply\", \"score\": 0.85825616}, {\"title\": \"THE BEST 15 Things To Do in Bangalore (UPDATED 2025) - Viator\", \"url\": \"https://www.viator.com/Bangalore/d5310\", \"content\": \"Dubbed the Silicon Valley of India for its massive IT industry, the South Indian city of Bangalore has all the trappings of a city that means business, from fantastic shopping to exceptional restaurants. There are plenty of things to do in Bangalore for visitors, from relaxing in the city’s Cubbon Park and Lalbagh Botanical Gardens to marveling at the architecture of Tipu Sultan\\'s Summer Palace, Bangalore Palace, and Vidhana Soudha. And if you need a break from city life, you can simply head up\", \"score\": 0.85216236}, {\"title\": \"New to Bangalore? Here are the top 5 places you can visit, 1. Nandi ...\", \"url\": \"https://www.instagram.com/travelfitnancy/reel/C4S7whqpXH6/?hl=en\", \"content\": \"travelfitnancy on March 9, 2024: \\\\\"New to Bangalore? Here are the top 5 places you can visit, 1. Nandi Hills 2. Lalbagh Botanical Garden 3.\", \"score\": 0.8440111}, {\"title\": \"Bengaluru Tourist Places | Best Places To Visit - Incredible India\", \"url\": \"https://www.incredibleindia.gov.in/en/karnataka/bengaluru\", \"content\": \"Bengaluru—the city that codes poetry, brews coffee, and dances to its rhythm. Let’s explore its pixels and palimpsests, one byte at a time.\\\\n\\\\nAttractions\\\\n\\\\nworth a thousand stories\\\\n\\\\nGhati Subramanya Temple\\\\n\\\\nUlsoor Lake\\\\n\\\\nDevanahalli Fort\\\\n\\\\nMuthyala Maduvu\\\\n\\\\nTipu Sultan Palace\\\\n\\\\nRagigudda Anjaneya Temple\\\\n\\\\nPuttanna Chetty Town Hall\\\\n\\\\nNandi Hills\\\\n\\\\nLalbagh\\\\n\\\\nShivagange\\\\n\\\\nTipu Sultan\\'s Birthplace\\\\n\\\\nA trove of\\\\n\\\\nfascinating facts\\\\n\\\\nA trove of\\\\n\\\\nfascinating facts [...] The big boom may be over, but Bengaluru’s bright young things still have money to spend, and nightlife in the city is thriving. A night on the town generally starts with a bar crawl along Brigade Road, Residency Road, or Church Street. For quiet, elegant drinking, head for the bars of five-star hotels such as the Jockey Club at the Taj Residency or its competition, the Polo Club at the Oberoi, and for a taste of colonial grandeur, the Colonnade at the Taj West End.\\\\n\\\\nA shopper’s paradise\", \"score\": 0.82082915}]', name='tavily_search_results_json', tool_call_id='call_NheTr6jPV4EZPe0g1Xluhdhy', artifact={'query': 'famous places to visit in Bangalore', 'follow_up_questions': None, 'answer': None, 'images': [], 'results': [{'url': 'https://www.captureatrip.com/blog/places-to-visit-in-bangalore', 'title': '10 Places to visit in Bengaluru 2025 - Capture A Trip', 'content': '3. What are the famous places to visit in Bangalore ?\\n\\nOthers are Vidhana Soudha, Bangalore Palace and Bull Temple for its historical and cultural value.\\n\\n4. Where can I go for a weekend in Bangalore?\\n\\nNandi Hills is another suitable place for a weekend trip and it offers scenic views of the city while Bannerghatta National Park offers a wildlife experience.\\n\\nRecent Blogs\\n\\nOutstanding Hill Stations Near Nainital For a Peaceful Journey\\n\\nExplore 10 Best Things To Do In Georgia [...] This beautiful palace was the summer residence of the great Kingdom’s ruler, Tipu Sultan and is an Indo Islamic architectural masterpiece. This place is one of the most famous places to visit in Bangalore due to the presence of gorgeous wooden carved work and history.\\n\\n4. ISKCON Temple: [...] Here are the top 10 places to visit in Bangalore if anybody has the zeal to explore them which includes some historical places, parks, and cultural places. All these places make the city diverse by just giving each place uniqueness that attracts different people.\\n\\n1. Vidhana Soudha:\\n\\n\\n\\nThis big edifice is the home of the state legislature of Karnataka in India. This makes it count among the most visited places in Bangalore, thanks to its beautiful architectural design.', 'score': 0.89720124, 'raw_content': None}, {'url': 'https://www.holidify.com/places/bangalore/sightseeing-and-things-to-do.html', 'title': '52 Best Places to visit in Bangalore | Top Tourist Attractions - Holidify', 'content': 'Bangalore\\nPlaces To Visit\\nPackages\\nHotels\\nHow to Reach\\nBest Time To Visit\\nPhotos\\nFood\\n\\nMore\\n\\n\\nCollections\\n\\n\\nMap\\n\\n\\nReviews & QnA\\n\\n\\nTravel Agents\\n\\n\\n\\n\\nCollections\\n\\nMap\\nReviews & QnA\\nTravel Agents\\n\\nBangalore, Karnataka\\nLalbagh\\nCubbon Park\\nBangalore Palace\\nBannerghatta National Park [...] Places To Visit in Bangalore\\nLocated in : Central Bangalore\\nSpread over an area of 300 acres, Cubbon Park in the city of Bangalore is a major sightseeing attraction rich in green foliage. It is a green belt region of the city and is an ideal place for nature lovers and those seeking a calm atmosphere. Having been laid down by Lord Cubbon, the park is named so in his honour. It is home to more than 6,000 trees that support a vibrant ecosystem.\\nRead More [...] Art Gallery \\xa0\\xa0Garden & Park \\xa0\\xa0Amusement & Theme Park \\xa0\\xa0Forts & Palaces \\xa0\\xa0Hills & Valleys \\xa0\\xa0Temple \\xa0\\xa0Lake \\xa0\\xa0Museum \\xa0\\xa0Waterfall \\xa0\\xa0Commercial Street \\xa0\\xa0Shopping Market \\xa0\\xa0Monument \\xa0\\xa0National Park \\xa0\\xa0Yoga & Meditation \\xa0\\xa0Buddhist Temple \\xa0\\xa0Planetarium \\xa0\\xa0Church & Cathedral \\xa0\\xa0Aquarium \\xa0\\xa0Adventure Zone \\nClear All Apply', 'score': 0.85825616, 'raw_content': None}, {'url': 'https://www.viator.com/Bangalore/d5310', 'title': 'THE BEST 15 Things To Do in Bangalore (UPDATED 2025) - Viator', 'content': \"Dubbed the Silicon Valley of India for its massive IT industry, the South Indian city of Bangalore has all the trappings of a city that means business, from fantastic shopping to exceptional restaurants. There are plenty of things to do in Bangalore for visitors, from relaxing in the city’s Cubbon Park and Lalbagh Botanical Gardens to marveling at the architecture of Tipu Sultan's Summer Palace, Bangalore Palace, and Vidhana Soudha. And if you need a break from city life, you can simply head up\", 'score': 0.85216236, 'raw_content': None}, {'url': 'https://www.instagram.com/travelfitnancy/reel/C4S7whqpXH6/?hl=en', 'title': 'New to Bangalore? Here are the top 5 places you can visit, 1. Nandi ...', 'content': 'travelfitnancy on March 9, 2024: \"New to Bangalore? Here are the top 5 places you can visit, 1. Nandi Hills 2. Lalbagh Botanical Garden 3.', 'score': 0.8440111, 'raw_content': None}, {'url': 'https://www.incredibleindia.gov.in/en/karnataka/bengaluru', 'title': 'Bengaluru Tourist Places | Best Places To Visit - Incredible India', 'content': \"Bengaluru—the city that codes poetry, brews coffee, and dances to its rhythm. Let’s explore its pixels and palimpsests, one byte at a time.\\n\\nAttractions\\n\\nworth a thousand stories\\n\\nGhati Subramanya Temple\\n\\nUlsoor Lake\\n\\nDevanahalli Fort\\n\\nMuthyala Maduvu\\n\\nTipu Sultan Palace\\n\\nRagigudda Anjaneya Temple\\n\\nPuttanna Chetty Town Hall\\n\\nNandi Hills\\n\\nLalbagh\\n\\nShivagange\\n\\nTipu Sultan's Birthplace\\n\\nA trove of\\n\\nfascinating facts\\n\\nA trove of\\n\\nfascinating facts [...] The big boom may be over, but Bengaluru’s bright young things still have money to spend, and nightlife in the city is thriving. A night on the town generally starts with a bar crawl along Brigade Road, Residency Road, or Church Street. For quiet, elegant drinking, head for the bars of five-star hotels such as the Jockey Club at the Taj Residency or its competition, the Polo Club at the Oberoi, and for a taste of colonial grandeur, the Colonnade at the Taj West End.\\n\\nA shopper’s paradise\", 'score': 0.82082915, 'raw_content': None}], 'response_time': 3.45}), ToolMessage(content='[{\"title\": \"Best Restaurants In Bangalore To Delight Your Taste Buds In 2025!\", \"url\": \"https://traveltriangle.com/blog/best-restaurants-in-bangalore/\", \"content\": \"The king of cafes in Bangalore, Toit has set an unmatched standard amongst all the best restaurants in Bangalore. Freshly brewed beer, lively music, and a wide variety of international main courses and starters combine to give this place a ‘must-visit’ tag for any first-timer. It is one of the best restaurants in Bangalore for couples who share a love of pizzas and beers.\\\\n\\\\nAddress: Indiranagar, 100 Feet Rd, Near Drops Total Spirits, Bengaluru, Karnataka 560038 [...] It is impossible to have a list of the best restaurants in Bangalore, without naming its very own Hard Rock Cafe. This cafe, probably, needs no introduction as it has become a household name amongst music and food lovers from all around the world. The brand has built such a reputation that the HRC often gets counted as a sightseeing place for any traveller going to a new city. This is amongst the best restaurants in Bangalore for family and friends to visit. [...] Jamavar is another luxury restaurant that you need to consider visiting. Featuring an ethnic ambience, and indoor and outdoor seating plans, this restaurant serves delectable food. Moreover, this is a kid-friendly place that is also wheelchair accessible. The restaurant is amazing with hospitality, hygiene, food yumminess, and prep times. Special occasions deserve a special treat here.\\\\n\\\\nAddress:\\xa0The Leela Palace, Old Airport Road, Bangalore\\\\n\\\\nTimings:\\xa012–3\\u202fpm, 7–11:30\\u202fpm\\\\n\\\\nCost for two: INR 5000\", \"score\": 0.86767644}, {\"title\": \"What are the must-visit food places in Bangalore, and when ... - Quora\", \"url\": \"https://www.quora.com/What-are-the-must-visit-food-places-in-Bangalore-and-when-is-the-best-time-to-visit-that-place\", \"content\": \"1.Vidyarthi Bhavan. Vidyarthi Bhavan is an iconic eatery in Bangalore that has been serving the best dosa in Bangalore since 1943.\", \"score\": 0.85995835}, {\"title\": \"Shreya Pandey | Must visit restaurants in Bengaluru for Indian food ...\", \"url\": \"https://www.instagram.com/reel/C73Dl0iv2fw/\", \"content\": \"Must visit restaurants in Bengaluru for Indian food. These restaurants are not only beautiful and extravagant but food is also great. Karigari\", \"score\": 0.78532547}, {\"title\": \"The 50 best places to eat in Bengaluru - Wanderlog\", \"url\": \"https://wanderlog.com/list/geoCategory/1510029/best-places-to-eat-in-bengaluru\", \"content\": \"21Barbeque Nation\\\\n\\\\n22MTR\\\\n\\\\n23Byg Brewski Brewing Company\\\\n\\\\n24Nagarjuna Restaurant - Residency Road\\\\n\\\\n25Arbor Brewing Company\\\\n\\\\n26Jamavar\\\\n\\\\n27The Fatty Bao\\\\n\\\\n28High Ultra Lounge\\\\n\\\\n29Sunnys Restaurant\\\\n\\\\n30Ebony\\\\n\\\\n31Maiyas Beverages And Foods Private Limited\\\\n\\\\n32Persian Terrace\\\\n\\\\n33Skyye\\\\n\\\\n34The Permit Room\\\\n\\\\n35Indian Coffee House\\\\n\\\\n36Toast & Tonic\\\\n\\\\n37Wabi Sabi\\\\n\\\\n38Lapis\\\\n\\\\n39Roxie\\\\n\\\\n40V. V. Puram Food Street\\\\n\\\\n41Karnataka Bhel House\\\\n\\\\n42Suryawanshi Restaurant\\\\n\\\\n43The Hole In The Wall Cafe Kammanahalli [...] Navigate backward to interact with the calendar and select a date. Press the question mark key to get the keyboard shortcuts for changing dates.\\\\n\\\\n3Brahmins\\' Coffee Bar\\\\n\\\\n4Vidyarthi Bhavan\\\\n\\\\n5Central Tiffin Room\\\\n\\\\n6Sri Sairam\\'s Chats & Juice Centre\\\\n\\\\n7Truffles\\\\n\\\\n8Shiro\\\\n\\\\n9Koshy\\'s\\\\n\\\\n10Rim Naam\\\\n\\\\n11Chutney Chang\\\\n\\\\n12Olive Beach\\\\n\\\\n13Veena Stores\\\\n\\\\n14Caperberry\\\\n\\\\n15Shivaji Military Hotel\\\\n\\\\n16Oota Bangalore\\\\n\\\\n17Grasshopper\\\\n\\\\n18Khan Saheb Grills and Rolls\\\\n\\\\n19SMTR - Sri Maruthi Tiffin Room\\\\n\\\\n20Nagarjuna [...] As you explore the bustling streets of Bengaluru, you\\'ll discover a mix of iconic eateries and hidden gems that showcase the best of local flavors. From the legendary Vidyarthi Bhavan, famous for its crispy Benne Masala Dosa, to the charming Brahmins\\' Coffee Bar, where the aroma of freshly brewed coffee fills the air, each spot tells a story of its own. The Wanderlog team is passionate about uncovering these culinary treasures, and we invite you to join us on a journey through the best places\", \"score\": 0.6994397}, {\"title\": \"The Best Restaurants in Bengaluru for Dining Out - Zomato\", \"url\": \"https://www.zomato.com/bangalore/restaurants\", \"content\": \"Restaurants in Bengaluru · Atlantis · Jamavar - The Leela Palace · Sozo Skyline · Muro · Feast - Sheraton Grand Bangalore Hotel at Brigade Gateway · Mirage.\", \"score\": 0.6884899}]', name='tavily_search_results_json', tool_call_id='call_UoOT3m5svSe0vMILWeIx6l75', artifact={'query': 'must visit restaurants in Bangalore', 'follow_up_questions': None, 'answer': None, 'images': [], 'results': [{'url': 'https://traveltriangle.com/blog/best-restaurants-in-bangalore/', 'title': 'Best Restaurants In Bangalore To Delight Your Taste Buds In 2025!', 'content': 'The king of cafes in Bangalore, Toit has set an unmatched standard amongst all the best restaurants in Bangalore. Freshly brewed beer, lively music, and a wide variety of international main courses and starters combine to give this place a ‘must-visit’ tag for any first-timer. It is one of the best restaurants in Bangalore for couples who share a love of pizzas and beers.\\n\\nAddress: Indiranagar, 100 Feet Rd, Near Drops Total Spirits, Bengaluru, Karnataka 560038 [...] It is impossible to have a list of the best restaurants in Bangalore, without naming its very own Hard Rock Cafe. This cafe, probably, needs no introduction as it has become a household name amongst music and food lovers from all around the world. The brand has built such a reputation that the HRC often gets counted as a sightseeing place for any traveller going to a new city. This is amongst the best restaurants in Bangalore for family and friends to visit. [...] Jamavar is another luxury restaurant that you need to consider visiting. Featuring an ethnic ambience, and indoor and outdoor seating plans, this restaurant serves delectable food. Moreover, this is a kid-friendly place that is also wheelchair accessible. The restaurant is amazing with hospitality, hygiene, food yumminess, and prep times. Special occasions deserve a special treat here.\\n\\nAddress:\\xa0The Leela Palace, Old Airport Road, Bangalore\\n\\nTimings:\\xa012–3\\u202fpm, 7–11:30\\u202fpm\\n\\nCost for two: INR 5000', 'score': 0.86767644, 'raw_content': None}, {'url': 'https://www.quora.com/What-are-the-must-visit-food-places-in-Bangalore-and-when-is-the-best-time-to-visit-that-place', 'title': 'What are the must-visit food places in Bangalore, and when ... - Quora', 'content': '1.Vidyarthi Bhavan. Vidyarthi Bhavan is an iconic eatery in Bangalore that has been serving the best dosa in Bangalore since 1943.', 'score': 0.85995835, 'raw_content': None}, {'url': 'https://www.instagram.com/reel/C73Dl0iv2fw/', 'title': 'Shreya Pandey | Must visit restaurants in Bengaluru for Indian food ...', 'content': 'Must visit restaurants in Bengaluru for Indian food. These restaurants are not only beautiful and extravagant but food is also great. Karigari', 'score': 0.78532547, 'raw_content': None}, {'url': 'https://wanderlog.com/list/geoCategory/1510029/best-places-to-eat-in-bengaluru', 'title': 'The 50 best places to eat in Bengaluru - Wanderlog', 'content': \"21Barbeque Nation\\n\\n22MTR\\n\\n23Byg Brewski Brewing Company\\n\\n24Nagarjuna Restaurant - Residency Road\\n\\n25Arbor Brewing Company\\n\\n26Jamavar\\n\\n27The Fatty Bao\\n\\n28High Ultra Lounge\\n\\n29Sunnys Restaurant\\n\\n30Ebony\\n\\n31Maiyas Beverages And Foods Private Limited\\n\\n32Persian Terrace\\n\\n33Skyye\\n\\n34The Permit Room\\n\\n35Indian Coffee House\\n\\n36Toast & Tonic\\n\\n37Wabi Sabi\\n\\n38Lapis\\n\\n39Roxie\\n\\n40V. V. Puram Food Street\\n\\n41Karnataka Bhel House\\n\\n42Suryawanshi Restaurant\\n\\n43The Hole In The Wall Cafe Kammanahalli [...] Navigate backward to interact with the calendar and select a date. Press the question mark key to get the keyboard shortcuts for changing dates.\\n\\n3Brahmins' Coffee Bar\\n\\n4Vidyarthi Bhavan\\n\\n5Central Tiffin Room\\n\\n6Sri Sairam's Chats & Juice Centre\\n\\n7Truffles\\n\\n8Shiro\\n\\n9Koshy's\\n\\n10Rim Naam\\n\\n11Chutney Chang\\n\\n12Olive Beach\\n\\n13Veena Stores\\n\\n14Caperberry\\n\\n15Shivaji Military Hotel\\n\\n16Oota Bangalore\\n\\n17Grasshopper\\n\\n18Khan Saheb Grills and Rolls\\n\\n19SMTR - Sri Maruthi Tiffin Room\\n\\n20Nagarjuna [...] As you explore the bustling streets of Bengaluru, you'll discover a mix of iconic eateries and hidden gems that showcase the best of local flavors. From the legendary Vidyarthi Bhavan, famous for its crispy Benne Masala Dosa, to the charming Brahmins' Coffee Bar, where the aroma of freshly brewed coffee fills the air, each spot tells a story of its own. The Wanderlog team is passionate about uncovering these culinary treasures, and we invite you to join us on a journey through the best places\", 'score': 0.6994397, 'raw_content': None}, {'url': 'https://www.zomato.com/bangalore/restaurants', 'title': 'The Best Restaurants in Bengaluru for Dining Out - Zomato', 'content': 'Restaurants in Bengaluru · Atlantis · Jamavar - The Leela Palace · Sozo Skyline · Muro · Feast - Sheraton Grand Bangalore Hotel at Brigade Gateway · Mirage.', 'score': 0.6884899, 'raw_content': None}], 'response_time': 3.01}), AIMessage(content=\"### Famous Places to Visit in Bangalore\\n\\n1. **Vidhana Soudha**: This iconic building is the seat of the state legislature of Karnataka and is renowned for its beautiful architectural design.\\n   \\n2. **Bangalore Palace**: Known for its Tudor-style architecture and sprawling grounds, the palace gives a glimpse into the regal history of Bangalore.\\n\\n3. **Cubbon Park**: Spanning over 300 acres, this lush green park is a favorite spot for nature lovers and those seeking a peaceful retreat within the city.\\n\\n4. **Lalbagh Botanical Garden**: Famous for its glass house and diverse flora, it is a must-visit for gardening enthusiasts and those who enjoy a leisurely stroll amidst nature.\\n\\n5. **Bannerghatta National Park**: Located on the outskirts of Bangalore, this park offers a chance to experience wildlife and is famous for its safari rides.\\n\\n6. **Nandi Hills**: A great spot for a weekend getaway, known for its scenic views and the historical Nandi Fortress.\\n\\n7. **ISKCON Temple**: A spiritual retreat in the midst of the bustling city, known for its architectural grandeur and spiritual activities.\\n\\n8. **Tipu Sultan's Summer Palace**: A stunning example of Indo-Islamic architecture, this palace showcases exquisite wooden carvings and historical artifacts.\\n\\nFor further exploration on these places, visit [Capture a Trip](https://www.captureatrip.com/blog/places-to-visit-in-bangalore).\\n\\n### Must-Visit Restaurants in Bangalore\\n\\n1. **Toit**: Known for freshly brewed beer and a lively atmosphere, it’s a must-visit for beer and pizza lovers. Located in Indiranagar.\\n\\n2. **Hard Rock Café**: A popular spot known for its rock music-themed dining experience.\\n\\n3. **Jamavar**: Located at The Leela Palace, it offers luxury dining with authentic Indian cuisine in a beautiful setting.\\n\\n4. **Vidyarthi Bhavan**: An iconic eatery in Bangalore, famous for serving the best dosas since 1943.\\n\\n5. **Barbeque Nation**: Known for its live grill experience and extensive buffet options.\\n\\n6. **Brahmins' Coffee Bar**: A legendary place for coffee enthusiasts, known for its traditional South Indian breakfast.\\n\\n7. **The Fatty Bao**: Offers a fusion of Asian cuisines in a chic and modern setting.\\n\\n8. **Skyye**: A rooftop restaurant offering stunning views of Bangalore’s skyline, perfect for a fancy night out.\\n\\nFor more dining options, explore [Travel Triangle](https://traveltriangle.com/blog/best-restaurants-in-bangalore/) and [Wanderlog](https://wanderlog.com/list/geoCategory/1510029/best-places-to-eat-in-bengaluru).\", additional_kwargs={'refusal': None}, response_metadata={'token_usage': {'completion_tokens': 568, 'prompt_tokens': 2736, 'total_tokens': 3304, 'completion_tokens_details': {'accepted_prediction_tokens': 0, 'audio_tokens': 0, 'reasoning_tokens': 0, 'rejected_prediction_tokens': 0}, 'prompt_tokens_details': {'audio_tokens': 0, 'cached_tokens': 0}}, 'model_name': 'gpt-4o-2024-08-06', 'system_fingerprint': 'fp_92f14e8683', 'finish_reason': 'stop', 'logprobs': None}, id='run-f2afa37a-c027-46a7-9702-3af8019cbbfe-0', usage_metadata={'input_tokens': 2736, 'output_tokens': 568, 'total_tokens': 3304, 'input_token_details': {'audio': 0, 'cache_read': 0}, 'output_token_details': {'audio': 0, 'reasoning': 0}}), ['user', 'what is a weather there?'], ('user', 'what is a weather there?'), AIMessage(content='', additional_kwargs={'tool_calls': [{'id': 'call_0NLdfZAg6hKgq0QpJ0GSNSYM', 'function': {'arguments': '{\"query\":\"Bangalore weather today\"}', 'name': 'tavily_search_results_json'}, 'type': 'function'}], 'refusal': None}, response_metadata={'token_usage': {'completion_tokens': 22, 'prompt_tokens': 3326, 'total_tokens': 3348, 'completion_tokens_details': {'accepted_prediction_tokens': 0, 'audio_tokens': 0, 'reasoning_tokens': 0, 'rejected_prediction_tokens': 0}, 'prompt_tokens_details': {'audio_tokens': 0, 'cached_tokens': 3200}}, 'model_name': 'gpt-4o-2024-08-06', 'system_fingerprint': 'fp_92f14e8683', 'finish_reason': 'tool_calls', 'logprobs': None}, id='run-f2f60d63-6e81-4312-bf95-d565a60e3652-0', tool_calls=[{'name': 'tavily_search_results_json', 'args': {'query': 'Bangalore weather today'}, 'id': 'call_0NLdfZAg6hKgq0QpJ0GSNSYM', 'type': 'tool_call'}], usage_metadata={'input_tokens': 3326, 'output_tokens': 22, 'total_tokens': 3348, 'input_token_details': {'audio': 0, 'cache_read': 3200}, 'output_token_details': {'audio': 0, 'reasoning': 0}})]}\n"
     ]
    }
   ],
   "source": [
    "for event in events:\n",
    "    print(event)"
   ]
  },
  {
   "cell_type": "code",
   "execution_count": null,
   "id": "5d1fa134",
   "metadata": {},
   "outputs": [
    {
     "ename": "AttributeError",
     "evalue": "'tuple' object has no attribute 'pretty_print'",
     "output_type": "error",
     "traceback": [
      "\u001b[1;31m---------------------------------------------------------------------------\u001b[0m",
      "\u001b[1;31mAttributeError\u001b[0m                            Traceback (most recent call last)",
      "Cell \u001b[1;32mIn[107], line 3\u001b[0m\n\u001b[0;32m      1\u001b[0m \u001b[38;5;28;01mfor\u001b[39;00m event \u001b[38;5;129;01min\u001b[39;00m events:\n\u001b[0;32m      2\u001b[0m     \u001b[38;5;28;01mif\u001b[39;00m \u001b[38;5;124m\"\u001b[39m\u001b[38;5;124mmessages\u001b[39m\u001b[38;5;124m\"\u001b[39m \u001b[38;5;129;01min\u001b[39;00m event:\n\u001b[1;32m----> 3\u001b[0m         \u001b[43mevent\u001b[49m\u001b[43m[\u001b[49m\u001b[38;5;124;43m\"\u001b[39;49m\u001b[38;5;124;43mmessages\u001b[39;49m\u001b[38;5;124;43m\"\u001b[39;49m\u001b[43m]\u001b[49m\u001b[43m[\u001b[49m\u001b[38;5;241;43m-\u001b[39;49m\u001b[38;5;241;43m1\u001b[39;49m\u001b[43m]\u001b[49m\u001b[38;5;241;43m.\u001b[39;49m\u001b[43mpretty_print\u001b[49m()\n",
      "\u001b[1;31mAttributeError\u001b[0m: 'tuple' object has no attribute 'pretty_print'"
     ]
    }
   ],
   "source": [
    "\n",
    "for event in events:\n",
    "    if \"messages\" in event:\n",
    "        event[\"messages\"][-1].pretty_print()"
   ]
  },
  {
   "cell_type": "code",
   "execution_count": null,
   "id": "0ac49a66",
   "metadata": {},
   "outputs": [],
   "source": [
    "\n",
    "snapshot = app2.get_state(config)\n",
    "     "
   ]
  },
  {
   "cell_type": "code",
   "execution_count": null,
   "id": "d4859c01",
   "metadata": {},
   "outputs": [
    {
     "data": {
      "text/plain": [
       "('tools',)"
      ]
     },
     "execution_count": 110,
     "metadata": {},
     "output_type": "execute_result"
    }
   ],
   "source": [
    "\n",
    "snapshot.next"
   ]
  },
  {
   "cell_type": "code",
   "execution_count": null,
   "id": "1d7ca9b5",
   "metadata": {},
   "outputs": [],
   "source": [
    "\n",
    "last_message=snapshot.values[\"messages\"][-1]"
   ]
  },
  {
   "cell_type": "code",
   "execution_count": null,
   "id": "bbd13975",
   "metadata": {},
   "outputs": [
    {
     "data": {
      "text/plain": [
       "[{'name': 'tavily_search_results_json',\n",
       "  'args': {'query': 'Bangalore weather today'},\n",
       "  'id': 'call_0NLdfZAg6hKgq0QpJ0GSNSYM',\n",
       "  'type': 'tool_call'}]"
      ]
     },
     "execution_count": 112,
     "metadata": {},
     "output_type": "execute_result"
    }
   ],
   "source": [
    "\n",
    "last_message.tool_calls"
   ]
  },
  {
   "cell_type": "code",
   "execution_count": null,
   "id": "22937065",
   "metadata": {},
   "outputs": [],
   "source": [
    "events = app2.stream(None, config, stream_mode=\"values\")"
   ]
  },
  {
   "cell_type": "code",
   "execution_count": null,
   "id": "bbaaf8ef",
   "metadata": {},
   "outputs": [
    {
     "name": "stdout",
     "output_type": "stream",
     "text": [
      "==================================\u001b[1m Ai Message \u001b[0m==================================\n",
      "Tool Calls:\n",
      "  tavily_search_results_json (call_0NLdfZAg6hKgq0QpJ0GSNSYM)\n",
      " Call ID: call_0NLdfZAg6hKgq0QpJ0GSNSYM\n",
      "  Args:\n",
      "    query: Bangalore weather today\n",
      "=================================\u001b[1m Tool Message \u001b[0m=================================\n",
      "Name: tavily_search_results_json\n",
      "\n",
      "[{\"title\": \"bengaluru Weather Forecast 13 Apr 2025 - Times of India\", \"url\": \"https://timesofindia.indiatimes.com/weather/bengaluru-weather-forecast-today/560001\", \"content\": \"Today's Weather in Bengaluru: In Bengaluru today, the weather is expected to be Partly Cloudy with a maximum temperature of 32°C and a minimum of 17°C.\", \"score\": 0.96205425}, {\"title\": \"Weather in Bangalore\", \"url\": \"https://www.weatherapi.com/\", \"content\": \"{'location': {'name': 'Bangalore', 'region': 'Karnataka', 'country': 'India', 'lat': 12.9833, 'lon': 77.5833, 'tz_id': 'Asia/Kolkata', 'localtime_epoch': 1744563279, 'localtime': '2025-04-13 22:24'}, 'current': {'last_updated_epoch': 1744562700, 'last_updated': '2025-04-13 22:15', 'temp_c': 23.0, 'temp_f': 73.4, 'is_day': 0, 'condition': {'text': 'Partly cloudy', 'icon': '//cdn.weatherapi.com/weather/64x64/night/116.png', 'code': 1003}, 'wind_mph': 6.7, 'wind_kph': 10.8, 'wind_degree': 177, 'wind_dir': 'S', 'pressure_mb': 1016.0, 'pressure_in': 30.0, 'precip_mm': 0.0, 'precip_in': 0.0, 'humidity': 73, 'cloud': 50, 'feelslike_c': 23.8, 'feelslike_f': 74.8, 'windchill_c': 28.6, 'windchill_f': 83.4, 'heatindex_c': 27.6, 'heatindex_f': 81.7, 'dewpoint_c': 10.0, 'dewpoint_f': 49.9, 'vis_km': 6.0, 'vis_miles': 3.0, 'uv': 0.0, 'gust_mph': 10.6, 'gust_kph': 17.1}}\", \"score\": 0.9284724}, {\"title\": \"Weather Bengaluru in April 2025: Temperature & Climate\", \"url\": \"https://en.climate-data.org/asia/india/karnataka/bengaluru-4562/t/april-4/\", \"content\": \"Min. Temperature °C (°F) | 14.6 °C(58.4) °F | 16.1 °C(61) °F | 18.7 °C(65.6) °F | 20.8 °C(69.4) °F | 21 °C(69.8) °F | 20.2 °C(68.3) °F | 19.8 °C(67.6) °F | 19.4 °C(66.9) °F | 19 °C(66.2) °F | 18.4 °C(65.1) °F | 16.7 °C(62) °F | 15.1 °C(59.1) °F\\nMax. Temperature °C (°F) | 27.4 °C(81.2) °F | 29.6 °C(85.3) °F | 32.1 °C(89.8) °F | 32.8 °C(91.1) °F | 31.2 °C(88.2) °F | 27.5 °C(81.5) °F | 26.4 °C(79.5) °F | 26.1 °C(79) °F | 26.7 °C(80) °F | 26.4 °C(79.6) °F | 25.7 °C(78.3) °F | 25.8 °C(78.4) °F [...] (69.3)  °F\\n\\n22.8 °C\\n\\n(73)  °F\\n\\n25.4 °C\\n\\n(77.8)  °F\\n\\n26.6 °C\\n\\n(80)  °F\\n\\n25.5 °C\\n\\n(77.9)  °F\\n\\n23.2 °C\\n\\n(73.8)  °F\\n\\n22.4 °C\\n\\n(72.3)  °F\\n\\n22.2 °C\\n\\n(71.9)  °F\\n\\n22.4 °C\\n\\n(72.3)  °F\\n\\n22 °C\\n\\n(71.6)  °F\\n\\n20.9 °C\\n\\n(69.7)  °F\\n\\n20.1 °C\\n\\n(68.2)  °F\\n\\n14.6 °C\\n\\n(58.4) °F\\n\\n16.1 °C\\n\\n(61) °F\\n\\n18.7 °C\\n\\n(65.6) °F\\n\\n20.8 °C\\n\\n(69.4) °F\\n\\n21 °C\\n\\n(69.8) °F\\n\\n20.2 °C\\n\\n(68.3) °F\\n\\n19.8 °C\\n\\n(67.6) °F\\n\\n19.4 °C\\n\\n(66.9) °F\\n\\n19 °C\\n\\n(66.2) °F\\n\\n18.4 °C\\n\\n(65.1) °F\\n\\n16.7 °C\\n\\n(62) °F\\n\\n15.1 °C\\n\\n(59.1) °F\\n\\n27.4 °C\\n\\n(81.2) °F\\n\\n29.6 °C [...] (85.3) °F\\n\\n32.1 °C\\n\\n(89.8) °F\\n\\n32.8 °C\\n\\n(91.1) °F\\n\\n31.2 °C\\n\\n(88.2) °F\\n\\n27.5 °C\\n\\n(81.5) °F\\n\\n26.4 °C\\n\\n(79.5) °F\\n\\n26.1 °C\\n\\n(79) °F\\n\\n26.7 °C\\n\\n(80) °F\\n\\n26.4 °C\\n\\n(79.6) °F\\n\\n25.7 °C\\n\\n(78.3) °F\\n\\n25.8 °C\\n\\n(78.4) °F\\n\\n4\\n\\n(0)\\n\\n7\\n\\n(0)\\n\\n16\\n\\n(0)\\n\\n45\\n\\n(1)\\n\\n131\\n\\n(5)\\n\\n126\\n\\n(4)\\n\\n134\\n\\n(5)\\n\\n137\\n\\n(5)\\n\\n125\\n\\n(4)\\n\\n147\\n\\n(5)\\n\\n65\\n\\n(2)\\n\\n23\\n\\n(0)\", \"score\": 0.9134376}, {\"title\": \"Bangalore weather in April 2025 - Weather25.com\", \"url\": \"https://www.weather25.com/asia/india/karnataka/bangalore?page=month&month=April\", \"content\": \"Location was added to My Locations\\nLocation was removed from My Locations\\nMarch\\nMay\\nBangalore weather in April 2025\\nThe weather in Bangalore in April is very hot. The average temperatures are between 24°C and 36°C, drinking water regularly is advisable.\\nYou can expect about 3 to 8 days of rain in Bangalore during the month of April. It’s a good idea to bring along your umbrella so that you don’t get caught in poor weather. [...] | Sun | Mon | Tue | Wed | Thu | Fri | Sat |\\n| --- | --- | --- | --- | --- | --- | --- |\\n| \\n | \\n| 1  36° /23° | 2  36° /23° | 3  36° /23° | 4  35° /23° | 5  36° /23° |\\n| 6  36° /23° | 7  36° /24° | 8  35° /22° | 9  35° /23° | 10  35° /23° | 11  36° /23° | 12  36° /23° |\\n| 13  36° /23° | 14  35° /23° | 15  34° /23° | 16  36° /23° | 17  36° /24° | 18  35° /24° | 19  35° /24° |\\n| 20  35° /24° | 21  36° /24° | 22  35° /24° | 23  35° /23° | 24  36° /24° | 25  35° /24° | 26  35° /25° | [...] Temperatures\\n36° / 24°\\n\\nRainy Days\\n4\\n\\nSnowy Days\\n0\\n\\nDry Days\\n26\\n\\nRainfall\\n61\\nmm\\n\\nSun Hours\\n11.8\\nHrs\\nHistoric average weather for April\\n\\nApril\", \"score\": 0.8943568}, {\"title\": \"Weather in Bangalore in April 2025 (State of Karnātaka)\", \"url\": \"https://world-weather.info/forecast/india/bangalor/april-2025/\", \"content\": \"2\\n+93°+77°\\n\\n\\n3\\n+93°+79°\\n\\n\\n4\\n+91°+79°\\n\\n\\n5\\n+91°+79°\\n\\n\\n6\\n+91°+79°\\n\\n\\n7\\n+91°+79°\\n\\n\\n8\\n+91°+79°\\n\\n\\n9\\n+93°+79°\\n\\n\\n10\\n+91°+79°\\n\\n\\n11\\n+93°+79°\\n\\n\\n12\\n+91°+79°\\n\\n\\n13\\n+91°+79°\\n\\n\\n14\\n+91°+79°\\n\\n\\n15\\n+93°+77°\\n\\n\\n16\\n+91°+77°\\n\\n\\n17\\n+91°+79°\\n\\n\\n18\\n+93°+79°\\n\\n\\n19\\n+91°+79°\\n\\n\\n20\\n+90°+79°\\n\\n\\n21\\n+90°+77°\\n\\n\\n22\\n+90°+79°\\n\\n\\n23\\n+91°+79°\\n\\n\\n24\\n+91°+79°\\n\\n\\n25\\n+88°+77°\\n\\n\\n26\\n+90°+79°\\n\\n\\n27\\n+91°+79°\\n\\n\\n28\\n+91°+79°\\n\\n\\n29\\n+90°+79°\\n\\n\\n30\\n+90°+79°\\n\\n\\nExtended weather forecast in Bangalore\\nHourlyWeek10-Day14-Day30-DayYear [...] Weather in Bangalore in April 2025 (State of Karnātaka) - Detailed Weather Forecast for a Month\\n\\nAdd the current city\\nSearch\\n\\nWeather\\nArchive\\nWidgets\\n\\n°F\\n\\nWorld\\nIndia\\nState of Karnātaka\\nWeather in Bangalore\\n\\nWeather in Bangalore in April 2025\\nBangalore Weather Forecast for April 2025, is based on previous years' statistical data.\\n201520162017201820192020202120222023202420252026\\nJanFebMarAprMayJunJulAugSepOctNovDec\\nApril\\nStart Week On\\nSunday\\nMonday\\n\\nSun\\nMon\\nTue\\nWed\\nThu\\nFri\\n\\nSat\\n\\n\\n1\\n+91°+77° [...] Weather in large and nearby cities\\nWeather in New Delhi+73°\\nAvadi+88°\\nKozhikode+90°\\nAmbattur+88°\\nChennai+88°\\nDindigul+82°\\nThanjavur+86°\\nMangalore+86°\\nNellore+86°\\nTiruchchirāppalli+86°\\nPuducherry+86°\\nBellary+84°\\nMysore+81°\\nSalem+86°\\nAnantapur+84°\\nTirupati+82°\\nKothakota+86°\\nVathalur+86°\\nMinimum and maximum\\nworld's temperature today\\nRussia\\nZyryanka\\nday\\n-22°F\\nnight\\n-49°F\\nChad\\nMongo\\nday\\n+109°F\\nnight\\n+73°F\\nServices\\nSupport\\n\\nUser agreement\\nFeedback\\nAbout Us\", \"score\": 0.8898454}]\n",
      "==================================\u001b[1m Ai Message \u001b[0m==================================\n",
      "\n",
      "Today's weather in Bangalore is partly cloudy with a maximum temperature of 32°C (about 89.6°F) and a minimum of 17°C (about 62.6°F). The current temperature is around 23°C (73.4°F) with a relatively high humidity level of 73%. There is no precipitation expected, and the conditions suggest a pleasant, partly cloudy evening.\n"
     ]
    }
   ],
   "source": [
    "for event in events:\n",
    "    if \"messages\" in event:\n",
    "        event[\"messages\"][-1].pretty_print()"
   ]
  },
  {
   "cell_type": "code",
   "execution_count": null,
   "id": "38bdbcba",
   "metadata": {},
   "outputs": [
    {
     "data": {
      "text/plain": [
       "StateSnapshot(values={'messages': [['user', 'famous places of the bangalore and must visit restaurants?'], AIMessage(content='', additional_kwargs={'tool_calls': [{'id': 'call_NheTr6jPV4EZPe0g1Xluhdhy', 'function': {'arguments': '{\"query\": \"famous places to visit in Bangalore\"}', 'name': 'tavily_search_results_json'}, 'type': 'function'}, {'id': 'call_UoOT3m5svSe0vMILWeIx6l75', 'function': {'arguments': '{\"query\": \"must visit restaurants in Bangalore\"}', 'name': 'tavily_search_results_json'}, 'type': 'function'}], 'refusal': None}, response_metadata={'token_usage': {'completion_tokens': 63, 'prompt_tokens': 91, 'total_tokens': 154, 'completion_tokens_details': {'accepted_prediction_tokens': 0, 'audio_tokens': 0, 'reasoning_tokens': 0, 'rejected_prediction_tokens': 0}, 'prompt_tokens_details': {'audio_tokens': 0, 'cached_tokens': 0}}, 'model_name': 'gpt-4o-2024-08-06', 'system_fingerprint': 'fp_92f14e8683', 'finish_reason': 'tool_calls', 'logprobs': None}, id='run-afa8bec0-9f5c-4783-94df-7beb2bb893d7-0', tool_calls=[{'name': 'tavily_search_results_json', 'args': {'query': 'famous places to visit in Bangalore'}, 'id': 'call_NheTr6jPV4EZPe0g1Xluhdhy', 'type': 'tool_call'}, {'name': 'tavily_search_results_json', 'args': {'query': 'must visit restaurants in Bangalore'}, 'id': 'call_UoOT3m5svSe0vMILWeIx6l75', 'type': 'tool_call'}], usage_metadata={'input_tokens': 91, 'output_tokens': 63, 'total_tokens': 154, 'input_token_details': {'audio': 0, 'cache_read': 0}, 'output_token_details': {'audio': 0, 'reasoning': 0}}), ToolMessage(content='[{\"title\": \"10 Places to visit in Bengaluru 2025 - Capture A Trip\", \"url\": \"https://www.captureatrip.com/blog/places-to-visit-in-bangalore\", \"content\": \"3. What are the famous places to visit in Bangalore ?\\\\n\\\\nOthers are Vidhana Soudha, Bangalore Palace and Bull Temple for its historical and cultural value.\\\\n\\\\n4. Where can I go for a weekend in Bangalore?\\\\n\\\\nNandi Hills is another suitable place for a weekend trip and it offers scenic views of the city while Bannerghatta National Park offers a wildlife experience.\\\\n\\\\nRecent Blogs\\\\n\\\\nOutstanding Hill Stations Near Nainital For a Peaceful Journey\\\\n\\\\nExplore 10 Best Things To Do In Georgia [...] This beautiful palace was the summer residence of the great Kingdom’s ruler, Tipu Sultan and is an Indo Islamic architectural masterpiece. This place is one of the most famous places to visit in Bangalore due to the presence of gorgeous wooden carved work and history.\\\\n\\\\n4. ISKCON Temple: [...] Here are the top 10 places to visit in Bangalore if anybody has the zeal to explore them which includes some historical places, parks, and cultural places. All these places make the city diverse by just giving each place uniqueness that attracts different people.\\\\n\\\\n1. Vidhana Soudha:\\\\n\\\\n\\\\n\\\\nThis big edifice is the home of the state legislature of Karnataka in India. This makes it count among the most visited places in Bangalore, thanks to its beautiful architectural design.\", \"score\": 0.89720124}, {\"title\": \"52 Best Places to visit in Bangalore | Top Tourist Attractions - Holidify\", \"url\": \"https://www.holidify.com/places/bangalore/sightseeing-and-things-to-do.html\", \"content\": \"Bangalore\\\\nPlaces To Visit\\\\nPackages\\\\nHotels\\\\nHow to Reach\\\\nBest Time To Visit\\\\nPhotos\\\\nFood\\\\n\\\\nMore\\\\n\\\\n\\\\nCollections\\\\n\\\\n\\\\nMap\\\\n\\\\n\\\\nReviews & QnA\\\\n\\\\n\\\\nTravel Agents\\\\n\\\\n\\\\n\\\\n\\\\nCollections\\\\n\\\\nMap\\\\nReviews & QnA\\\\nTravel Agents\\\\n\\\\nBangalore, Karnataka\\\\nLalbagh\\\\nCubbon Park\\\\nBangalore Palace\\\\nBannerghatta National Park [...] Places To Visit in Bangalore\\\\nLocated in : Central Bangalore\\\\nSpread over an area of 300 acres, Cubbon Park in the city of Bangalore is a major sightseeing attraction rich in green foliage. It is a green belt region of the city and is an ideal place for nature lovers and those seeking a calm atmosphere. Having been laid down by Lord Cubbon, the park is named so in his honour. It is home to more than 6,000 trees that support a vibrant ecosystem.\\\\nRead More [...] Art Gallery \\xa0\\xa0Garden & Park \\xa0\\xa0Amusement & Theme Park \\xa0\\xa0Forts & Palaces \\xa0\\xa0Hills & Valleys \\xa0\\xa0Temple \\xa0\\xa0Lake \\xa0\\xa0Museum \\xa0\\xa0Waterfall \\xa0\\xa0Commercial Street \\xa0\\xa0Shopping Market \\xa0\\xa0Monument \\xa0\\xa0National Park \\xa0\\xa0Yoga & Meditation \\xa0\\xa0Buddhist Temple \\xa0\\xa0Planetarium \\xa0\\xa0Church & Cathedral \\xa0\\xa0Aquarium \\xa0\\xa0Adventure Zone \\\\nClear All Apply\", \"score\": 0.85825616}, {\"title\": \"THE BEST 15 Things To Do in Bangalore (UPDATED 2025) - Viator\", \"url\": \"https://www.viator.com/Bangalore/d5310\", \"content\": \"Dubbed the Silicon Valley of India for its massive IT industry, the South Indian city of Bangalore has all the trappings of a city that means business, from fantastic shopping to exceptional restaurants. There are plenty of things to do in Bangalore for visitors, from relaxing in the city’s Cubbon Park and Lalbagh Botanical Gardens to marveling at the architecture of Tipu Sultan\\'s Summer Palace, Bangalore Palace, and Vidhana Soudha. And if you need a break from city life, you can simply head up\", \"score\": 0.85216236}, {\"title\": \"New to Bangalore? Here are the top 5 places you can visit, 1. Nandi ...\", \"url\": \"https://www.instagram.com/travelfitnancy/reel/C4S7whqpXH6/?hl=en\", \"content\": \"travelfitnancy on March 9, 2024: \\\\\"New to Bangalore? Here are the top 5 places you can visit, 1. Nandi Hills 2. Lalbagh Botanical Garden 3.\", \"score\": 0.8440111}, {\"title\": \"Bengaluru Tourist Places | Best Places To Visit - Incredible India\", \"url\": \"https://www.incredibleindia.gov.in/en/karnataka/bengaluru\", \"content\": \"Bengaluru—the city that codes poetry, brews coffee, and dances to its rhythm. Let’s explore its pixels and palimpsests, one byte at a time.\\\\n\\\\nAttractions\\\\n\\\\nworth a thousand stories\\\\n\\\\nGhati Subramanya Temple\\\\n\\\\nUlsoor Lake\\\\n\\\\nDevanahalli Fort\\\\n\\\\nMuthyala Maduvu\\\\n\\\\nTipu Sultan Palace\\\\n\\\\nRagigudda Anjaneya Temple\\\\n\\\\nPuttanna Chetty Town Hall\\\\n\\\\nNandi Hills\\\\n\\\\nLalbagh\\\\n\\\\nShivagange\\\\n\\\\nTipu Sultan\\'s Birthplace\\\\n\\\\nA trove of\\\\n\\\\nfascinating facts\\\\n\\\\nA trove of\\\\n\\\\nfascinating facts [...] The big boom may be over, but Bengaluru’s bright young things still have money to spend, and nightlife in the city is thriving. A night on the town generally starts with a bar crawl along Brigade Road, Residency Road, or Church Street. For quiet, elegant drinking, head for the bars of five-star hotels such as the Jockey Club at the Taj Residency or its competition, the Polo Club at the Oberoi, and for a taste of colonial grandeur, the Colonnade at the Taj West End.\\\\n\\\\nA shopper’s paradise\", \"score\": 0.82082915}]', name='tavily_search_results_json', tool_call_id='call_NheTr6jPV4EZPe0g1Xluhdhy', artifact={'query': 'famous places to visit in Bangalore', 'follow_up_questions': None, 'answer': None, 'images': [], 'results': [{'url': 'https://www.captureatrip.com/blog/places-to-visit-in-bangalore', 'title': '10 Places to visit in Bengaluru 2025 - Capture A Trip', 'content': '3. What are the famous places to visit in Bangalore ?\\n\\nOthers are Vidhana Soudha, Bangalore Palace and Bull Temple for its historical and cultural value.\\n\\n4. Where can I go for a weekend in Bangalore?\\n\\nNandi Hills is another suitable place for a weekend trip and it offers scenic views of the city while Bannerghatta National Park offers a wildlife experience.\\n\\nRecent Blogs\\n\\nOutstanding Hill Stations Near Nainital For a Peaceful Journey\\n\\nExplore 10 Best Things To Do In Georgia [...] This beautiful palace was the summer residence of the great Kingdom’s ruler, Tipu Sultan and is an Indo Islamic architectural masterpiece. This place is one of the most famous places to visit in Bangalore due to the presence of gorgeous wooden carved work and history.\\n\\n4. ISKCON Temple: [...] Here are the top 10 places to visit in Bangalore if anybody has the zeal to explore them which includes some historical places, parks, and cultural places. All these places make the city diverse by just giving each place uniqueness that attracts different people.\\n\\n1. Vidhana Soudha:\\n\\n\\n\\nThis big edifice is the home of the state legislature of Karnataka in India. This makes it count among the most visited places in Bangalore, thanks to its beautiful architectural design.', 'score': 0.89720124, 'raw_content': None}, {'url': 'https://www.holidify.com/places/bangalore/sightseeing-and-things-to-do.html', 'title': '52 Best Places to visit in Bangalore | Top Tourist Attractions - Holidify', 'content': 'Bangalore\\nPlaces To Visit\\nPackages\\nHotels\\nHow to Reach\\nBest Time To Visit\\nPhotos\\nFood\\n\\nMore\\n\\n\\nCollections\\n\\n\\nMap\\n\\n\\nReviews & QnA\\n\\n\\nTravel Agents\\n\\n\\n\\n\\nCollections\\n\\nMap\\nReviews & QnA\\nTravel Agents\\n\\nBangalore, Karnataka\\nLalbagh\\nCubbon Park\\nBangalore Palace\\nBannerghatta National Park [...] Places To Visit in Bangalore\\nLocated in : Central Bangalore\\nSpread over an area of 300 acres, Cubbon Park in the city of Bangalore is a major sightseeing attraction rich in green foliage. It is a green belt region of the city and is an ideal place for nature lovers and those seeking a calm atmosphere. Having been laid down by Lord Cubbon, the park is named so in his honour. It is home to more than 6,000 trees that support a vibrant ecosystem.\\nRead More [...] Art Gallery \\xa0\\xa0Garden & Park \\xa0\\xa0Amusement & Theme Park \\xa0\\xa0Forts & Palaces \\xa0\\xa0Hills & Valleys \\xa0\\xa0Temple \\xa0\\xa0Lake \\xa0\\xa0Museum \\xa0\\xa0Waterfall \\xa0\\xa0Commercial Street \\xa0\\xa0Shopping Market \\xa0\\xa0Monument \\xa0\\xa0National Park \\xa0\\xa0Yoga & Meditation \\xa0\\xa0Buddhist Temple \\xa0\\xa0Planetarium \\xa0\\xa0Church & Cathedral \\xa0\\xa0Aquarium \\xa0\\xa0Adventure Zone \\nClear All Apply', 'score': 0.85825616, 'raw_content': None}, {'url': 'https://www.viator.com/Bangalore/d5310', 'title': 'THE BEST 15 Things To Do in Bangalore (UPDATED 2025) - Viator', 'content': \"Dubbed the Silicon Valley of India for its massive IT industry, the South Indian city of Bangalore has all the trappings of a city that means business, from fantastic shopping to exceptional restaurants. There are plenty of things to do in Bangalore for visitors, from relaxing in the city’s Cubbon Park and Lalbagh Botanical Gardens to marveling at the architecture of Tipu Sultan's Summer Palace, Bangalore Palace, and Vidhana Soudha. And if you need a break from city life, you can simply head up\", 'score': 0.85216236, 'raw_content': None}, {'url': 'https://www.instagram.com/travelfitnancy/reel/C4S7whqpXH6/?hl=en', 'title': 'New to Bangalore? Here are the top 5 places you can visit, 1. Nandi ...', 'content': 'travelfitnancy on March 9, 2024: \"New to Bangalore? Here are the top 5 places you can visit, 1. Nandi Hills 2. Lalbagh Botanical Garden 3.', 'score': 0.8440111, 'raw_content': None}, {'url': 'https://www.incredibleindia.gov.in/en/karnataka/bengaluru', 'title': 'Bengaluru Tourist Places | Best Places To Visit - Incredible India', 'content': \"Bengaluru—the city that codes poetry, brews coffee, and dances to its rhythm. Let’s explore its pixels and palimpsests, one byte at a time.\\n\\nAttractions\\n\\nworth a thousand stories\\n\\nGhati Subramanya Temple\\n\\nUlsoor Lake\\n\\nDevanahalli Fort\\n\\nMuthyala Maduvu\\n\\nTipu Sultan Palace\\n\\nRagigudda Anjaneya Temple\\n\\nPuttanna Chetty Town Hall\\n\\nNandi Hills\\n\\nLalbagh\\n\\nShivagange\\n\\nTipu Sultan's Birthplace\\n\\nA trove of\\n\\nfascinating facts\\n\\nA trove of\\n\\nfascinating facts [...] The big boom may be over, but Bengaluru’s bright young things still have money to spend, and nightlife in the city is thriving. A night on the town generally starts with a bar crawl along Brigade Road, Residency Road, or Church Street. For quiet, elegant drinking, head for the bars of five-star hotels such as the Jockey Club at the Taj Residency or its competition, the Polo Club at the Oberoi, and for a taste of colonial grandeur, the Colonnade at the Taj West End.\\n\\nA shopper’s paradise\", 'score': 0.82082915, 'raw_content': None}], 'response_time': 3.45}), ToolMessage(content='[{\"title\": \"Best Restaurants In Bangalore To Delight Your Taste Buds In 2025!\", \"url\": \"https://traveltriangle.com/blog/best-restaurants-in-bangalore/\", \"content\": \"The king of cafes in Bangalore, Toit has set an unmatched standard amongst all the best restaurants in Bangalore. Freshly brewed beer, lively music, and a wide variety of international main courses and starters combine to give this place a ‘must-visit’ tag for any first-timer. It is one of the best restaurants in Bangalore for couples who share a love of pizzas and beers.\\\\n\\\\nAddress: Indiranagar, 100 Feet Rd, Near Drops Total Spirits, Bengaluru, Karnataka 560038 [...] It is impossible to have a list of the best restaurants in Bangalore, without naming its very own Hard Rock Cafe. This cafe, probably, needs no introduction as it has become a household name amongst music and food lovers from all around the world. The brand has built such a reputation that the HRC often gets counted as a sightseeing place for any traveller going to a new city. This is amongst the best restaurants in Bangalore for family and friends to visit. [...] Jamavar is another luxury restaurant that you need to consider visiting. Featuring an ethnic ambience, and indoor and outdoor seating plans, this restaurant serves delectable food. Moreover, this is a kid-friendly place that is also wheelchair accessible. The restaurant is amazing with hospitality, hygiene, food yumminess, and prep times. Special occasions deserve a special treat here.\\\\n\\\\nAddress:\\xa0The Leela Palace, Old Airport Road, Bangalore\\\\n\\\\nTimings:\\xa012–3\\u202fpm, 7–11:30\\u202fpm\\\\n\\\\nCost for two: INR 5000\", \"score\": 0.86767644}, {\"title\": \"What are the must-visit food places in Bangalore, and when ... - Quora\", \"url\": \"https://www.quora.com/What-are-the-must-visit-food-places-in-Bangalore-and-when-is-the-best-time-to-visit-that-place\", \"content\": \"1.Vidyarthi Bhavan. Vidyarthi Bhavan is an iconic eatery in Bangalore that has been serving the best dosa in Bangalore since 1943.\", \"score\": 0.85995835}, {\"title\": \"Shreya Pandey | Must visit restaurants in Bengaluru for Indian food ...\", \"url\": \"https://www.instagram.com/reel/C73Dl0iv2fw/\", \"content\": \"Must visit restaurants in Bengaluru for Indian food. These restaurants are not only beautiful and extravagant but food is also great. Karigari\", \"score\": 0.78532547}, {\"title\": \"The 50 best places to eat in Bengaluru - Wanderlog\", \"url\": \"https://wanderlog.com/list/geoCategory/1510029/best-places-to-eat-in-bengaluru\", \"content\": \"21Barbeque Nation\\\\n\\\\n22MTR\\\\n\\\\n23Byg Brewski Brewing Company\\\\n\\\\n24Nagarjuna Restaurant - Residency Road\\\\n\\\\n25Arbor Brewing Company\\\\n\\\\n26Jamavar\\\\n\\\\n27The Fatty Bao\\\\n\\\\n28High Ultra Lounge\\\\n\\\\n29Sunnys Restaurant\\\\n\\\\n30Ebony\\\\n\\\\n31Maiyas Beverages And Foods Private Limited\\\\n\\\\n32Persian Terrace\\\\n\\\\n33Skyye\\\\n\\\\n34The Permit Room\\\\n\\\\n35Indian Coffee House\\\\n\\\\n36Toast & Tonic\\\\n\\\\n37Wabi Sabi\\\\n\\\\n38Lapis\\\\n\\\\n39Roxie\\\\n\\\\n40V. V. Puram Food Street\\\\n\\\\n41Karnataka Bhel House\\\\n\\\\n42Suryawanshi Restaurant\\\\n\\\\n43The Hole In The Wall Cafe Kammanahalli [...] Navigate backward to interact with the calendar and select a date. Press the question mark key to get the keyboard shortcuts for changing dates.\\\\n\\\\n3Brahmins\\' Coffee Bar\\\\n\\\\n4Vidyarthi Bhavan\\\\n\\\\n5Central Tiffin Room\\\\n\\\\n6Sri Sairam\\'s Chats & Juice Centre\\\\n\\\\n7Truffles\\\\n\\\\n8Shiro\\\\n\\\\n9Koshy\\'s\\\\n\\\\n10Rim Naam\\\\n\\\\n11Chutney Chang\\\\n\\\\n12Olive Beach\\\\n\\\\n13Veena Stores\\\\n\\\\n14Caperberry\\\\n\\\\n15Shivaji Military Hotel\\\\n\\\\n16Oota Bangalore\\\\n\\\\n17Grasshopper\\\\n\\\\n18Khan Saheb Grills and Rolls\\\\n\\\\n19SMTR - Sri Maruthi Tiffin Room\\\\n\\\\n20Nagarjuna [...] As you explore the bustling streets of Bengaluru, you\\'ll discover a mix of iconic eateries and hidden gems that showcase the best of local flavors. From the legendary Vidyarthi Bhavan, famous for its crispy Benne Masala Dosa, to the charming Brahmins\\' Coffee Bar, where the aroma of freshly brewed coffee fills the air, each spot tells a story of its own. The Wanderlog team is passionate about uncovering these culinary treasures, and we invite you to join us on a journey through the best places\", \"score\": 0.6994397}, {\"title\": \"The Best Restaurants in Bengaluru for Dining Out - Zomato\", \"url\": \"https://www.zomato.com/bangalore/restaurants\", \"content\": \"Restaurants in Bengaluru · Atlantis · Jamavar - The Leela Palace · Sozo Skyline · Muro · Feast - Sheraton Grand Bangalore Hotel at Brigade Gateway · Mirage.\", \"score\": 0.6884899}]', name='tavily_search_results_json', tool_call_id='call_UoOT3m5svSe0vMILWeIx6l75', artifact={'query': 'must visit restaurants in Bangalore', 'follow_up_questions': None, 'answer': None, 'images': [], 'results': [{'url': 'https://traveltriangle.com/blog/best-restaurants-in-bangalore/', 'title': 'Best Restaurants In Bangalore To Delight Your Taste Buds In 2025!', 'content': 'The king of cafes in Bangalore, Toit has set an unmatched standard amongst all the best restaurants in Bangalore. Freshly brewed beer, lively music, and a wide variety of international main courses and starters combine to give this place a ‘must-visit’ tag for any first-timer. It is one of the best restaurants in Bangalore for couples who share a love of pizzas and beers.\\n\\nAddress: Indiranagar, 100 Feet Rd, Near Drops Total Spirits, Bengaluru, Karnataka 560038 [...] It is impossible to have a list of the best restaurants in Bangalore, without naming its very own Hard Rock Cafe. This cafe, probably, needs no introduction as it has become a household name amongst music and food lovers from all around the world. The brand has built such a reputation that the HRC often gets counted as a sightseeing place for any traveller going to a new city. This is amongst the best restaurants in Bangalore for family and friends to visit. [...] Jamavar is another luxury restaurant that you need to consider visiting. Featuring an ethnic ambience, and indoor and outdoor seating plans, this restaurant serves delectable food. Moreover, this is a kid-friendly place that is also wheelchair accessible. The restaurant is amazing with hospitality, hygiene, food yumminess, and prep times. Special occasions deserve a special treat here.\\n\\nAddress:\\xa0The Leela Palace, Old Airport Road, Bangalore\\n\\nTimings:\\xa012–3\\u202fpm, 7–11:30\\u202fpm\\n\\nCost for two: INR 5000', 'score': 0.86767644, 'raw_content': None}, {'url': 'https://www.quora.com/What-are-the-must-visit-food-places-in-Bangalore-and-when-is-the-best-time-to-visit-that-place', 'title': 'What are the must-visit food places in Bangalore, and when ... - Quora', 'content': '1.Vidyarthi Bhavan. Vidyarthi Bhavan is an iconic eatery in Bangalore that has been serving the best dosa in Bangalore since 1943.', 'score': 0.85995835, 'raw_content': None}, {'url': 'https://www.instagram.com/reel/C73Dl0iv2fw/', 'title': 'Shreya Pandey | Must visit restaurants in Bengaluru for Indian food ...', 'content': 'Must visit restaurants in Bengaluru for Indian food. These restaurants are not only beautiful and extravagant but food is also great. Karigari', 'score': 0.78532547, 'raw_content': None}, {'url': 'https://wanderlog.com/list/geoCategory/1510029/best-places-to-eat-in-bengaluru', 'title': 'The 50 best places to eat in Bengaluru - Wanderlog', 'content': \"21Barbeque Nation\\n\\n22MTR\\n\\n23Byg Brewski Brewing Company\\n\\n24Nagarjuna Restaurant - Residency Road\\n\\n25Arbor Brewing Company\\n\\n26Jamavar\\n\\n27The Fatty Bao\\n\\n28High Ultra Lounge\\n\\n29Sunnys Restaurant\\n\\n30Ebony\\n\\n31Maiyas Beverages And Foods Private Limited\\n\\n32Persian Terrace\\n\\n33Skyye\\n\\n34The Permit Room\\n\\n35Indian Coffee House\\n\\n36Toast & Tonic\\n\\n37Wabi Sabi\\n\\n38Lapis\\n\\n39Roxie\\n\\n40V. V. Puram Food Street\\n\\n41Karnataka Bhel House\\n\\n42Suryawanshi Restaurant\\n\\n43The Hole In The Wall Cafe Kammanahalli [...] Navigate backward to interact with the calendar and select a date. Press the question mark key to get the keyboard shortcuts for changing dates.\\n\\n3Brahmins' Coffee Bar\\n\\n4Vidyarthi Bhavan\\n\\n5Central Tiffin Room\\n\\n6Sri Sairam's Chats & Juice Centre\\n\\n7Truffles\\n\\n8Shiro\\n\\n9Koshy's\\n\\n10Rim Naam\\n\\n11Chutney Chang\\n\\n12Olive Beach\\n\\n13Veena Stores\\n\\n14Caperberry\\n\\n15Shivaji Military Hotel\\n\\n16Oota Bangalore\\n\\n17Grasshopper\\n\\n18Khan Saheb Grills and Rolls\\n\\n19SMTR - Sri Maruthi Tiffin Room\\n\\n20Nagarjuna [...] As you explore the bustling streets of Bengaluru, you'll discover a mix of iconic eateries and hidden gems that showcase the best of local flavors. From the legendary Vidyarthi Bhavan, famous for its crispy Benne Masala Dosa, to the charming Brahmins' Coffee Bar, where the aroma of freshly brewed coffee fills the air, each spot tells a story of its own. The Wanderlog team is passionate about uncovering these culinary treasures, and we invite you to join us on a journey through the best places\", 'score': 0.6994397, 'raw_content': None}, {'url': 'https://www.zomato.com/bangalore/restaurants', 'title': 'The Best Restaurants in Bengaluru for Dining Out - Zomato', 'content': 'Restaurants in Bengaluru · Atlantis · Jamavar - The Leela Palace · Sozo Skyline · Muro · Feast - Sheraton Grand Bangalore Hotel at Brigade Gateway · Mirage.', 'score': 0.6884899, 'raw_content': None}], 'response_time': 3.01}), AIMessage(content=\"### Famous Places to Visit in Bangalore\\n\\n1. **Vidhana Soudha**: This iconic building is the seat of the state legislature of Karnataka and is renowned for its beautiful architectural design.\\n   \\n2. **Bangalore Palace**: Known for its Tudor-style architecture and sprawling grounds, the palace gives a glimpse into the regal history of Bangalore.\\n\\n3. **Cubbon Park**: Spanning over 300 acres, this lush green park is a favorite spot for nature lovers and those seeking a peaceful retreat within the city.\\n\\n4. **Lalbagh Botanical Garden**: Famous for its glass house and diverse flora, it is a must-visit for gardening enthusiasts and those who enjoy a leisurely stroll amidst nature.\\n\\n5. **Bannerghatta National Park**: Located on the outskirts of Bangalore, this park offers a chance to experience wildlife and is famous for its safari rides.\\n\\n6. **Nandi Hills**: A great spot for a weekend getaway, known for its scenic views and the historical Nandi Fortress.\\n\\n7. **ISKCON Temple**: A spiritual retreat in the midst of the bustling city, known for its architectural grandeur and spiritual activities.\\n\\n8. **Tipu Sultan's Summer Palace**: A stunning example of Indo-Islamic architecture, this palace showcases exquisite wooden carvings and historical artifacts.\\n\\nFor further exploration on these places, visit [Capture a Trip](https://www.captureatrip.com/blog/places-to-visit-in-bangalore).\\n\\n### Must-Visit Restaurants in Bangalore\\n\\n1. **Toit**: Known for freshly brewed beer and a lively atmosphere, it’s a must-visit for beer and pizza lovers. Located in Indiranagar.\\n\\n2. **Hard Rock Café**: A popular spot known for its rock music-themed dining experience.\\n\\n3. **Jamavar**: Located at The Leela Palace, it offers luxury dining with authentic Indian cuisine in a beautiful setting.\\n\\n4. **Vidyarthi Bhavan**: An iconic eatery in Bangalore, famous for serving the best dosas since 1943.\\n\\n5. **Barbeque Nation**: Known for its live grill experience and extensive buffet options.\\n\\n6. **Brahmins' Coffee Bar**: A legendary place for coffee enthusiasts, known for its traditional South Indian breakfast.\\n\\n7. **The Fatty Bao**: Offers a fusion of Asian cuisines in a chic and modern setting.\\n\\n8. **Skyye**: A rooftop restaurant offering stunning views of Bangalore’s skyline, perfect for a fancy night out.\\n\\nFor more dining options, explore [Travel Triangle](https://traveltriangle.com/blog/best-restaurants-in-bangalore/) and [Wanderlog](https://wanderlog.com/list/geoCategory/1510029/best-places-to-eat-in-bengaluru).\", additional_kwargs={'refusal': None}, response_metadata={'token_usage': {'completion_tokens': 568, 'prompt_tokens': 2736, 'total_tokens': 3304, 'completion_tokens_details': {'accepted_prediction_tokens': 0, 'audio_tokens': 0, 'reasoning_tokens': 0, 'rejected_prediction_tokens': 0}, 'prompt_tokens_details': {'audio_tokens': 0, 'cached_tokens': 0}}, 'model_name': 'gpt-4o-2024-08-06', 'system_fingerprint': 'fp_92f14e8683', 'finish_reason': 'stop', 'logprobs': None}, id='run-f2afa37a-c027-46a7-9702-3af8019cbbfe-0', usage_metadata={'input_tokens': 2736, 'output_tokens': 568, 'total_tokens': 3304, 'input_token_details': {'audio': 0, 'cache_read': 0}, 'output_token_details': {'audio': 0, 'reasoning': 0}}), ['user', 'what is a weather there?'], ['user', 'what is a weather there?'], AIMessage(content='', additional_kwargs={'tool_calls': [{'id': 'call_0NLdfZAg6hKgq0QpJ0GSNSYM', 'function': {'arguments': '{\"query\":\"Bangalore weather today\"}', 'name': 'tavily_search_results_json'}, 'type': 'function'}], 'refusal': None}, response_metadata={'token_usage': {'completion_tokens': 22, 'prompt_tokens': 3326, 'total_tokens': 3348, 'completion_tokens_details': {'accepted_prediction_tokens': 0, 'audio_tokens': 0, 'reasoning_tokens': 0, 'rejected_prediction_tokens': 0}, 'prompt_tokens_details': {'audio_tokens': 0, 'cached_tokens': 3200}}, 'model_name': 'gpt-4o-2024-08-06', 'system_fingerprint': 'fp_92f14e8683', 'finish_reason': 'tool_calls', 'logprobs': None}, id='run-f2f60d63-6e81-4312-bf95-d565a60e3652-0', tool_calls=[{'name': 'tavily_search_results_json', 'args': {'query': 'Bangalore weather today'}, 'id': 'call_0NLdfZAg6hKgq0QpJ0GSNSYM', 'type': 'tool_call'}], usage_metadata={'input_tokens': 3326, 'output_tokens': 22, 'total_tokens': 3348, 'input_token_details': {'audio': 0, 'cache_read': 3200}, 'output_token_details': {'audio': 0, 'reasoning': 0}}), ToolMessage(content='[{\"title\": \"bengaluru Weather Forecast 13 Apr 2025 - Times of India\", \"url\": \"https://timesofindia.indiatimes.com/weather/bengaluru-weather-forecast-today/560001\", \"content\": \"Today\\'s Weather in Bengaluru: In Bengaluru today, the weather is expected to be Partly Cloudy with a maximum temperature of 32°C and a minimum of 17°C.\", \"score\": 0.96205425}, {\"title\": \"Weather in Bangalore\", \"url\": \"https://www.weatherapi.com/\", \"content\": \"{\\'location\\': {\\'name\\': \\'Bangalore\\', \\'region\\': \\'Karnataka\\', \\'country\\': \\'India\\', \\'lat\\': 12.9833, \\'lon\\': 77.5833, \\'tz_id\\': \\'Asia/Kolkata\\', \\'localtime_epoch\\': 1744563279, \\'localtime\\': \\'2025-04-13 22:24\\'}, \\'current\\': {\\'last_updated_epoch\\': 1744562700, \\'last_updated\\': \\'2025-04-13 22:15\\', \\'temp_c\\': 23.0, \\'temp_f\\': 73.4, \\'is_day\\': 0, \\'condition\\': {\\'text\\': \\'Partly cloudy\\', \\'icon\\': \\'//cdn.weatherapi.com/weather/64x64/night/116.png\\', \\'code\\': 1003}, \\'wind_mph\\': 6.7, \\'wind_kph\\': 10.8, \\'wind_degree\\': 177, \\'wind_dir\\': \\'S\\', \\'pressure_mb\\': 1016.0, \\'pressure_in\\': 30.0, \\'precip_mm\\': 0.0, \\'precip_in\\': 0.0, \\'humidity\\': 73, \\'cloud\\': 50, \\'feelslike_c\\': 23.8, \\'feelslike_f\\': 74.8, \\'windchill_c\\': 28.6, \\'windchill_f\\': 83.4, \\'heatindex_c\\': 27.6, \\'heatindex_f\\': 81.7, \\'dewpoint_c\\': 10.0, \\'dewpoint_f\\': 49.9, \\'vis_km\\': 6.0, \\'vis_miles\\': 3.0, \\'uv\\': 0.0, \\'gust_mph\\': 10.6, \\'gust_kph\\': 17.1}}\", \"score\": 0.9284724}, {\"title\": \"Weather Bengaluru in April 2025: Temperature & Climate\", \"url\": \"https://en.climate-data.org/asia/india/karnataka/bengaluru-4562/t/april-4/\", \"content\": \"Min. Temperature °C (°F) | 14.6 °C(58.4) °F | 16.1 °C(61) °F | 18.7 °C(65.6) °F | 20.8 °C(69.4) °F | 21 °C(69.8) °F | 20.2 °C(68.3) °F | 19.8 °C(67.6) °F | 19.4 °C(66.9) °F | 19 °C(66.2) °F | 18.4 °C(65.1) °F | 16.7 °C(62) °F | 15.1 °C(59.1) °F\\\\nMax. Temperature °C (°F) | 27.4 °C(81.2) °F | 29.6 °C(85.3) °F | 32.1 °C(89.8) °F | 32.8 °C(91.1) °F | 31.2 °C(88.2) °F | 27.5 °C(81.5) °F | 26.4 °C(79.5) °F | 26.1 °C(79) °F | 26.7 °C(80) °F | 26.4 °C(79.6) °F | 25.7 °C(78.3) °F | 25.8 °C(78.4) °F [...] (69.3)  °F\\\\n\\\\n22.8 °C\\\\n\\\\n(73)  °F\\\\n\\\\n25.4 °C\\\\n\\\\n(77.8)  °F\\\\n\\\\n26.6 °C\\\\n\\\\n(80)  °F\\\\n\\\\n25.5 °C\\\\n\\\\n(77.9)  °F\\\\n\\\\n23.2 °C\\\\n\\\\n(73.8)  °F\\\\n\\\\n22.4 °C\\\\n\\\\n(72.3)  °F\\\\n\\\\n22.2 °C\\\\n\\\\n(71.9)  °F\\\\n\\\\n22.4 °C\\\\n\\\\n(72.3)  °F\\\\n\\\\n22 °C\\\\n\\\\n(71.6)  °F\\\\n\\\\n20.9 °C\\\\n\\\\n(69.7)  °F\\\\n\\\\n20.1 °C\\\\n\\\\n(68.2)  °F\\\\n\\\\n14.6 °C\\\\n\\\\n(58.4) °F\\\\n\\\\n16.1 °C\\\\n\\\\n(61) °F\\\\n\\\\n18.7 °C\\\\n\\\\n(65.6) °F\\\\n\\\\n20.8 °C\\\\n\\\\n(69.4) °F\\\\n\\\\n21 °C\\\\n\\\\n(69.8) °F\\\\n\\\\n20.2 °C\\\\n\\\\n(68.3) °F\\\\n\\\\n19.8 °C\\\\n\\\\n(67.6) °F\\\\n\\\\n19.4 °C\\\\n\\\\n(66.9) °F\\\\n\\\\n19 °C\\\\n\\\\n(66.2) °F\\\\n\\\\n18.4 °C\\\\n\\\\n(65.1) °F\\\\n\\\\n16.7 °C\\\\n\\\\n(62) °F\\\\n\\\\n15.1 °C\\\\n\\\\n(59.1) °F\\\\n\\\\n27.4 °C\\\\n\\\\n(81.2) °F\\\\n\\\\n29.6 °C [...] (85.3) °F\\\\n\\\\n32.1 °C\\\\n\\\\n(89.8) °F\\\\n\\\\n32.8 °C\\\\n\\\\n(91.1) °F\\\\n\\\\n31.2 °C\\\\n\\\\n(88.2) °F\\\\n\\\\n27.5 °C\\\\n\\\\n(81.5) °F\\\\n\\\\n26.4 °C\\\\n\\\\n(79.5) °F\\\\n\\\\n26.1 °C\\\\n\\\\n(79) °F\\\\n\\\\n26.7 °C\\\\n\\\\n(80) °F\\\\n\\\\n26.4 °C\\\\n\\\\n(79.6) °F\\\\n\\\\n25.7 °C\\\\n\\\\n(78.3) °F\\\\n\\\\n25.8 °C\\\\n\\\\n(78.4) °F\\\\n\\\\n4\\\\n\\\\n(0)\\\\n\\\\n7\\\\n\\\\n(0)\\\\n\\\\n16\\\\n\\\\n(0)\\\\n\\\\n45\\\\n\\\\n(1)\\\\n\\\\n131\\\\n\\\\n(5)\\\\n\\\\n126\\\\n\\\\n(4)\\\\n\\\\n134\\\\n\\\\n(5)\\\\n\\\\n137\\\\n\\\\n(5)\\\\n\\\\n125\\\\n\\\\n(4)\\\\n\\\\n147\\\\n\\\\n(5)\\\\n\\\\n65\\\\n\\\\n(2)\\\\n\\\\n23\\\\n\\\\n(0)\", \"score\": 0.9134376}, {\"title\": \"Bangalore weather in April 2025 - Weather25.com\", \"url\": \"https://www.weather25.com/asia/india/karnataka/bangalore?page=month&month=April\", \"content\": \"Location was added to My Locations\\\\nLocation was removed from My Locations\\\\nMarch\\\\nMay\\\\nBangalore weather in April 2025\\\\nThe weather in Bangalore in April is very hot. The average temperatures are between 24°C and 36°C, drinking water regularly is advisable.\\\\nYou can expect about 3 to 8 days of rain in Bangalore during the month of April. It’s a good idea to bring along your umbrella so that you don’t get caught in poor weather. [...] | Sun | Mon | Tue | Wed | Thu | Fri | Sat |\\\\n| --- | --- | --- | --- | --- | --- | --- |\\\\n| \\\\n | \\\\n| 1  36° /23° | 2  36° /23° | 3  36° /23° | 4  35° /23° | 5  36° /23° |\\\\n| 6  36° /23° | 7  36° /24° | 8  35° /22° | 9  35° /23° | 10  35° /23° | 11  36° /23° | 12  36° /23° |\\\\n| 13  36° /23° | 14  35° /23° | 15  34° /23° | 16  36° /23° | 17  36° /24° | 18  35° /24° | 19  35° /24° |\\\\n| 20  35° /24° | 21  36° /24° | 22  35° /24° | 23  35° /23° | 24  36° /24° | 25  35° /24° | 26  35° /25° | [...] Temperatures\\\\n36° / 24°\\\\n\\\\nRainy Days\\\\n4\\\\n\\\\nSnowy Days\\\\n0\\\\n\\\\nDry Days\\\\n26\\\\n\\\\nRainfall\\\\n61\\\\nmm\\\\n\\\\nSun Hours\\\\n11.8\\\\nHrs\\\\nHistoric average weather for April\\\\n\\\\nApril\", \"score\": 0.8943568}, {\"title\": \"Weather in Bangalore in April 2025 (State of Karnātaka)\", \"url\": \"https://world-weather.info/forecast/india/bangalor/april-2025/\", \"content\": \"2\\\\n+93°+77°\\\\n\\\\n\\\\n3\\\\n+93°+79°\\\\n\\\\n\\\\n4\\\\n+91°+79°\\\\n\\\\n\\\\n5\\\\n+91°+79°\\\\n\\\\n\\\\n6\\\\n+91°+79°\\\\n\\\\n\\\\n7\\\\n+91°+79°\\\\n\\\\n\\\\n8\\\\n+91°+79°\\\\n\\\\n\\\\n9\\\\n+93°+79°\\\\n\\\\n\\\\n10\\\\n+91°+79°\\\\n\\\\n\\\\n11\\\\n+93°+79°\\\\n\\\\n\\\\n12\\\\n+91°+79°\\\\n\\\\n\\\\n13\\\\n+91°+79°\\\\n\\\\n\\\\n14\\\\n+91°+79°\\\\n\\\\n\\\\n15\\\\n+93°+77°\\\\n\\\\n\\\\n16\\\\n+91°+77°\\\\n\\\\n\\\\n17\\\\n+91°+79°\\\\n\\\\n\\\\n18\\\\n+93°+79°\\\\n\\\\n\\\\n19\\\\n+91°+79°\\\\n\\\\n\\\\n20\\\\n+90°+79°\\\\n\\\\n\\\\n21\\\\n+90°+77°\\\\n\\\\n\\\\n22\\\\n+90°+79°\\\\n\\\\n\\\\n23\\\\n+91°+79°\\\\n\\\\n\\\\n24\\\\n+91°+79°\\\\n\\\\n\\\\n25\\\\n+88°+77°\\\\n\\\\n\\\\n26\\\\n+90°+79°\\\\n\\\\n\\\\n27\\\\n+91°+79°\\\\n\\\\n\\\\n28\\\\n+91°+79°\\\\n\\\\n\\\\n29\\\\n+90°+79°\\\\n\\\\n\\\\n30\\\\n+90°+79°\\\\n\\\\n\\\\nExtended weather forecast in Bangalore\\\\nHourlyWeek10-Day14-Day30-DayYear [...] Weather in Bangalore in April 2025 (State of Karnātaka) - Detailed Weather Forecast for a Month\\\\n\\\\nAdd the current city\\\\nSearch\\\\n\\\\nWeather\\\\nArchive\\\\nWidgets\\\\n\\\\n°F\\\\n\\\\nWorld\\\\nIndia\\\\nState of Karnātaka\\\\nWeather in Bangalore\\\\n\\\\nWeather in Bangalore in April 2025\\\\nBangalore Weather Forecast for April 2025, is based on previous years\\' statistical data.\\\\n201520162017201820192020202120222023202420252026\\\\nJanFebMarAprMayJunJulAugSepOctNovDec\\\\nApril\\\\nStart Week On\\\\nSunday\\\\nMonday\\\\n\\\\nSun\\\\nMon\\\\nTue\\\\nWed\\\\nThu\\\\nFri\\\\n\\\\nSat\\\\n\\\\n\\\\n1\\\\n+91°+77° [...] Weather in large and nearby cities\\\\nWeather in New Delhi+73°\\\\nAvadi+88°\\\\nKozhikode+90°\\\\nAmbattur+88°\\\\nChennai+88°\\\\nDindigul+82°\\\\nThanjavur+86°\\\\nMangalore+86°\\\\nNellore+86°\\\\nTiruchchirāppalli+86°\\\\nPuducherry+86°\\\\nBellary+84°\\\\nMysore+81°\\\\nSalem+86°\\\\nAnantapur+84°\\\\nTirupati+82°\\\\nKothakota+86°\\\\nVathalur+86°\\\\nMinimum and maximum\\\\nworld\\'s temperature today\\\\nRussia\\\\nZyryanka\\\\nday\\\\n-22°F\\\\nnight\\\\n-49°F\\\\nChad\\\\nMongo\\\\nday\\\\n+109°F\\\\nnight\\\\n+73°F\\\\nServices\\\\nSupport\\\\n\\\\nUser agreement\\\\nFeedback\\\\nAbout Us\", \"score\": 0.8898454}]', name='tavily_search_results_json', tool_call_id='call_0NLdfZAg6hKgq0QpJ0GSNSYM', artifact={'query': 'Bangalore weather today', 'follow_up_questions': None, 'answer': None, 'images': [], 'results': [{'url': 'https://timesofindia.indiatimes.com/weather/bengaluru-weather-forecast-today/560001', 'title': 'bengaluru Weather Forecast 13 Apr 2025 - Times of India', 'content': \"Today's Weather in Bengaluru: In Bengaluru today, the weather is expected to be Partly Cloudy with a maximum temperature of 32°C and a minimum of 17°C.\", 'score': 0.96205425, 'raw_content': None}, {'title': 'Weather in Bangalore', 'url': 'https://www.weatherapi.com/', 'content': \"{'location': {'name': 'Bangalore', 'region': 'Karnataka', 'country': 'India', 'lat': 12.9833, 'lon': 77.5833, 'tz_id': 'Asia/Kolkata', 'localtime_epoch': 1744563279, 'localtime': '2025-04-13 22:24'}, 'current': {'last_updated_epoch': 1744562700, 'last_updated': '2025-04-13 22:15', 'temp_c': 23.0, 'temp_f': 73.4, 'is_day': 0, 'condition': {'text': 'Partly cloudy', 'icon': '//cdn.weatherapi.com/weather/64x64/night/116.png', 'code': 1003}, 'wind_mph': 6.7, 'wind_kph': 10.8, 'wind_degree': 177, 'wind_dir': 'S', 'pressure_mb': 1016.0, 'pressure_in': 30.0, 'precip_mm': 0.0, 'precip_in': 0.0, 'humidity': 73, 'cloud': 50, 'feelslike_c': 23.8, 'feelslike_f': 74.8, 'windchill_c': 28.6, 'windchill_f': 83.4, 'heatindex_c': 27.6, 'heatindex_f': 81.7, 'dewpoint_c': 10.0, 'dewpoint_f': 49.9, 'vis_km': 6.0, 'vis_miles': 3.0, 'uv': 0.0, 'gust_mph': 10.6, 'gust_kph': 17.1}}\", 'score': 0.9284724, 'raw_content': None}, {'url': 'https://en.climate-data.org/asia/india/karnataka/bengaluru-4562/t/april-4/', 'title': 'Weather Bengaluru in April 2025: Temperature & Climate', 'content': 'Min. Temperature °C (°F) | 14.6 °C(58.4) °F | 16.1 °C(61) °F | 18.7 °C(65.6) °F | 20.8 °C(69.4) °F | 21 °C(69.8) °F | 20.2 °C(68.3) °F | 19.8 °C(67.6) °F | 19.4 °C(66.9) °F | 19 °C(66.2) °F | 18.4 °C(65.1) °F | 16.7 °C(62) °F | 15.1 °C(59.1) °F\\nMax. Temperature °C (°F) | 27.4 °C(81.2) °F | 29.6 °C(85.3) °F | 32.1 °C(89.8) °F | 32.8 °C(91.1) °F | 31.2 °C(88.2) °F | 27.5 °C(81.5) °F | 26.4 °C(79.5) °F | 26.1 °C(79) °F | 26.7 °C(80) °F | 26.4 °C(79.6) °F | 25.7 °C(78.3) °F | 25.8 °C(78.4) °F [...] (69.3)  °F\\n\\n22.8 °C\\n\\n(73)  °F\\n\\n25.4 °C\\n\\n(77.8)  °F\\n\\n26.6 °C\\n\\n(80)  °F\\n\\n25.5 °C\\n\\n(77.9)  °F\\n\\n23.2 °C\\n\\n(73.8)  °F\\n\\n22.4 °C\\n\\n(72.3)  °F\\n\\n22.2 °C\\n\\n(71.9)  °F\\n\\n22.4 °C\\n\\n(72.3)  °F\\n\\n22 °C\\n\\n(71.6)  °F\\n\\n20.9 °C\\n\\n(69.7)  °F\\n\\n20.1 °C\\n\\n(68.2)  °F\\n\\n14.6 °C\\n\\n(58.4) °F\\n\\n16.1 °C\\n\\n(61) °F\\n\\n18.7 °C\\n\\n(65.6) °F\\n\\n20.8 °C\\n\\n(69.4) °F\\n\\n21 °C\\n\\n(69.8) °F\\n\\n20.2 °C\\n\\n(68.3) °F\\n\\n19.8 °C\\n\\n(67.6) °F\\n\\n19.4 °C\\n\\n(66.9) °F\\n\\n19 °C\\n\\n(66.2) °F\\n\\n18.4 °C\\n\\n(65.1) °F\\n\\n16.7 °C\\n\\n(62) °F\\n\\n15.1 °C\\n\\n(59.1) °F\\n\\n27.4 °C\\n\\n(81.2) °F\\n\\n29.6 °C [...] (85.3) °F\\n\\n32.1 °C\\n\\n(89.8) °F\\n\\n32.8 °C\\n\\n(91.1) °F\\n\\n31.2 °C\\n\\n(88.2) °F\\n\\n27.5 °C\\n\\n(81.5) °F\\n\\n26.4 °C\\n\\n(79.5) °F\\n\\n26.1 °C\\n\\n(79) °F\\n\\n26.7 °C\\n\\n(80) °F\\n\\n26.4 °C\\n\\n(79.6) °F\\n\\n25.7 °C\\n\\n(78.3) °F\\n\\n25.8 °C\\n\\n(78.4) °F\\n\\n4\\n\\n(0)\\n\\n7\\n\\n(0)\\n\\n16\\n\\n(0)\\n\\n45\\n\\n(1)\\n\\n131\\n\\n(5)\\n\\n126\\n\\n(4)\\n\\n134\\n\\n(5)\\n\\n137\\n\\n(5)\\n\\n125\\n\\n(4)\\n\\n147\\n\\n(5)\\n\\n65\\n\\n(2)\\n\\n23\\n\\n(0)', 'score': 0.9134376, 'raw_content': None}, {'url': 'https://www.weather25.com/asia/india/karnataka/bangalore?page=month&month=April', 'title': 'Bangalore weather in April 2025 - Weather25.com', 'content': 'Location was added to My Locations\\nLocation was removed from My Locations\\nMarch\\nMay\\nBangalore weather in April 2025\\nThe weather in Bangalore in April is very hot. The average temperatures are between 24°C and 36°C, drinking water regularly is advisable.\\nYou can expect about 3 to 8 days of rain in Bangalore during the month of April. It’s a good idea to bring along your umbrella so that you don’t get caught in poor weather. [...] | Sun | Mon | Tue | Wed | Thu | Fri | Sat |\\n| --- | --- | --- | --- | --- | --- | --- |\\n| \\n | \\n| 1  36° /23° | 2  36° /23° | 3  36° /23° | 4  35° /23° | 5  36° /23° |\\n| 6  36° /23° | 7  36° /24° | 8  35° /22° | 9  35° /23° | 10  35° /23° | 11  36° /23° | 12  36° /23° |\\n| 13  36° /23° | 14  35° /23° | 15  34° /23° | 16  36° /23° | 17  36° /24° | 18  35° /24° | 19  35° /24° |\\n| 20  35° /24° | 21  36° /24° | 22  35° /24° | 23  35° /23° | 24  36° /24° | 25  35° /24° | 26  35° /25° | [...] Temperatures\\n36° / 24°\\n\\nRainy Days\\n4\\n\\nSnowy Days\\n0\\n\\nDry Days\\n26\\n\\nRainfall\\n61\\nmm\\n\\nSun Hours\\n11.8\\nHrs\\nHistoric average weather for April\\n\\nApril', 'score': 0.8943568, 'raw_content': None}, {'url': 'https://world-weather.info/forecast/india/bangalor/april-2025/', 'title': 'Weather in Bangalore in April 2025 (State of Karnātaka)', 'content': \"2\\n+93°+77°\\n\\n\\n3\\n+93°+79°\\n\\n\\n4\\n+91°+79°\\n\\n\\n5\\n+91°+79°\\n\\n\\n6\\n+91°+79°\\n\\n\\n7\\n+91°+79°\\n\\n\\n8\\n+91°+79°\\n\\n\\n9\\n+93°+79°\\n\\n\\n10\\n+91°+79°\\n\\n\\n11\\n+93°+79°\\n\\n\\n12\\n+91°+79°\\n\\n\\n13\\n+91°+79°\\n\\n\\n14\\n+91°+79°\\n\\n\\n15\\n+93°+77°\\n\\n\\n16\\n+91°+77°\\n\\n\\n17\\n+91°+79°\\n\\n\\n18\\n+93°+79°\\n\\n\\n19\\n+91°+79°\\n\\n\\n20\\n+90°+79°\\n\\n\\n21\\n+90°+77°\\n\\n\\n22\\n+90°+79°\\n\\n\\n23\\n+91°+79°\\n\\n\\n24\\n+91°+79°\\n\\n\\n25\\n+88°+77°\\n\\n\\n26\\n+90°+79°\\n\\n\\n27\\n+91°+79°\\n\\n\\n28\\n+91°+79°\\n\\n\\n29\\n+90°+79°\\n\\n\\n30\\n+90°+79°\\n\\n\\nExtended weather forecast in Bangalore\\nHourlyWeek10-Day14-Day30-DayYear [...] Weather in Bangalore in April 2025 (State of Karnātaka) - Detailed Weather Forecast for a Month\\n\\nAdd the current city\\nSearch\\n\\nWeather\\nArchive\\nWidgets\\n\\n°F\\n\\nWorld\\nIndia\\nState of Karnātaka\\nWeather in Bangalore\\n\\nWeather in Bangalore in April 2025\\nBangalore Weather Forecast for April 2025, is based on previous years' statistical data.\\n201520162017201820192020202120222023202420252026\\nJanFebMarAprMayJunJulAugSepOctNovDec\\nApril\\nStart Week On\\nSunday\\nMonday\\n\\nSun\\nMon\\nTue\\nWed\\nThu\\nFri\\n\\nSat\\n\\n\\n1\\n+91°+77° [...] Weather in large and nearby cities\\nWeather in New Delhi+73°\\nAvadi+88°\\nKozhikode+90°\\nAmbattur+88°\\nChennai+88°\\nDindigul+82°\\nThanjavur+86°\\nMangalore+86°\\nNellore+86°\\nTiruchchirāppalli+86°\\nPuducherry+86°\\nBellary+84°\\nMysore+81°\\nSalem+86°\\nAnantapur+84°\\nTirupati+82°\\nKothakota+86°\\nVathalur+86°\\nMinimum and maximum\\nworld's temperature today\\nRussia\\nZyryanka\\nday\\n-22°F\\nnight\\n-49°F\\nChad\\nMongo\\nday\\n+109°F\\nnight\\n+73°F\\nServices\\nSupport\\n\\nUser agreement\\nFeedback\\nAbout Us\", 'score': 0.8898454, 'raw_content': None}], 'response_time': 2.32}), AIMessage(content=\"Today's weather in Bangalore is partly cloudy with a maximum temperature of 32°C (about 89.6°F) and a minimum of 17°C (about 62.6°F). The current temperature is around 23°C (73.4°F) with a relatively high humidity level of 73%. There is no precipitation expected, and the conditions suggest a pleasant, partly cloudy evening.\", additional_kwargs={'refusal': None}, response_metadata={'token_usage': {'completion_tokens': 81, 'prompt_tokens': 6249, 'total_tokens': 6330, 'completion_tokens_details': {'accepted_prediction_tokens': 0, 'audio_tokens': 0, 'reasoning_tokens': 0, 'rejected_prediction_tokens': 0}, 'prompt_tokens_details': {'audio_tokens': 0, 'cached_tokens': 0}}, 'model_name': 'gpt-4o-2024-08-06', 'system_fingerprint': 'fp_92f14e8683', 'finish_reason': 'stop', 'logprobs': None}, id='run-fdffddd4-33b6-4f47-9d55-b6aa2fdf7766-0', usage_metadata={'input_tokens': 6249, 'output_tokens': 81, 'total_tokens': 6330, 'input_token_details': {'audio': 0, 'cache_read': 0}, 'output_token_details': {'audio': 0, 'reasoning': 0}})]}, next=(), config={'configurable': {'thread_id': '1', 'checkpoint_ns': '', 'checkpoint_id': '1f018883-2f6d-66fc-800a-20f5d2c7ecdf'}}, metadata={'source': 'loop', 'writes': {'ai_assistant': {'messages': [AIMessage(content=\"Today's weather in Bangalore is partly cloudy with a maximum temperature of 32°C (about 89.6°F) and a minimum of 17°C (about 62.6°F). The current temperature is around 23°C (73.4°F) with a relatively high humidity level of 73%. There is no precipitation expected, and the conditions suggest a pleasant, partly cloudy evening.\", additional_kwargs={'refusal': None}, response_metadata={'token_usage': {'completion_tokens': 81, 'prompt_tokens': 6249, 'total_tokens': 6330, 'completion_tokens_details': {'accepted_prediction_tokens': 0, 'audio_tokens': 0, 'reasoning_tokens': 0, 'rejected_prediction_tokens': 0}, 'prompt_tokens_details': {'audio_tokens': 0, 'cached_tokens': 0}}, 'model_name': 'gpt-4o-2024-08-06', 'system_fingerprint': 'fp_92f14e8683', 'finish_reason': 'stop', 'logprobs': None}, id='run-fdffddd4-33b6-4f47-9d55-b6aa2fdf7766-0', usage_metadata={'input_tokens': 6249, 'output_tokens': 81, 'total_tokens': 6330, 'input_token_details': {'audio': 0, 'cache_read': 0}, 'output_token_details': {'audio': 0, 'reasoning': 0}})]}}, 'step': 10, 'parents': {}, 'thread_id': '1'}, created_at='2025-04-13T16:56:09.813686+00:00', parent_config={'configurable': {'thread_id': '1', 'checkpoint_ns': '', 'checkpoint_id': '1f018883-1354-6f2f-8009-ff766ff0df4d'}}, tasks=())"
      ]
     },
     "execution_count": 116,
     "metadata": {},
     "output_type": "execute_result"
    }
   ],
   "source": [
    "\n",
    "app2.get_state(config)"
   ]
  },
  {
   "cell_type": "code",
   "execution_count": null,
   "id": "b9545780",
   "metadata": {},
   "outputs": [],
   "source": [
    "snapshot=app2.get_state(config)"
   ]
  },
  {
   "cell_type": "code",
   "execution_count": null,
   "id": "dbbac944",
   "metadata": {},
   "outputs": [
    {
     "data": {
      "text/plain": [
       "()"
      ]
     },
     "execution_count": 118,
     "metadata": {},
     "output_type": "execute_result"
    }
   ],
   "source": [
    "\n",
    "snapshot.next"
   ]
  },
  {
   "cell_type": "code",
   "execution_count": null,
   "id": "766e50ec",
   "metadata": {},
   "outputs": [],
   "source": [
    "\n",
    "user_input = \"give me the recent news from there?\"\n",
    "\n",
    "config = {\"configurable\": {\"thread_id\": \"1\"}}"
   ]
  },
  {
   "cell_type": "code",
   "execution_count": null,
   "id": "eb0ca925",
   "metadata": {},
   "outputs": [],
   "source": [
    "events = app2.stream(\n",
    "    {\"messages\": [(\"user\", user_input)]}, config, stream_mode=\"values\"\n",
    ")"
   ]
  },
  {
   "cell_type": "code",
   "execution_count": null,
   "id": "0ceadb7b",
   "metadata": {},
   "outputs": [
    {
     "ename": "AttributeError",
     "evalue": "'tuple' object has no attribute 'pretty_print'",
     "output_type": "error",
     "traceback": [
      "\u001b[1;31m---------------------------------------------------------------------------\u001b[0m",
      "\u001b[1;31mAttributeError\u001b[0m                            Traceback (most recent call last)",
      "Cell \u001b[1;32mIn[121], line 3\u001b[0m\n\u001b[0;32m      1\u001b[0m \u001b[38;5;28;01mfor\u001b[39;00m event \u001b[38;5;129;01min\u001b[39;00m events:\n\u001b[0;32m      2\u001b[0m     \u001b[38;5;28;01mif\u001b[39;00m \u001b[38;5;124m\"\u001b[39m\u001b[38;5;124mmessages\u001b[39m\u001b[38;5;124m\"\u001b[39m \u001b[38;5;129;01min\u001b[39;00m event:\n\u001b[1;32m----> 3\u001b[0m         \u001b[43mevent\u001b[49m\u001b[43m[\u001b[49m\u001b[38;5;124;43m\"\u001b[39;49m\u001b[38;5;124;43mmessages\u001b[39;49m\u001b[38;5;124;43m\"\u001b[39;49m\u001b[43m]\u001b[49m\u001b[43m[\u001b[49m\u001b[38;5;241;43m-\u001b[39;49m\u001b[38;5;241;43m1\u001b[39;49m\u001b[43m]\u001b[49m\u001b[38;5;241;43m.\u001b[39;49m\u001b[43mpretty_print\u001b[49m()\n",
      "\u001b[1;31mAttributeError\u001b[0m: 'tuple' object has no attribute 'pretty_print'"
     ]
    }
   ],
   "source": [
    "for event in events:\n",
    "    if \"messages\" in event:\n",
    "        event[\"messages\"][-1].pretty_print()"
   ]
  },
  {
   "cell_type": "code",
   "execution_count": null,
   "id": "17688970",
   "metadata": {},
   "outputs": [],
   "source": [
    "\n",
    "snapshot=app2.get_state(config)\n",
    "     "
   ]
  },
  {
   "cell_type": "code",
   "execution_count": null,
   "id": "0458b2c0",
   "metadata": {},
   "outputs": [],
   "source": [
    "\n",
    "current_message = snapshot.values[\"messages\"]\n",
    "     "
   ]
  },
  {
   "cell_type": "code",
   "execution_count": null,
   "id": "d2ff1937",
   "metadata": {},
   "outputs": [
    {
     "data": {
      "text/plain": [
       "[['user', 'famous places of the bangalore and must visit restaurants?'],\n",
       " AIMessage(content='', additional_kwargs={'tool_calls': [{'id': 'call_NheTr6jPV4EZPe0g1Xluhdhy', 'function': {'arguments': '{\"query\": \"famous places to visit in Bangalore\"}', 'name': 'tavily_search_results_json'}, 'type': 'function'}, {'id': 'call_UoOT3m5svSe0vMILWeIx6l75', 'function': {'arguments': '{\"query\": \"must visit restaurants in Bangalore\"}', 'name': 'tavily_search_results_json'}, 'type': 'function'}], 'refusal': None}, response_metadata={'token_usage': {'completion_tokens': 63, 'prompt_tokens': 91, 'total_tokens': 154, 'completion_tokens_details': {'accepted_prediction_tokens': 0, 'audio_tokens': 0, 'reasoning_tokens': 0, 'rejected_prediction_tokens': 0}, 'prompt_tokens_details': {'audio_tokens': 0, 'cached_tokens': 0}}, 'model_name': 'gpt-4o-2024-08-06', 'system_fingerprint': 'fp_92f14e8683', 'finish_reason': 'tool_calls', 'logprobs': None}, id='run-afa8bec0-9f5c-4783-94df-7beb2bb893d7-0', tool_calls=[{'name': 'tavily_search_results_json', 'args': {'query': 'famous places to visit in Bangalore'}, 'id': 'call_NheTr6jPV4EZPe0g1Xluhdhy', 'type': 'tool_call'}, {'name': 'tavily_search_results_json', 'args': {'query': 'must visit restaurants in Bangalore'}, 'id': 'call_UoOT3m5svSe0vMILWeIx6l75', 'type': 'tool_call'}], usage_metadata={'input_tokens': 91, 'output_tokens': 63, 'total_tokens': 154, 'input_token_details': {'audio': 0, 'cache_read': 0}, 'output_token_details': {'audio': 0, 'reasoning': 0}}),\n",
       " ToolMessage(content='[{\"title\": \"10 Places to visit in Bengaluru 2025 - Capture A Trip\", \"url\": \"https://www.captureatrip.com/blog/places-to-visit-in-bangalore\", \"content\": \"3. What are the famous places to visit in Bangalore ?\\\\n\\\\nOthers are Vidhana Soudha, Bangalore Palace and Bull Temple for its historical and cultural value.\\\\n\\\\n4. Where can I go for a weekend in Bangalore?\\\\n\\\\nNandi Hills is another suitable place for a weekend trip and it offers scenic views of the city while Bannerghatta National Park offers a wildlife experience.\\\\n\\\\nRecent Blogs\\\\n\\\\nOutstanding Hill Stations Near Nainital For a Peaceful Journey\\\\n\\\\nExplore 10 Best Things To Do In Georgia [...] This beautiful palace was the summer residence of the great Kingdom’s ruler, Tipu Sultan and is an Indo Islamic architectural masterpiece. This place is one of the most famous places to visit in Bangalore due to the presence of gorgeous wooden carved work and history.\\\\n\\\\n4. ISKCON Temple: [...] Here are the top 10 places to visit in Bangalore if anybody has the zeal to explore them which includes some historical places, parks, and cultural places. All these places make the city diverse by just giving each place uniqueness that attracts different people.\\\\n\\\\n1. Vidhana Soudha:\\\\n\\\\n\\\\n\\\\nThis big edifice is the home of the state legislature of Karnataka in India. This makes it count among the most visited places in Bangalore, thanks to its beautiful architectural design.\", \"score\": 0.89720124}, {\"title\": \"52 Best Places to visit in Bangalore | Top Tourist Attractions - Holidify\", \"url\": \"https://www.holidify.com/places/bangalore/sightseeing-and-things-to-do.html\", \"content\": \"Bangalore\\\\nPlaces To Visit\\\\nPackages\\\\nHotels\\\\nHow to Reach\\\\nBest Time To Visit\\\\nPhotos\\\\nFood\\\\n\\\\nMore\\\\n\\\\n\\\\nCollections\\\\n\\\\n\\\\nMap\\\\n\\\\n\\\\nReviews & QnA\\\\n\\\\n\\\\nTravel Agents\\\\n\\\\n\\\\n\\\\n\\\\nCollections\\\\n\\\\nMap\\\\nReviews & QnA\\\\nTravel Agents\\\\n\\\\nBangalore, Karnataka\\\\nLalbagh\\\\nCubbon Park\\\\nBangalore Palace\\\\nBannerghatta National Park [...] Places To Visit in Bangalore\\\\nLocated in : Central Bangalore\\\\nSpread over an area of 300 acres, Cubbon Park in the city of Bangalore is a major sightseeing attraction rich in green foliage. It is a green belt region of the city and is an ideal place for nature lovers and those seeking a calm atmosphere. Having been laid down by Lord Cubbon, the park is named so in his honour. It is home to more than 6,000 trees that support a vibrant ecosystem.\\\\nRead More [...] Art Gallery \\xa0\\xa0Garden & Park \\xa0\\xa0Amusement & Theme Park \\xa0\\xa0Forts & Palaces \\xa0\\xa0Hills & Valleys \\xa0\\xa0Temple \\xa0\\xa0Lake \\xa0\\xa0Museum \\xa0\\xa0Waterfall \\xa0\\xa0Commercial Street \\xa0\\xa0Shopping Market \\xa0\\xa0Monument \\xa0\\xa0National Park \\xa0\\xa0Yoga & Meditation \\xa0\\xa0Buddhist Temple \\xa0\\xa0Planetarium \\xa0\\xa0Church & Cathedral \\xa0\\xa0Aquarium \\xa0\\xa0Adventure Zone \\\\nClear All Apply\", \"score\": 0.85825616}, {\"title\": \"THE BEST 15 Things To Do in Bangalore (UPDATED 2025) - Viator\", \"url\": \"https://www.viator.com/Bangalore/d5310\", \"content\": \"Dubbed the Silicon Valley of India for its massive IT industry, the South Indian city of Bangalore has all the trappings of a city that means business, from fantastic shopping to exceptional restaurants. There are plenty of things to do in Bangalore for visitors, from relaxing in the city’s Cubbon Park and Lalbagh Botanical Gardens to marveling at the architecture of Tipu Sultan\\'s Summer Palace, Bangalore Palace, and Vidhana Soudha. And if you need a break from city life, you can simply head up\", \"score\": 0.85216236}, {\"title\": \"New to Bangalore? Here are the top 5 places you can visit, 1. Nandi ...\", \"url\": \"https://www.instagram.com/travelfitnancy/reel/C4S7whqpXH6/?hl=en\", \"content\": \"travelfitnancy on March 9, 2024: \\\\\"New to Bangalore? Here are the top 5 places you can visit, 1. Nandi Hills 2. Lalbagh Botanical Garden 3.\", \"score\": 0.8440111}, {\"title\": \"Bengaluru Tourist Places | Best Places To Visit - Incredible India\", \"url\": \"https://www.incredibleindia.gov.in/en/karnataka/bengaluru\", \"content\": \"Bengaluru—the city that codes poetry, brews coffee, and dances to its rhythm. Let’s explore its pixels and palimpsests, one byte at a time.\\\\n\\\\nAttractions\\\\n\\\\nworth a thousand stories\\\\n\\\\nGhati Subramanya Temple\\\\n\\\\nUlsoor Lake\\\\n\\\\nDevanahalli Fort\\\\n\\\\nMuthyala Maduvu\\\\n\\\\nTipu Sultan Palace\\\\n\\\\nRagigudda Anjaneya Temple\\\\n\\\\nPuttanna Chetty Town Hall\\\\n\\\\nNandi Hills\\\\n\\\\nLalbagh\\\\n\\\\nShivagange\\\\n\\\\nTipu Sultan\\'s Birthplace\\\\n\\\\nA trove of\\\\n\\\\nfascinating facts\\\\n\\\\nA trove of\\\\n\\\\nfascinating facts [...] The big boom may be over, but Bengaluru’s bright young things still have money to spend, and nightlife in the city is thriving. A night on the town generally starts with a bar crawl along Brigade Road, Residency Road, or Church Street. For quiet, elegant drinking, head for the bars of five-star hotels such as the Jockey Club at the Taj Residency or its competition, the Polo Club at the Oberoi, and for a taste of colonial grandeur, the Colonnade at the Taj West End.\\\\n\\\\nA shopper’s paradise\", \"score\": 0.82082915}]', name='tavily_search_results_json', tool_call_id='call_NheTr6jPV4EZPe0g1Xluhdhy', artifact={'query': 'famous places to visit in Bangalore', 'follow_up_questions': None, 'answer': None, 'images': [], 'results': [{'url': 'https://www.captureatrip.com/blog/places-to-visit-in-bangalore', 'title': '10 Places to visit in Bengaluru 2025 - Capture A Trip', 'content': '3. What are the famous places to visit in Bangalore ?\\n\\nOthers are Vidhana Soudha, Bangalore Palace and Bull Temple for its historical and cultural value.\\n\\n4. Where can I go for a weekend in Bangalore?\\n\\nNandi Hills is another suitable place for a weekend trip and it offers scenic views of the city while Bannerghatta National Park offers a wildlife experience.\\n\\nRecent Blogs\\n\\nOutstanding Hill Stations Near Nainital For a Peaceful Journey\\n\\nExplore 10 Best Things To Do In Georgia [...] This beautiful palace was the summer residence of the great Kingdom’s ruler, Tipu Sultan and is an Indo Islamic architectural masterpiece. This place is one of the most famous places to visit in Bangalore due to the presence of gorgeous wooden carved work and history.\\n\\n4. ISKCON Temple: [...] Here are the top 10 places to visit in Bangalore if anybody has the zeal to explore them which includes some historical places, parks, and cultural places. All these places make the city diverse by just giving each place uniqueness that attracts different people.\\n\\n1. Vidhana Soudha:\\n\\n\\n\\nThis big edifice is the home of the state legislature of Karnataka in India. This makes it count among the most visited places in Bangalore, thanks to its beautiful architectural design.', 'score': 0.89720124, 'raw_content': None}, {'url': 'https://www.holidify.com/places/bangalore/sightseeing-and-things-to-do.html', 'title': '52 Best Places to visit in Bangalore | Top Tourist Attractions - Holidify', 'content': 'Bangalore\\nPlaces To Visit\\nPackages\\nHotels\\nHow to Reach\\nBest Time To Visit\\nPhotos\\nFood\\n\\nMore\\n\\n\\nCollections\\n\\n\\nMap\\n\\n\\nReviews & QnA\\n\\n\\nTravel Agents\\n\\n\\n\\n\\nCollections\\n\\nMap\\nReviews & QnA\\nTravel Agents\\n\\nBangalore, Karnataka\\nLalbagh\\nCubbon Park\\nBangalore Palace\\nBannerghatta National Park [...] Places To Visit in Bangalore\\nLocated in : Central Bangalore\\nSpread over an area of 300 acres, Cubbon Park in the city of Bangalore is a major sightseeing attraction rich in green foliage. It is a green belt region of the city and is an ideal place for nature lovers and those seeking a calm atmosphere. Having been laid down by Lord Cubbon, the park is named so in his honour. It is home to more than 6,000 trees that support a vibrant ecosystem.\\nRead More [...] Art Gallery \\xa0\\xa0Garden & Park \\xa0\\xa0Amusement & Theme Park \\xa0\\xa0Forts & Palaces \\xa0\\xa0Hills & Valleys \\xa0\\xa0Temple \\xa0\\xa0Lake \\xa0\\xa0Museum \\xa0\\xa0Waterfall \\xa0\\xa0Commercial Street \\xa0\\xa0Shopping Market \\xa0\\xa0Monument \\xa0\\xa0National Park \\xa0\\xa0Yoga & Meditation \\xa0\\xa0Buddhist Temple \\xa0\\xa0Planetarium \\xa0\\xa0Church & Cathedral \\xa0\\xa0Aquarium \\xa0\\xa0Adventure Zone \\nClear All Apply', 'score': 0.85825616, 'raw_content': None}, {'url': 'https://www.viator.com/Bangalore/d5310', 'title': 'THE BEST 15 Things To Do in Bangalore (UPDATED 2025) - Viator', 'content': \"Dubbed the Silicon Valley of India for its massive IT industry, the South Indian city of Bangalore has all the trappings of a city that means business, from fantastic shopping to exceptional restaurants. There are plenty of things to do in Bangalore for visitors, from relaxing in the city’s Cubbon Park and Lalbagh Botanical Gardens to marveling at the architecture of Tipu Sultan's Summer Palace, Bangalore Palace, and Vidhana Soudha. And if you need a break from city life, you can simply head up\", 'score': 0.85216236, 'raw_content': None}, {'url': 'https://www.instagram.com/travelfitnancy/reel/C4S7whqpXH6/?hl=en', 'title': 'New to Bangalore? Here are the top 5 places you can visit, 1. Nandi ...', 'content': 'travelfitnancy on March 9, 2024: \"New to Bangalore? Here are the top 5 places you can visit, 1. Nandi Hills 2. Lalbagh Botanical Garden 3.', 'score': 0.8440111, 'raw_content': None}, {'url': 'https://www.incredibleindia.gov.in/en/karnataka/bengaluru', 'title': 'Bengaluru Tourist Places | Best Places To Visit - Incredible India', 'content': \"Bengaluru—the city that codes poetry, brews coffee, and dances to its rhythm. Let’s explore its pixels and palimpsests, one byte at a time.\\n\\nAttractions\\n\\nworth a thousand stories\\n\\nGhati Subramanya Temple\\n\\nUlsoor Lake\\n\\nDevanahalli Fort\\n\\nMuthyala Maduvu\\n\\nTipu Sultan Palace\\n\\nRagigudda Anjaneya Temple\\n\\nPuttanna Chetty Town Hall\\n\\nNandi Hills\\n\\nLalbagh\\n\\nShivagange\\n\\nTipu Sultan's Birthplace\\n\\nA trove of\\n\\nfascinating facts\\n\\nA trove of\\n\\nfascinating facts [...] The big boom may be over, but Bengaluru’s bright young things still have money to spend, and nightlife in the city is thriving. A night on the town generally starts with a bar crawl along Brigade Road, Residency Road, or Church Street. For quiet, elegant drinking, head for the bars of five-star hotels such as the Jockey Club at the Taj Residency or its competition, the Polo Club at the Oberoi, and for a taste of colonial grandeur, the Colonnade at the Taj West End.\\n\\nA shopper’s paradise\", 'score': 0.82082915, 'raw_content': None}], 'response_time': 3.45}),\n",
       " ToolMessage(content='[{\"title\": \"Best Restaurants In Bangalore To Delight Your Taste Buds In 2025!\", \"url\": \"https://traveltriangle.com/blog/best-restaurants-in-bangalore/\", \"content\": \"The king of cafes in Bangalore, Toit has set an unmatched standard amongst all the best restaurants in Bangalore. Freshly brewed beer, lively music, and a wide variety of international main courses and starters combine to give this place a ‘must-visit’ tag for any first-timer. It is one of the best restaurants in Bangalore for couples who share a love of pizzas and beers.\\\\n\\\\nAddress: Indiranagar, 100 Feet Rd, Near Drops Total Spirits, Bengaluru, Karnataka 560038 [...] It is impossible to have a list of the best restaurants in Bangalore, without naming its very own Hard Rock Cafe. This cafe, probably, needs no introduction as it has become a household name amongst music and food lovers from all around the world. The brand has built such a reputation that the HRC often gets counted as a sightseeing place for any traveller going to a new city. This is amongst the best restaurants in Bangalore for family and friends to visit. [...] Jamavar is another luxury restaurant that you need to consider visiting. Featuring an ethnic ambience, and indoor and outdoor seating plans, this restaurant serves delectable food. Moreover, this is a kid-friendly place that is also wheelchair accessible. The restaurant is amazing with hospitality, hygiene, food yumminess, and prep times. Special occasions deserve a special treat here.\\\\n\\\\nAddress:\\xa0The Leela Palace, Old Airport Road, Bangalore\\\\n\\\\nTimings:\\xa012–3\\u202fpm, 7–11:30\\u202fpm\\\\n\\\\nCost for two: INR 5000\", \"score\": 0.86767644}, {\"title\": \"What are the must-visit food places in Bangalore, and when ... - Quora\", \"url\": \"https://www.quora.com/What-are-the-must-visit-food-places-in-Bangalore-and-when-is-the-best-time-to-visit-that-place\", \"content\": \"1.Vidyarthi Bhavan. Vidyarthi Bhavan is an iconic eatery in Bangalore that has been serving the best dosa in Bangalore since 1943.\", \"score\": 0.85995835}, {\"title\": \"Shreya Pandey | Must visit restaurants in Bengaluru for Indian food ...\", \"url\": \"https://www.instagram.com/reel/C73Dl0iv2fw/\", \"content\": \"Must visit restaurants in Bengaluru for Indian food. These restaurants are not only beautiful and extravagant but food is also great. Karigari\", \"score\": 0.78532547}, {\"title\": \"The 50 best places to eat in Bengaluru - Wanderlog\", \"url\": \"https://wanderlog.com/list/geoCategory/1510029/best-places-to-eat-in-bengaluru\", \"content\": \"21Barbeque Nation\\\\n\\\\n22MTR\\\\n\\\\n23Byg Brewski Brewing Company\\\\n\\\\n24Nagarjuna Restaurant - Residency Road\\\\n\\\\n25Arbor Brewing Company\\\\n\\\\n26Jamavar\\\\n\\\\n27The Fatty Bao\\\\n\\\\n28High Ultra Lounge\\\\n\\\\n29Sunnys Restaurant\\\\n\\\\n30Ebony\\\\n\\\\n31Maiyas Beverages And Foods Private Limited\\\\n\\\\n32Persian Terrace\\\\n\\\\n33Skyye\\\\n\\\\n34The Permit Room\\\\n\\\\n35Indian Coffee House\\\\n\\\\n36Toast & Tonic\\\\n\\\\n37Wabi Sabi\\\\n\\\\n38Lapis\\\\n\\\\n39Roxie\\\\n\\\\n40V. V. Puram Food Street\\\\n\\\\n41Karnataka Bhel House\\\\n\\\\n42Suryawanshi Restaurant\\\\n\\\\n43The Hole In The Wall Cafe Kammanahalli [...] Navigate backward to interact with the calendar and select a date. Press the question mark key to get the keyboard shortcuts for changing dates.\\\\n\\\\n3Brahmins\\' Coffee Bar\\\\n\\\\n4Vidyarthi Bhavan\\\\n\\\\n5Central Tiffin Room\\\\n\\\\n6Sri Sairam\\'s Chats & Juice Centre\\\\n\\\\n7Truffles\\\\n\\\\n8Shiro\\\\n\\\\n9Koshy\\'s\\\\n\\\\n10Rim Naam\\\\n\\\\n11Chutney Chang\\\\n\\\\n12Olive Beach\\\\n\\\\n13Veena Stores\\\\n\\\\n14Caperberry\\\\n\\\\n15Shivaji Military Hotel\\\\n\\\\n16Oota Bangalore\\\\n\\\\n17Grasshopper\\\\n\\\\n18Khan Saheb Grills and Rolls\\\\n\\\\n19SMTR - Sri Maruthi Tiffin Room\\\\n\\\\n20Nagarjuna [...] As you explore the bustling streets of Bengaluru, you\\'ll discover a mix of iconic eateries and hidden gems that showcase the best of local flavors. From the legendary Vidyarthi Bhavan, famous for its crispy Benne Masala Dosa, to the charming Brahmins\\' Coffee Bar, where the aroma of freshly brewed coffee fills the air, each spot tells a story of its own. The Wanderlog team is passionate about uncovering these culinary treasures, and we invite you to join us on a journey through the best places\", \"score\": 0.6994397}, {\"title\": \"The Best Restaurants in Bengaluru for Dining Out - Zomato\", \"url\": \"https://www.zomato.com/bangalore/restaurants\", \"content\": \"Restaurants in Bengaluru · Atlantis · Jamavar - The Leela Palace · Sozo Skyline · Muro · Feast - Sheraton Grand Bangalore Hotel at Brigade Gateway · Mirage.\", \"score\": 0.6884899}]', name='tavily_search_results_json', tool_call_id='call_UoOT3m5svSe0vMILWeIx6l75', artifact={'query': 'must visit restaurants in Bangalore', 'follow_up_questions': None, 'answer': None, 'images': [], 'results': [{'url': 'https://traveltriangle.com/blog/best-restaurants-in-bangalore/', 'title': 'Best Restaurants In Bangalore To Delight Your Taste Buds In 2025!', 'content': 'The king of cafes in Bangalore, Toit has set an unmatched standard amongst all the best restaurants in Bangalore. Freshly brewed beer, lively music, and a wide variety of international main courses and starters combine to give this place a ‘must-visit’ tag for any first-timer. It is one of the best restaurants in Bangalore for couples who share a love of pizzas and beers.\\n\\nAddress: Indiranagar, 100 Feet Rd, Near Drops Total Spirits, Bengaluru, Karnataka 560038 [...] It is impossible to have a list of the best restaurants in Bangalore, without naming its very own Hard Rock Cafe. This cafe, probably, needs no introduction as it has become a household name amongst music and food lovers from all around the world. The brand has built such a reputation that the HRC often gets counted as a sightseeing place for any traveller going to a new city. This is amongst the best restaurants in Bangalore for family and friends to visit. [...] Jamavar is another luxury restaurant that you need to consider visiting. Featuring an ethnic ambience, and indoor and outdoor seating plans, this restaurant serves delectable food. Moreover, this is a kid-friendly place that is also wheelchair accessible. The restaurant is amazing with hospitality, hygiene, food yumminess, and prep times. Special occasions deserve a special treat here.\\n\\nAddress:\\xa0The Leela Palace, Old Airport Road, Bangalore\\n\\nTimings:\\xa012–3\\u202fpm, 7–11:30\\u202fpm\\n\\nCost for two: INR 5000', 'score': 0.86767644, 'raw_content': None}, {'url': 'https://www.quora.com/What-are-the-must-visit-food-places-in-Bangalore-and-when-is-the-best-time-to-visit-that-place', 'title': 'What are the must-visit food places in Bangalore, and when ... - Quora', 'content': '1.Vidyarthi Bhavan. Vidyarthi Bhavan is an iconic eatery in Bangalore that has been serving the best dosa in Bangalore since 1943.', 'score': 0.85995835, 'raw_content': None}, {'url': 'https://www.instagram.com/reel/C73Dl0iv2fw/', 'title': 'Shreya Pandey | Must visit restaurants in Bengaluru for Indian food ...', 'content': 'Must visit restaurants in Bengaluru for Indian food. These restaurants are not only beautiful and extravagant but food is also great. Karigari', 'score': 0.78532547, 'raw_content': None}, {'url': 'https://wanderlog.com/list/geoCategory/1510029/best-places-to-eat-in-bengaluru', 'title': 'The 50 best places to eat in Bengaluru - Wanderlog', 'content': \"21Barbeque Nation\\n\\n22MTR\\n\\n23Byg Brewski Brewing Company\\n\\n24Nagarjuna Restaurant - Residency Road\\n\\n25Arbor Brewing Company\\n\\n26Jamavar\\n\\n27The Fatty Bao\\n\\n28High Ultra Lounge\\n\\n29Sunnys Restaurant\\n\\n30Ebony\\n\\n31Maiyas Beverages And Foods Private Limited\\n\\n32Persian Terrace\\n\\n33Skyye\\n\\n34The Permit Room\\n\\n35Indian Coffee House\\n\\n36Toast & Tonic\\n\\n37Wabi Sabi\\n\\n38Lapis\\n\\n39Roxie\\n\\n40V. V. Puram Food Street\\n\\n41Karnataka Bhel House\\n\\n42Suryawanshi Restaurant\\n\\n43The Hole In The Wall Cafe Kammanahalli [...] Navigate backward to interact with the calendar and select a date. Press the question mark key to get the keyboard shortcuts for changing dates.\\n\\n3Brahmins' Coffee Bar\\n\\n4Vidyarthi Bhavan\\n\\n5Central Tiffin Room\\n\\n6Sri Sairam's Chats & Juice Centre\\n\\n7Truffles\\n\\n8Shiro\\n\\n9Koshy's\\n\\n10Rim Naam\\n\\n11Chutney Chang\\n\\n12Olive Beach\\n\\n13Veena Stores\\n\\n14Caperberry\\n\\n15Shivaji Military Hotel\\n\\n16Oota Bangalore\\n\\n17Grasshopper\\n\\n18Khan Saheb Grills and Rolls\\n\\n19SMTR - Sri Maruthi Tiffin Room\\n\\n20Nagarjuna [...] As you explore the bustling streets of Bengaluru, you'll discover a mix of iconic eateries and hidden gems that showcase the best of local flavors. From the legendary Vidyarthi Bhavan, famous for its crispy Benne Masala Dosa, to the charming Brahmins' Coffee Bar, where the aroma of freshly brewed coffee fills the air, each spot tells a story of its own. The Wanderlog team is passionate about uncovering these culinary treasures, and we invite you to join us on a journey through the best places\", 'score': 0.6994397, 'raw_content': None}, {'url': 'https://www.zomato.com/bangalore/restaurants', 'title': 'The Best Restaurants in Bengaluru for Dining Out - Zomato', 'content': 'Restaurants in Bengaluru · Atlantis · Jamavar - The Leela Palace · Sozo Skyline · Muro · Feast - Sheraton Grand Bangalore Hotel at Brigade Gateway · Mirage.', 'score': 0.6884899, 'raw_content': None}], 'response_time': 3.01}),\n",
       " AIMessage(content=\"### Famous Places to Visit in Bangalore\\n\\n1. **Vidhana Soudha**: This iconic building is the seat of the state legislature of Karnataka and is renowned for its beautiful architectural design.\\n   \\n2. **Bangalore Palace**: Known for its Tudor-style architecture and sprawling grounds, the palace gives a glimpse into the regal history of Bangalore.\\n\\n3. **Cubbon Park**: Spanning over 300 acres, this lush green park is a favorite spot for nature lovers and those seeking a peaceful retreat within the city.\\n\\n4. **Lalbagh Botanical Garden**: Famous for its glass house and diverse flora, it is a must-visit for gardening enthusiasts and those who enjoy a leisurely stroll amidst nature.\\n\\n5. **Bannerghatta National Park**: Located on the outskirts of Bangalore, this park offers a chance to experience wildlife and is famous for its safari rides.\\n\\n6. **Nandi Hills**: A great spot for a weekend getaway, known for its scenic views and the historical Nandi Fortress.\\n\\n7. **ISKCON Temple**: A spiritual retreat in the midst of the bustling city, known for its architectural grandeur and spiritual activities.\\n\\n8. **Tipu Sultan's Summer Palace**: A stunning example of Indo-Islamic architecture, this palace showcases exquisite wooden carvings and historical artifacts.\\n\\nFor further exploration on these places, visit [Capture a Trip](https://www.captureatrip.com/blog/places-to-visit-in-bangalore).\\n\\n### Must-Visit Restaurants in Bangalore\\n\\n1. **Toit**: Known for freshly brewed beer and a lively atmosphere, it’s a must-visit for beer and pizza lovers. Located in Indiranagar.\\n\\n2. **Hard Rock Café**: A popular spot known for its rock music-themed dining experience.\\n\\n3. **Jamavar**: Located at The Leela Palace, it offers luxury dining with authentic Indian cuisine in a beautiful setting.\\n\\n4. **Vidyarthi Bhavan**: An iconic eatery in Bangalore, famous for serving the best dosas since 1943.\\n\\n5. **Barbeque Nation**: Known for its live grill experience and extensive buffet options.\\n\\n6. **Brahmins' Coffee Bar**: A legendary place for coffee enthusiasts, known for its traditional South Indian breakfast.\\n\\n7. **The Fatty Bao**: Offers a fusion of Asian cuisines in a chic and modern setting.\\n\\n8. **Skyye**: A rooftop restaurant offering stunning views of Bangalore’s skyline, perfect for a fancy night out.\\n\\nFor more dining options, explore [Travel Triangle](https://traveltriangle.com/blog/best-restaurants-in-bangalore/) and [Wanderlog](https://wanderlog.com/list/geoCategory/1510029/best-places-to-eat-in-bengaluru).\", additional_kwargs={'refusal': None}, response_metadata={'token_usage': {'completion_tokens': 568, 'prompt_tokens': 2736, 'total_tokens': 3304, 'completion_tokens_details': {'accepted_prediction_tokens': 0, 'audio_tokens': 0, 'reasoning_tokens': 0, 'rejected_prediction_tokens': 0}, 'prompt_tokens_details': {'audio_tokens': 0, 'cached_tokens': 0}}, 'model_name': 'gpt-4o-2024-08-06', 'system_fingerprint': 'fp_92f14e8683', 'finish_reason': 'stop', 'logprobs': None}, id='run-f2afa37a-c027-46a7-9702-3af8019cbbfe-0', usage_metadata={'input_tokens': 2736, 'output_tokens': 568, 'total_tokens': 3304, 'input_token_details': {'audio': 0, 'cache_read': 0}, 'output_token_details': {'audio': 0, 'reasoning': 0}}),\n",
       " ['user', 'what is a weather there?'],\n",
       " ['user', 'what is a weather there?'],\n",
       " AIMessage(content='', additional_kwargs={'tool_calls': [{'id': 'call_0NLdfZAg6hKgq0QpJ0GSNSYM', 'function': {'arguments': '{\"query\":\"Bangalore weather today\"}', 'name': 'tavily_search_results_json'}, 'type': 'function'}], 'refusal': None}, response_metadata={'token_usage': {'completion_tokens': 22, 'prompt_tokens': 3326, 'total_tokens': 3348, 'completion_tokens_details': {'accepted_prediction_tokens': 0, 'audio_tokens': 0, 'reasoning_tokens': 0, 'rejected_prediction_tokens': 0}, 'prompt_tokens_details': {'audio_tokens': 0, 'cached_tokens': 3200}}, 'model_name': 'gpt-4o-2024-08-06', 'system_fingerprint': 'fp_92f14e8683', 'finish_reason': 'tool_calls', 'logprobs': None}, id='run-f2f60d63-6e81-4312-bf95-d565a60e3652-0', tool_calls=[{'name': 'tavily_search_results_json', 'args': {'query': 'Bangalore weather today'}, 'id': 'call_0NLdfZAg6hKgq0QpJ0GSNSYM', 'type': 'tool_call'}], usage_metadata={'input_tokens': 3326, 'output_tokens': 22, 'total_tokens': 3348, 'input_token_details': {'audio': 0, 'cache_read': 3200}, 'output_token_details': {'audio': 0, 'reasoning': 0}}),\n",
       " ToolMessage(content='[{\"title\": \"bengaluru Weather Forecast 13 Apr 2025 - Times of India\", \"url\": \"https://timesofindia.indiatimes.com/weather/bengaluru-weather-forecast-today/560001\", \"content\": \"Today\\'s Weather in Bengaluru: In Bengaluru today, the weather is expected to be Partly Cloudy with a maximum temperature of 32°C and a minimum of 17°C.\", \"score\": 0.96205425}, {\"title\": \"Weather in Bangalore\", \"url\": \"https://www.weatherapi.com/\", \"content\": \"{\\'location\\': {\\'name\\': \\'Bangalore\\', \\'region\\': \\'Karnataka\\', \\'country\\': \\'India\\', \\'lat\\': 12.9833, \\'lon\\': 77.5833, \\'tz_id\\': \\'Asia/Kolkata\\', \\'localtime_epoch\\': 1744563279, \\'localtime\\': \\'2025-04-13 22:24\\'}, \\'current\\': {\\'last_updated_epoch\\': 1744562700, \\'last_updated\\': \\'2025-04-13 22:15\\', \\'temp_c\\': 23.0, \\'temp_f\\': 73.4, \\'is_day\\': 0, \\'condition\\': {\\'text\\': \\'Partly cloudy\\', \\'icon\\': \\'//cdn.weatherapi.com/weather/64x64/night/116.png\\', \\'code\\': 1003}, \\'wind_mph\\': 6.7, \\'wind_kph\\': 10.8, \\'wind_degree\\': 177, \\'wind_dir\\': \\'S\\', \\'pressure_mb\\': 1016.0, \\'pressure_in\\': 30.0, \\'precip_mm\\': 0.0, \\'precip_in\\': 0.0, \\'humidity\\': 73, \\'cloud\\': 50, \\'feelslike_c\\': 23.8, \\'feelslike_f\\': 74.8, \\'windchill_c\\': 28.6, \\'windchill_f\\': 83.4, \\'heatindex_c\\': 27.6, \\'heatindex_f\\': 81.7, \\'dewpoint_c\\': 10.0, \\'dewpoint_f\\': 49.9, \\'vis_km\\': 6.0, \\'vis_miles\\': 3.0, \\'uv\\': 0.0, \\'gust_mph\\': 10.6, \\'gust_kph\\': 17.1}}\", \"score\": 0.9284724}, {\"title\": \"Weather Bengaluru in April 2025: Temperature & Climate\", \"url\": \"https://en.climate-data.org/asia/india/karnataka/bengaluru-4562/t/april-4/\", \"content\": \"Min. Temperature °C (°F) | 14.6 °C(58.4) °F | 16.1 °C(61) °F | 18.7 °C(65.6) °F | 20.8 °C(69.4) °F | 21 °C(69.8) °F | 20.2 °C(68.3) °F | 19.8 °C(67.6) °F | 19.4 °C(66.9) °F | 19 °C(66.2) °F | 18.4 °C(65.1) °F | 16.7 °C(62) °F | 15.1 °C(59.1) °F\\\\nMax. Temperature °C (°F) | 27.4 °C(81.2) °F | 29.6 °C(85.3) °F | 32.1 °C(89.8) °F | 32.8 °C(91.1) °F | 31.2 °C(88.2) °F | 27.5 °C(81.5) °F | 26.4 °C(79.5) °F | 26.1 °C(79) °F | 26.7 °C(80) °F | 26.4 °C(79.6) °F | 25.7 °C(78.3) °F | 25.8 °C(78.4) °F [...] (69.3)  °F\\\\n\\\\n22.8 °C\\\\n\\\\n(73)  °F\\\\n\\\\n25.4 °C\\\\n\\\\n(77.8)  °F\\\\n\\\\n26.6 °C\\\\n\\\\n(80)  °F\\\\n\\\\n25.5 °C\\\\n\\\\n(77.9)  °F\\\\n\\\\n23.2 °C\\\\n\\\\n(73.8)  °F\\\\n\\\\n22.4 °C\\\\n\\\\n(72.3)  °F\\\\n\\\\n22.2 °C\\\\n\\\\n(71.9)  °F\\\\n\\\\n22.4 °C\\\\n\\\\n(72.3)  °F\\\\n\\\\n22 °C\\\\n\\\\n(71.6)  °F\\\\n\\\\n20.9 °C\\\\n\\\\n(69.7)  °F\\\\n\\\\n20.1 °C\\\\n\\\\n(68.2)  °F\\\\n\\\\n14.6 °C\\\\n\\\\n(58.4) °F\\\\n\\\\n16.1 °C\\\\n\\\\n(61) °F\\\\n\\\\n18.7 °C\\\\n\\\\n(65.6) °F\\\\n\\\\n20.8 °C\\\\n\\\\n(69.4) °F\\\\n\\\\n21 °C\\\\n\\\\n(69.8) °F\\\\n\\\\n20.2 °C\\\\n\\\\n(68.3) °F\\\\n\\\\n19.8 °C\\\\n\\\\n(67.6) °F\\\\n\\\\n19.4 °C\\\\n\\\\n(66.9) °F\\\\n\\\\n19 °C\\\\n\\\\n(66.2) °F\\\\n\\\\n18.4 °C\\\\n\\\\n(65.1) °F\\\\n\\\\n16.7 °C\\\\n\\\\n(62) °F\\\\n\\\\n15.1 °C\\\\n\\\\n(59.1) °F\\\\n\\\\n27.4 °C\\\\n\\\\n(81.2) °F\\\\n\\\\n29.6 °C [...] (85.3) °F\\\\n\\\\n32.1 °C\\\\n\\\\n(89.8) °F\\\\n\\\\n32.8 °C\\\\n\\\\n(91.1) °F\\\\n\\\\n31.2 °C\\\\n\\\\n(88.2) °F\\\\n\\\\n27.5 °C\\\\n\\\\n(81.5) °F\\\\n\\\\n26.4 °C\\\\n\\\\n(79.5) °F\\\\n\\\\n26.1 °C\\\\n\\\\n(79) °F\\\\n\\\\n26.7 °C\\\\n\\\\n(80) °F\\\\n\\\\n26.4 °C\\\\n\\\\n(79.6) °F\\\\n\\\\n25.7 °C\\\\n\\\\n(78.3) °F\\\\n\\\\n25.8 °C\\\\n\\\\n(78.4) °F\\\\n\\\\n4\\\\n\\\\n(0)\\\\n\\\\n7\\\\n\\\\n(0)\\\\n\\\\n16\\\\n\\\\n(0)\\\\n\\\\n45\\\\n\\\\n(1)\\\\n\\\\n131\\\\n\\\\n(5)\\\\n\\\\n126\\\\n\\\\n(4)\\\\n\\\\n134\\\\n\\\\n(5)\\\\n\\\\n137\\\\n\\\\n(5)\\\\n\\\\n125\\\\n\\\\n(4)\\\\n\\\\n147\\\\n\\\\n(5)\\\\n\\\\n65\\\\n\\\\n(2)\\\\n\\\\n23\\\\n\\\\n(0)\", \"score\": 0.9134376}, {\"title\": \"Bangalore weather in April 2025 - Weather25.com\", \"url\": \"https://www.weather25.com/asia/india/karnataka/bangalore?page=month&month=April\", \"content\": \"Location was added to My Locations\\\\nLocation was removed from My Locations\\\\nMarch\\\\nMay\\\\nBangalore weather in April 2025\\\\nThe weather in Bangalore in April is very hot. The average temperatures are between 24°C and 36°C, drinking water regularly is advisable.\\\\nYou can expect about 3 to 8 days of rain in Bangalore during the month of April. It’s a good idea to bring along your umbrella so that you don’t get caught in poor weather. [...] | Sun | Mon | Tue | Wed | Thu | Fri | Sat |\\\\n| --- | --- | --- | --- | --- | --- | --- |\\\\n| \\\\n | \\\\n| 1  36° /23° | 2  36° /23° | 3  36° /23° | 4  35° /23° | 5  36° /23° |\\\\n| 6  36° /23° | 7  36° /24° | 8  35° /22° | 9  35° /23° | 10  35° /23° | 11  36° /23° | 12  36° /23° |\\\\n| 13  36° /23° | 14  35° /23° | 15  34° /23° | 16  36° /23° | 17  36° /24° | 18  35° /24° | 19  35° /24° |\\\\n| 20  35° /24° | 21  36° /24° | 22  35° /24° | 23  35° /23° | 24  36° /24° | 25  35° /24° | 26  35° /25° | [...] Temperatures\\\\n36° / 24°\\\\n\\\\nRainy Days\\\\n4\\\\n\\\\nSnowy Days\\\\n0\\\\n\\\\nDry Days\\\\n26\\\\n\\\\nRainfall\\\\n61\\\\nmm\\\\n\\\\nSun Hours\\\\n11.8\\\\nHrs\\\\nHistoric average weather for April\\\\n\\\\nApril\", \"score\": 0.8943568}, {\"title\": \"Weather in Bangalore in April 2025 (State of Karnātaka)\", \"url\": \"https://world-weather.info/forecast/india/bangalor/april-2025/\", \"content\": \"2\\\\n+93°+77°\\\\n\\\\n\\\\n3\\\\n+93°+79°\\\\n\\\\n\\\\n4\\\\n+91°+79°\\\\n\\\\n\\\\n5\\\\n+91°+79°\\\\n\\\\n\\\\n6\\\\n+91°+79°\\\\n\\\\n\\\\n7\\\\n+91°+79°\\\\n\\\\n\\\\n8\\\\n+91°+79°\\\\n\\\\n\\\\n9\\\\n+93°+79°\\\\n\\\\n\\\\n10\\\\n+91°+79°\\\\n\\\\n\\\\n11\\\\n+93°+79°\\\\n\\\\n\\\\n12\\\\n+91°+79°\\\\n\\\\n\\\\n13\\\\n+91°+79°\\\\n\\\\n\\\\n14\\\\n+91°+79°\\\\n\\\\n\\\\n15\\\\n+93°+77°\\\\n\\\\n\\\\n16\\\\n+91°+77°\\\\n\\\\n\\\\n17\\\\n+91°+79°\\\\n\\\\n\\\\n18\\\\n+93°+79°\\\\n\\\\n\\\\n19\\\\n+91°+79°\\\\n\\\\n\\\\n20\\\\n+90°+79°\\\\n\\\\n\\\\n21\\\\n+90°+77°\\\\n\\\\n\\\\n22\\\\n+90°+79°\\\\n\\\\n\\\\n23\\\\n+91°+79°\\\\n\\\\n\\\\n24\\\\n+91°+79°\\\\n\\\\n\\\\n25\\\\n+88°+77°\\\\n\\\\n\\\\n26\\\\n+90°+79°\\\\n\\\\n\\\\n27\\\\n+91°+79°\\\\n\\\\n\\\\n28\\\\n+91°+79°\\\\n\\\\n\\\\n29\\\\n+90°+79°\\\\n\\\\n\\\\n30\\\\n+90°+79°\\\\n\\\\n\\\\nExtended weather forecast in Bangalore\\\\nHourlyWeek10-Day14-Day30-DayYear [...] Weather in Bangalore in April 2025 (State of Karnātaka) - Detailed Weather Forecast for a Month\\\\n\\\\nAdd the current city\\\\nSearch\\\\n\\\\nWeather\\\\nArchive\\\\nWidgets\\\\n\\\\n°F\\\\n\\\\nWorld\\\\nIndia\\\\nState of Karnātaka\\\\nWeather in Bangalore\\\\n\\\\nWeather in Bangalore in April 2025\\\\nBangalore Weather Forecast for April 2025, is based on previous years\\' statistical data.\\\\n201520162017201820192020202120222023202420252026\\\\nJanFebMarAprMayJunJulAugSepOctNovDec\\\\nApril\\\\nStart Week On\\\\nSunday\\\\nMonday\\\\n\\\\nSun\\\\nMon\\\\nTue\\\\nWed\\\\nThu\\\\nFri\\\\n\\\\nSat\\\\n\\\\n\\\\n1\\\\n+91°+77° [...] Weather in large and nearby cities\\\\nWeather in New Delhi+73°\\\\nAvadi+88°\\\\nKozhikode+90°\\\\nAmbattur+88°\\\\nChennai+88°\\\\nDindigul+82°\\\\nThanjavur+86°\\\\nMangalore+86°\\\\nNellore+86°\\\\nTiruchchirāppalli+86°\\\\nPuducherry+86°\\\\nBellary+84°\\\\nMysore+81°\\\\nSalem+86°\\\\nAnantapur+84°\\\\nTirupati+82°\\\\nKothakota+86°\\\\nVathalur+86°\\\\nMinimum and maximum\\\\nworld\\'s temperature today\\\\nRussia\\\\nZyryanka\\\\nday\\\\n-22°F\\\\nnight\\\\n-49°F\\\\nChad\\\\nMongo\\\\nday\\\\n+109°F\\\\nnight\\\\n+73°F\\\\nServices\\\\nSupport\\\\n\\\\nUser agreement\\\\nFeedback\\\\nAbout Us\", \"score\": 0.8898454}]', name='tavily_search_results_json', tool_call_id='call_0NLdfZAg6hKgq0QpJ0GSNSYM', artifact={'query': 'Bangalore weather today', 'follow_up_questions': None, 'answer': None, 'images': [], 'results': [{'url': 'https://timesofindia.indiatimes.com/weather/bengaluru-weather-forecast-today/560001', 'title': 'bengaluru Weather Forecast 13 Apr 2025 - Times of India', 'content': \"Today's Weather in Bengaluru: In Bengaluru today, the weather is expected to be Partly Cloudy with a maximum temperature of 32°C and a minimum of 17°C.\", 'score': 0.96205425, 'raw_content': None}, {'title': 'Weather in Bangalore', 'url': 'https://www.weatherapi.com/', 'content': \"{'location': {'name': 'Bangalore', 'region': 'Karnataka', 'country': 'India', 'lat': 12.9833, 'lon': 77.5833, 'tz_id': 'Asia/Kolkata', 'localtime_epoch': 1744563279, 'localtime': '2025-04-13 22:24'}, 'current': {'last_updated_epoch': 1744562700, 'last_updated': '2025-04-13 22:15', 'temp_c': 23.0, 'temp_f': 73.4, 'is_day': 0, 'condition': {'text': 'Partly cloudy', 'icon': '//cdn.weatherapi.com/weather/64x64/night/116.png', 'code': 1003}, 'wind_mph': 6.7, 'wind_kph': 10.8, 'wind_degree': 177, 'wind_dir': 'S', 'pressure_mb': 1016.0, 'pressure_in': 30.0, 'precip_mm': 0.0, 'precip_in': 0.0, 'humidity': 73, 'cloud': 50, 'feelslike_c': 23.8, 'feelslike_f': 74.8, 'windchill_c': 28.6, 'windchill_f': 83.4, 'heatindex_c': 27.6, 'heatindex_f': 81.7, 'dewpoint_c': 10.0, 'dewpoint_f': 49.9, 'vis_km': 6.0, 'vis_miles': 3.0, 'uv': 0.0, 'gust_mph': 10.6, 'gust_kph': 17.1}}\", 'score': 0.9284724, 'raw_content': None}, {'url': 'https://en.climate-data.org/asia/india/karnataka/bengaluru-4562/t/april-4/', 'title': 'Weather Bengaluru in April 2025: Temperature & Climate', 'content': 'Min. Temperature °C (°F) | 14.6 °C(58.4) °F | 16.1 °C(61) °F | 18.7 °C(65.6) °F | 20.8 °C(69.4) °F | 21 °C(69.8) °F | 20.2 °C(68.3) °F | 19.8 °C(67.6) °F | 19.4 °C(66.9) °F | 19 °C(66.2) °F | 18.4 °C(65.1) °F | 16.7 °C(62) °F | 15.1 °C(59.1) °F\\nMax. Temperature °C (°F) | 27.4 °C(81.2) °F | 29.6 °C(85.3) °F | 32.1 °C(89.8) °F | 32.8 °C(91.1) °F | 31.2 °C(88.2) °F | 27.5 °C(81.5) °F | 26.4 °C(79.5) °F | 26.1 °C(79) °F | 26.7 °C(80) °F | 26.4 °C(79.6) °F | 25.7 °C(78.3) °F | 25.8 °C(78.4) °F [...] (69.3)  °F\\n\\n22.8 °C\\n\\n(73)  °F\\n\\n25.4 °C\\n\\n(77.8)  °F\\n\\n26.6 °C\\n\\n(80)  °F\\n\\n25.5 °C\\n\\n(77.9)  °F\\n\\n23.2 °C\\n\\n(73.8)  °F\\n\\n22.4 °C\\n\\n(72.3)  °F\\n\\n22.2 °C\\n\\n(71.9)  °F\\n\\n22.4 °C\\n\\n(72.3)  °F\\n\\n22 °C\\n\\n(71.6)  °F\\n\\n20.9 °C\\n\\n(69.7)  °F\\n\\n20.1 °C\\n\\n(68.2)  °F\\n\\n14.6 °C\\n\\n(58.4) °F\\n\\n16.1 °C\\n\\n(61) °F\\n\\n18.7 °C\\n\\n(65.6) °F\\n\\n20.8 °C\\n\\n(69.4) °F\\n\\n21 °C\\n\\n(69.8) °F\\n\\n20.2 °C\\n\\n(68.3) °F\\n\\n19.8 °C\\n\\n(67.6) °F\\n\\n19.4 °C\\n\\n(66.9) °F\\n\\n19 °C\\n\\n(66.2) °F\\n\\n18.4 °C\\n\\n(65.1) °F\\n\\n16.7 °C\\n\\n(62) °F\\n\\n15.1 °C\\n\\n(59.1) °F\\n\\n27.4 °C\\n\\n(81.2) °F\\n\\n29.6 °C [...] (85.3) °F\\n\\n32.1 °C\\n\\n(89.8) °F\\n\\n32.8 °C\\n\\n(91.1) °F\\n\\n31.2 °C\\n\\n(88.2) °F\\n\\n27.5 °C\\n\\n(81.5) °F\\n\\n26.4 °C\\n\\n(79.5) °F\\n\\n26.1 °C\\n\\n(79) °F\\n\\n26.7 °C\\n\\n(80) °F\\n\\n26.4 °C\\n\\n(79.6) °F\\n\\n25.7 °C\\n\\n(78.3) °F\\n\\n25.8 °C\\n\\n(78.4) °F\\n\\n4\\n\\n(0)\\n\\n7\\n\\n(0)\\n\\n16\\n\\n(0)\\n\\n45\\n\\n(1)\\n\\n131\\n\\n(5)\\n\\n126\\n\\n(4)\\n\\n134\\n\\n(5)\\n\\n137\\n\\n(5)\\n\\n125\\n\\n(4)\\n\\n147\\n\\n(5)\\n\\n65\\n\\n(2)\\n\\n23\\n\\n(0)', 'score': 0.9134376, 'raw_content': None}, {'url': 'https://www.weather25.com/asia/india/karnataka/bangalore?page=month&month=April', 'title': 'Bangalore weather in April 2025 - Weather25.com', 'content': 'Location was added to My Locations\\nLocation was removed from My Locations\\nMarch\\nMay\\nBangalore weather in April 2025\\nThe weather in Bangalore in April is very hot. The average temperatures are between 24°C and 36°C, drinking water regularly is advisable.\\nYou can expect about 3 to 8 days of rain in Bangalore during the month of April. It’s a good idea to bring along your umbrella so that you don’t get caught in poor weather. [...] | Sun | Mon | Tue | Wed | Thu | Fri | Sat |\\n| --- | --- | --- | --- | --- | --- | --- |\\n| \\n | \\n| 1  36° /23° | 2  36° /23° | 3  36° /23° | 4  35° /23° | 5  36° /23° |\\n| 6  36° /23° | 7  36° /24° | 8  35° /22° | 9  35° /23° | 10  35° /23° | 11  36° /23° | 12  36° /23° |\\n| 13  36° /23° | 14  35° /23° | 15  34° /23° | 16  36° /23° | 17  36° /24° | 18  35° /24° | 19  35° /24° |\\n| 20  35° /24° | 21  36° /24° | 22  35° /24° | 23  35° /23° | 24  36° /24° | 25  35° /24° | 26  35° /25° | [...] Temperatures\\n36° / 24°\\n\\nRainy Days\\n4\\n\\nSnowy Days\\n0\\n\\nDry Days\\n26\\n\\nRainfall\\n61\\nmm\\n\\nSun Hours\\n11.8\\nHrs\\nHistoric average weather for April\\n\\nApril', 'score': 0.8943568, 'raw_content': None}, {'url': 'https://world-weather.info/forecast/india/bangalor/april-2025/', 'title': 'Weather in Bangalore in April 2025 (State of Karnātaka)', 'content': \"2\\n+93°+77°\\n\\n\\n3\\n+93°+79°\\n\\n\\n4\\n+91°+79°\\n\\n\\n5\\n+91°+79°\\n\\n\\n6\\n+91°+79°\\n\\n\\n7\\n+91°+79°\\n\\n\\n8\\n+91°+79°\\n\\n\\n9\\n+93°+79°\\n\\n\\n10\\n+91°+79°\\n\\n\\n11\\n+93°+79°\\n\\n\\n12\\n+91°+79°\\n\\n\\n13\\n+91°+79°\\n\\n\\n14\\n+91°+79°\\n\\n\\n15\\n+93°+77°\\n\\n\\n16\\n+91°+77°\\n\\n\\n17\\n+91°+79°\\n\\n\\n18\\n+93°+79°\\n\\n\\n19\\n+91°+79°\\n\\n\\n20\\n+90°+79°\\n\\n\\n21\\n+90°+77°\\n\\n\\n22\\n+90°+79°\\n\\n\\n23\\n+91°+79°\\n\\n\\n24\\n+91°+79°\\n\\n\\n25\\n+88°+77°\\n\\n\\n26\\n+90°+79°\\n\\n\\n27\\n+91°+79°\\n\\n\\n28\\n+91°+79°\\n\\n\\n29\\n+90°+79°\\n\\n\\n30\\n+90°+79°\\n\\n\\nExtended weather forecast in Bangalore\\nHourlyWeek10-Day14-Day30-DayYear [...] Weather in Bangalore in April 2025 (State of Karnātaka) - Detailed Weather Forecast for a Month\\n\\nAdd the current city\\nSearch\\n\\nWeather\\nArchive\\nWidgets\\n\\n°F\\n\\nWorld\\nIndia\\nState of Karnātaka\\nWeather in Bangalore\\n\\nWeather in Bangalore in April 2025\\nBangalore Weather Forecast for April 2025, is based on previous years' statistical data.\\n201520162017201820192020202120222023202420252026\\nJanFebMarAprMayJunJulAugSepOctNovDec\\nApril\\nStart Week On\\nSunday\\nMonday\\n\\nSun\\nMon\\nTue\\nWed\\nThu\\nFri\\n\\nSat\\n\\n\\n1\\n+91°+77° [...] Weather in large and nearby cities\\nWeather in New Delhi+73°\\nAvadi+88°\\nKozhikode+90°\\nAmbattur+88°\\nChennai+88°\\nDindigul+82°\\nThanjavur+86°\\nMangalore+86°\\nNellore+86°\\nTiruchchirāppalli+86°\\nPuducherry+86°\\nBellary+84°\\nMysore+81°\\nSalem+86°\\nAnantapur+84°\\nTirupati+82°\\nKothakota+86°\\nVathalur+86°\\nMinimum and maximum\\nworld's temperature today\\nRussia\\nZyryanka\\nday\\n-22°F\\nnight\\n-49°F\\nChad\\nMongo\\nday\\n+109°F\\nnight\\n+73°F\\nServices\\nSupport\\n\\nUser agreement\\nFeedback\\nAbout Us\", 'score': 0.8898454, 'raw_content': None}], 'response_time': 2.32}),\n",
       " AIMessage(content=\"Today's weather in Bangalore is partly cloudy with a maximum temperature of 32°C (about 89.6°F) and a minimum of 17°C (about 62.6°F). The current temperature is around 23°C (73.4°F) with a relatively high humidity level of 73%. There is no precipitation expected, and the conditions suggest a pleasant, partly cloudy evening.\", additional_kwargs={'refusal': None}, response_metadata={'token_usage': {'completion_tokens': 81, 'prompt_tokens': 6249, 'total_tokens': 6330, 'completion_tokens_details': {'accepted_prediction_tokens': 0, 'audio_tokens': 0, 'reasoning_tokens': 0, 'rejected_prediction_tokens': 0}, 'prompt_tokens_details': {'audio_tokens': 0, 'cached_tokens': 0}}, 'model_name': 'gpt-4o-2024-08-06', 'system_fingerprint': 'fp_92f14e8683', 'finish_reason': 'stop', 'logprobs': None}, id='run-fdffddd4-33b6-4f47-9d55-b6aa2fdf7766-0', usage_metadata={'input_tokens': 6249, 'output_tokens': 81, 'total_tokens': 6330, 'input_token_details': {'audio': 0, 'cache_read': 0}, 'output_token_details': {'audio': 0, 'reasoning': 0}}),\n",
       " ['user', 'give me the recent news from there?']]"
      ]
     },
     "execution_count": 128,
     "metadata": {},
     "output_type": "execute_result"
    }
   ],
   "source": [
    "current_message"
   ]
  },
  {
   "cell_type": "code",
   "execution_count": null,
   "id": "1e5dbe7f",
   "metadata": {},
   "outputs": [],
   "source": [
    "for event in events:\n",
    "    if \"messages\" in event:\n",
    "        last_message = event[\"messages\"][-1]\n",
    "        # Print the tuple elements (e.g., role and content)\n",
    "        \n"
   ]
  },
  {
   "cell_type": "code",
   "execution_count": null,
   "id": "5cd0176c",
   "metadata": {},
   "outputs": [
    {
     "ename": "AttributeError",
     "evalue": "'list' object has no attribute 'pretty_print'",
     "output_type": "error",
     "traceback": [
      "\u001b[1;31m---------------------------------------------------------------------------\u001b[0m",
      "\u001b[1;31mAttributeError\u001b[0m                            Traceback (most recent call last)",
      "Cell \u001b[1;32mIn[124], line 1\u001b[0m\n\u001b[1;32m----> 1\u001b[0m \u001b[43mcurrent_message\u001b[49m\u001b[38;5;241;43m.\u001b[39;49m\u001b[43mpretty_print\u001b[49m()\n",
      "\u001b[1;31mAttributeError\u001b[0m: 'list' object has no attribute 'pretty_print'"
     ]
    }
   ],
   "source": [
    "current_message.pretty_print()"
   ]
  },
  {
   "cell_type": "code",
   "execution_count": null,
   "id": "c0d5e933",
   "metadata": {},
   "outputs": [
    {
     "ename": "AttributeError",
     "evalue": "'list' object has no attribute 'tool_calls'",
     "output_type": "error",
     "traceback": [
      "\u001b[1;31m---------------------------------------------------------------------------\u001b[0m",
      "\u001b[1;31mAttributeError\u001b[0m                            Traceback (most recent call last)",
      "Cell \u001b[1;32mIn[126], line 1\u001b[0m\n\u001b[1;32m----> 1\u001b[0m tool_call_id \u001b[38;5;241m=\u001b[39m \u001b[43mcurrent_message\u001b[49m\u001b[38;5;241;43m.\u001b[39;49m\u001b[43mtool_calls\u001b[49m[\u001b[38;5;241m0\u001b[39m][\u001b[38;5;124m\"\u001b[39m\u001b[38;5;124mid\u001b[39m\u001b[38;5;124m\"\u001b[39m] \n",
      "\u001b[1;31mAttributeError\u001b[0m: 'list' object has no attribute 'tool_calls'"
     ]
    }
   ],
   "source": [
    "\n",
    "tool_call_id = current_message.tool_calls[0][\"id\"] "
   ]
  },
  {
   "cell_type": "code",
   "execution_count": null,
   "id": "fbd8c11d",
   "metadata": {},
   "outputs": [],
   "source": [
    "\n",
    "from langchain_core.messages import AIMessage, ToolMessage"
   ]
  },
  {
   "cell_type": "code",
   "execution_count": null,
   "id": "05458b2b",
   "metadata": {},
   "outputs": [],
   "source": [
    "answer=\"delhi is too hot now a days as well as bit foggy\""
   ]
  },
  {
   "cell_type": "code",
   "execution_count": null,
   "id": "dcf4b4ac",
   "metadata": {},
   "outputs": [
    {
     "ename": "NameError",
     "evalue": "name 'tool_call_id' is not defined",
     "output_type": "error",
     "traceback": [
      "\u001b[1;31m---------------------------------------------------------------------------\u001b[0m",
      "\u001b[1;31mNameError\u001b[0m                                 Traceback (most recent call last)",
      "Cell \u001b[1;32mIn[131], line 2\u001b[0m\n\u001b[0;32m      1\u001b[0m new_messages \u001b[38;5;241m=\u001b[39m [\n\u001b[1;32m----> 2\u001b[0m     ToolMessage(content\u001b[38;5;241m=\u001b[39manswer, tool_call_id\u001b[38;5;241m=\u001b[39m\u001b[43mtool_call_id\u001b[49m),\n\u001b[0;32m      3\u001b[0m     AIMessage(content\u001b[38;5;241m=\u001b[39manswer),\n\u001b[0;32m      4\u001b[0m ]\n",
      "\u001b[1;31mNameError\u001b[0m: name 'tool_call_id' is not defined"
     ]
    }
   ],
   "source": [
    "\n",
    "new_messages = [\n",
    "    ToolMessage(content=answer, tool_call_id=tool_call_id),\n",
    "    AIMessage(content=answer),\n",
    "]"
   ]
  },
  {
   "cell_type": "code",
   "execution_count": null,
   "id": "7b428561",
   "metadata": {},
   "outputs": [],
   "source": [
    "\n",
    "app2.update_state(\n",
    "    config,\n",
    "    {\"messages\": new_messages},\n",
    ")"
   ]
  },
  {
   "cell_type": "code",
   "execution_count": null,
   "id": "7a45c52b",
   "metadata": {},
   "outputs": [],
   "source": [
    "\n",
    "print(app2.get_state(config).values[\"messages\"][-1:])"
   ]
  }
 ],
 "metadata": {
  "kernelspec": {
   "display_name": "Python 3",
   "language": "python",
   "name": "python3"
  },
  "language_info": {
   "codemirror_mode": {
    "name": "ipython",
    "version": 3
   },
   "file_extension": ".py",
   "mimetype": "text/x-python",
   "name": "python",
   "nbconvert_exporter": "python",
   "pygments_lexer": "ipython3",
   "version": "3.12.8"
  }
 },
 "nbformat": 4,
 "nbformat_minor": 5
}
