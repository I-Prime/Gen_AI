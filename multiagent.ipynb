{
 "cells": [
  {
   "cell_type": "code",
   "execution_count": 73,
   "id": "55b1a9a4",
   "metadata": {},
   "outputs": [],
   "source": [
    "from typing_extensions import Literal\n",
    "from langchain_core.tools import tool\n",
    "from langchain_groq import ChatGroq\n",
    "from langgraph.graph import MessagesState, StateGraph,START,END\n",
    "from langgraph.types import Command\n",
    "from dotenv import load_dotenv\n",
    "from IPython.display import Image, display\n",
    "from langchain_openai import ChatOpenAI\n",
    "from langchain_core.messages import BaseMessage, HumanMessage\n",
    "from langgraph.prebuilt import create_react_agent\n",
    "from typing import Annotated\n",
    "from langchain_experimental.utilities import PythonREPL"
   ]
  },
  {
   "cell_type": "code",
   "execution_count": 74,
   "id": "651bed72",
   "metadata": {},
   "outputs": [
    {
     "name": "stderr",
     "output_type": "stream",
     "text": [
      "\n",
      "[notice] A new release of pip is available: 25.0 -> 25.1.1\n",
      "[notice] To update, run: python.exe -m pip install --upgrade pip\n"
     ]
    }
   ],
   "source": [
    "!pip install -qU \"langchain[cohere]\""
   ]
  },
  {
   "cell_type": "code",
   "execution_count": 75,
   "id": "dd0b9d01",
   "metadata": {},
   "outputs": [
    {
     "data": {
      "text/plain": [
       "True"
      ]
     },
     "execution_count": 75,
     "metadata": {},
     "output_type": "execute_result"
    }
   ],
   "source": [
    "load_dotenv()"
   ]
  },
  {
   "cell_type": "code",
   "execution_count": 76,
   "id": "b6160d36",
   "metadata": {},
   "outputs": [],
   "source": [
    "import getpass\n",
    "import os\n",
    "\n",
    "if not os.environ.get(\"COHERE_API_KEY\"):\n",
    "  os.environ[\"COHERE_API_KEY\"] = getpass.getpass(\"Enter API key for Cohere: \")\n",
    "\n",
    "from langchain.chat_models import init_chat_model\n",
    "\n",
    "openai_model = init_chat_model(\"command-r-plus\", model_provider=\"cohere\")"
   ]
  },
  {
   "cell_type": "code",
   "execution_count": 77,
   "id": "b50a1bdb",
   "metadata": {},
   "outputs": [
    {
     "data": {
      "text/plain": [
       "'Hello! How can I help you today?'"
      ]
     },
     "execution_count": 77,
     "metadata": {},
     "output_type": "execute_result"
    }
   ],
   "source": [
    "openai_model.invoke(\"hi\").content"
   ]
  },
  {
   "cell_type": "code",
   "execution_count": 78,
   "id": "c4564686",
   "metadata": {},
   "outputs": [],
   "source": [
    "\n",
    "def add_numbers(state):\n",
    "    result=state[\"num1\"]+state[\"num2\"]\n",
    "    print(f\"additional result: {result}\")\n",
    "    return Command(goto=\"multiply\",update={\"sum\":result})"
   ]
  },
  {
   "cell_type": "code",
   "execution_count": 79,
   "id": "549d22e5",
   "metadata": {},
   "outputs": [],
   "source": [
    "state={\"num1\":1, \"num2\":2}"
   ]
  },
  {
   "cell_type": "code",
   "execution_count": 80,
   "id": "75f91859",
   "metadata": {},
   "outputs": [
    {
     "name": "stdout",
     "output_type": "stream",
     "text": [
      "additional result: 3\n"
     ]
    },
    {
     "data": {
      "text/plain": [
       "Command(update={'sum': 3}, goto='multiply')"
      ]
     },
     "execution_count": 80,
     "metadata": {},
     "output_type": "execute_result"
    }
   ],
   "source": [
    "\n",
    "add_numbers(state)"
   ]
  },
  {
   "cell_type": "code",
   "execution_count": 81,
   "id": "72ae2dad",
   "metadata": {},
   "outputs": [],
   "source": [
    "@tool\n",
    "def transfer_to_multiplication_expert():\n",
    "    \"\"\"Ask multiplication agent for help\"\"\"\n",
    "    return \n",
    "\n",
    "@tool\n",
    "def transfer_to_addition_expert():\n",
    "    \"\"\"Ask addition agent for help\"\"\"\n",
    "    return "
   ]
  },
  {
   "cell_type": "code",
   "execution_count": 84,
   "id": "e9483269",
   "metadata": {},
   "outputs": [],
   "source": [
    "model_with_tool=openai_model.bind_tools([transfer_to_multiplication_expert])"
   ]
  },
  {
   "cell_type": "code",
   "execution_count": 85,
   "id": "34dedba2",
   "metadata": {},
   "outputs": [],
   "source": [
    "ai_message=model_with_tool.invoke(\"hi how are you?\")"
   ]
  },
  {
   "cell_type": "code",
   "execution_count": 86,
   "id": "a78cb865",
   "metadata": {},
   "outputs": [
    {
     "data": {
      "text/plain": [
       "[]"
      ]
     },
     "execution_count": 86,
     "metadata": {},
     "output_type": "execute_result"
    }
   ],
   "source": [
    "ai_message.tool_calls"
   ]
  },
  {
   "cell_type": "code",
   "execution_count": 87,
   "id": "6f126e76",
   "metadata": {},
   "outputs": [],
   "source": [
    "\n",
    "ai_message=model_with_tool.invoke(\"what's (3 + 5) * 12. Provide me the output\")"
   ]
  },
  {
   "cell_type": "code",
   "execution_count": 88,
   "id": "72fdae54",
   "metadata": {},
   "outputs": [
    {
     "data": {
      "text/plain": [
       "AIMessage(content='I will use the multiplication expert to calculate the answer to this query.', additional_kwargs={'id': 'ca0a9aa3-a6f8-468d-b585-a1c28ed42e8e', 'finish_reason': 'TOOL_CALL', 'tool_plan': 'I will use the multiplication expert to calculate the answer to this query.', 'tool_calls': [{'id': 'transfer_to_multiplication_expert_fv65aqxej02a', 'type': 'function', 'function': {'name': 'transfer_to_multiplication_expert', 'arguments': '{\"expression\":\"(3 + 5) * 12\"}'}}], 'token_count': {'input_tokens': 896.0, 'output_tokens': 69.0}}, response_metadata={'id': 'ca0a9aa3-a6f8-468d-b585-a1c28ed42e8e', 'finish_reason': 'TOOL_CALL', 'tool_plan': 'I will use the multiplication expert to calculate the answer to this query.', 'tool_calls': [{'id': 'transfer_to_multiplication_expert_fv65aqxej02a', 'type': 'function', 'function': {'name': 'transfer_to_multiplication_expert', 'arguments': '{\"expression\":\"(3 + 5) * 12\"}'}}], 'token_count': {'input_tokens': 896.0, 'output_tokens': 69.0}}, id='run--b84a7f71-4982-4b6c-8dfa-0b8c895d6383-0', tool_calls=[{'name': 'transfer_to_multiplication_expert', 'args': {'expression': '(3 + 5) * 12'}, 'id': 'transfer_to_multiplication_expert_fv65aqxej02a', 'type': 'tool_call'}], usage_metadata={'input_tokens': 896, 'output_tokens': 69, 'total_tokens': 965})"
      ]
     },
     "execution_count": 88,
     "metadata": {},
     "output_type": "execute_result"
    }
   ],
   "source": [
    "ai_message"
   ]
  },
  {
   "cell_type": "code",
   "execution_count": 89,
   "id": "0e983e35",
   "metadata": {},
   "outputs": [
    {
     "data": {
      "text/plain": [
       "'I will use the multiplication expert to calculate the answer to this query.'"
      ]
     },
     "execution_count": 89,
     "metadata": {},
     "output_type": "execute_result"
    }
   ],
   "source": [
    "ai_message.content"
   ]
  },
  {
   "cell_type": "code",
   "execution_count": 20,
   "id": "97e420bf",
   "metadata": {},
   "outputs": [
    {
     "data": {
      "text/plain": [
       "[{'name': 'transfer_to_multiplication_expert',\n",
       "  'args': {'expression': '(3 + 5) * 12'},\n",
       "  'id': 'transfer_to_multiplication_expert_w2jaxnyg4508',\n",
       "  'type': 'tool_call'}]"
      ]
     },
     "execution_count": 20,
     "metadata": {},
     "output_type": "execute_result"
    }
   ],
   "source": [
    "ai_message.tool_calls"
   ]
  },
  {
   "cell_type": "code",
   "execution_count": 90,
   "id": "d0c34824",
   "metadata": {},
   "outputs": [],
   "source": [
    "def additional_expert(state:MessagesState)-> Command[Literal[\"multiplication_expert\", \"__end__\"]]:\n",
    "    \n",
    "    system_prompt = (\n",
    "        \"You are an addition expert, you can ask the multiplication expert for help with multiplication.\"\n",
    "        \"Always do your portion of calculation before the handoff.\"\n",
    "    )\n",
    "    \n",
    "    messages = [{\"role\": \"system\", \"content\": system_prompt}] + state[\"messages\"]\n",
    "    \n",
    "    \n",
    "    ai_msg = openai_model.bind_tools([transfer_to_multiplication_expert]).invoke(messages)\n",
    "    \n",
    "    \n",
    "    if len(ai_msg.tool_calls) > 0:\n",
    "        tool_call_id = ai_msg.tool_calls[-1][\"id\"]\n",
    "        tool_msg = {\n",
    "            \"role\": \"tool\",\n",
    "            \"content\": \"Successfully transferred\",\n",
    "            \"tool_call_id\": tool_call_id,\n",
    "        }\n",
    "        \n",
    "        return Command(\n",
    "            goto=\"multiplication_expert\", update={\"messages\": [ai_msg, tool_msg]}\n",
    "        )\n",
    "    return {\"messages\": [ai_msg]}"
   ]
  },
  {
   "cell_type": "code",
   "execution_count": 92,
   "id": "00aa29cc",
   "metadata": {},
   "outputs": [],
   "source": [
    "def multiplication_expert(state:MessagesState)-> Command[Literal[\"additional_expert\", \"__end__\"]]:\n",
    "    \n",
    "    system_prompt = (\n",
    "        \"You are a multiplication expert, you can ask an addition expert for help with addition. \"\n",
    "        \"Always do your portion of calculation before the handoff.\"\n",
    "    )\n",
    "    \n",
    "    messages = [{\"role\": \"system\", \"content\": system_prompt}] + state[\"messages\"]\n",
    "    \n",
    "    ai_msg = openai_model.bind_tools([transfer_to_addition_expert]).invoke(messages)\n",
    "    \n",
    "    if len(ai_msg.tool_calls) > 0:\n",
    "        tool_call_id = ai_msg.tool_calls[-1][\"id\"]\n",
    "        tool_msg = {\n",
    "            \"role\": \"tool\",\n",
    "            \"content\": \"Successfully transferred\",\n",
    "            \"tool_call_id\": tool_call_id,\n",
    "        }\n",
    "        return Command(goto=\"additional_expert\", update={\"messages\": [ai_msg, tool_msg]})\n",
    "    return {\"messages\": [ai_msg]}"
   ]
  },
  {
   "cell_type": "code",
   "execution_count": 93,
   "id": "e1147963",
   "metadata": {},
   "outputs": [],
   "source": [
    "graph=StateGraph(MessagesState)"
   ]
  },
  {
   "cell_type": "code",
   "execution_count": 94,
   "id": "3acd23e6",
   "metadata": {},
   "outputs": [
    {
     "data": {
      "text/plain": [
       "<langgraph.graph.state.StateGraph at 0x21118891310>"
      ]
     },
     "execution_count": 94,
     "metadata": {},
     "output_type": "execute_result"
    }
   ],
   "source": [
    "graph.add_node(\"additional_expert\",additional_expert)\n",
    "graph.add_node(\"multiplication_expert\",multiplication_expert)\n"
   ]
  },
  {
   "cell_type": "code",
   "execution_count": 95,
   "id": "a41792d6",
   "metadata": {},
   "outputs": [
    {
     "data": {
      "text/plain": [
       "<langgraph.graph.state.StateGraph at 0x21118891310>"
      ]
     },
     "execution_count": 95,
     "metadata": {},
     "output_type": "execute_result"
    }
   ],
   "source": [
    "graph.add_edge(START, \"additional_expert\")"
   ]
  },
  {
   "cell_type": "code",
   "execution_count": 96,
   "id": "e7d83d54",
   "metadata": {},
   "outputs": [],
   "source": [
    "app=graph.compile()"
   ]
  },
  {
   "cell_type": "code",
   "execution_count": 97,
   "id": "a93fae17",
   "metadata": {},
   "outputs": [
    {
     "data": {
      "image/png": "[encoded data removed]",
      "text/plain": [
       "<IPython.core.display.Image object>"
      ]
     },
     "metadata": {},
     "output_type": "display_data"
    }
   ],
   "source": [
    "app=graph.compile()\n",
    "display(Image(app.get_graph().draw_mermaid_png()))"
   ]
  },
  {
   "cell_type": "code",
   "execution_count": 98,
   "id": "61383fe4",
   "metadata": {},
   "outputs": [
    {
     "data": {
      "text/plain": [
       "{'messages': [HumanMessage(content=\"what's (3 + 5) * 12. Provide me the output\", additional_kwargs={}, response_metadata={}, id='ea221e24-9021-4d27-bc2b-91de2e036c37'),\n",
       "  AIMessage(content='3 + 5 = 8', additional_kwargs={'id': '7773dd5c-5106-4370-a162-f7178ef45425', 'finish_reason': 'TOOL_CALL', 'tool_plan': '3 + 5 = 8', 'tool_calls': [{'id': 'transfer_to_multiplication_expert_avj7djm8gzkt', 'type': 'function', 'function': {'name': 'transfer_to_multiplication_expert', 'arguments': '{\"question\":\"what is 8 * 12?\"}'}}], 'token_count': {'input_tokens': 859.0, 'output_tokens': 62.0}}, response_metadata={'id': '7773dd5c-5106-4370-a162-f7178ef45425', 'finish_reason': 'TOOL_CALL', 'tool_plan': '3 + 5 = 8', 'tool_calls': [{'id': 'transfer_to_multiplication_expert_avj7djm8gzkt', 'type': 'function', 'function': {'name': 'transfer_to_multiplication_expert', 'arguments': '{\"question\":\"what is 8 * 12?\"}'}}], 'token_count': {'input_tokens': 859.0, 'output_tokens': 62.0}}, id='run--91387942-f822-4cc6-bd06-f1973e2728b2-0', tool_calls=[{'name': 'transfer_to_multiplication_expert', 'args': {'question': 'what is 8 * 12?'}, 'id': 'transfer_to_multiplication_expert_avj7djm8gzkt', 'type': 'tool_call'}], usage_metadata={'input_tokens': 859, 'output_tokens': 62, 'total_tokens': 921}),\n",
       "  ToolMessage(content='Successfully transferred', id='3e831d99-a9bf-4ccf-a4aa-9aea85c65d17', tool_call_id='transfer_to_multiplication_expert_avj7djm8gzkt'),\n",
       "  AIMessage(content=\"Sorry, I'm unable to answer your question at this time.\", additional_kwargs={'id': '2a06f8c9-19f3-4a32-887f-33c260a26345', 'finish_reason': 'COMPLETE', 'content': \"Sorry, I'm unable to answer your question at this time.\", 'token_count': {'input_tokens': 888.0, 'output_tokens': 45.0}}, response_metadata={'id': '2a06f8c9-19f3-4a32-887f-33c260a26345', 'finish_reason': 'COMPLETE', 'content': \"Sorry, I'm unable to answer your question at this time.\", 'token_count': {'input_tokens': 888.0, 'output_tokens': 45.0}}, id='run--4adc86f6-19ce-404c-bede-407a39d1290d-0', usage_metadata={'input_tokens': 888, 'output_tokens': 45, 'total_tokens': 933})]}"
      ]
     },
     "execution_count": 98,
     "metadata": {},
     "output_type": "execute_result"
    }
   ],
   "source": [
    "app.invoke({\"messages\":[(\"user\",\"what's (3 + 5) * 12. Provide me the output\")]})"
   ]
  },
  {
   "cell_type": "code",
   "execution_count": 100,
   "id": "5a004e5c",
   "metadata": {},
   "outputs": [],
   "source": [
    "from typing import Annotated\n",
    "from typing import Literal\n",
    "from langchain_community.tools.tavily_search import TavilySearchResults\n",
    "from langchain_core.tools import tool\n",
    "from langchain_experimental.utilities import PythonREPL\n",
    "from typing_extensions import TypedDict\n",
    "from langgraph.graph import MessagesState, END,StateGraph, START\n",
    "from langgraph.types import Command\n",
    "from langchain_core.messages import HumanMessage\n",
    "from langgraph.prebuilt import create_react_agent"
   ]
  },
  {
   "cell_type": "code",
   "execution_count": 101,
   "id": "49341bca",
   "metadata": {},
   "outputs": [],
   "source": [
    "from dotenv import load_dotenv"
   ]
  },
  {
   "cell_type": "code",
   "execution_count": 102,
   "id": "e30ebd74",
   "metadata": {},
   "outputs": [
    {
     "data": {
      "text/plain": [
       "True"
      ]
     },
     "execution_count": 102,
     "metadata": {},
     "output_type": "execute_result"
    }
   ],
   "source": [
    "load_dotenv()"
   ]
  },
  {
   "cell_type": "code",
   "execution_count": null,
   "id": "04b255fe",
   "metadata": {},
   "outputs": [],
   "source": [
    "TAVILY_API_KEY=\"TAVILY_API_KEY\"\n",
    "import os\n",
    "os.environ[\"TAVILY_API_KEY\"]=TAVILY_API_KEY"
   ]
  },
  {
   "cell_type": "code",
   "execution_count": 104,
   "id": "18771717",
   "metadata": {},
   "outputs": [],
   "source": [
    "tavaily_tool=TavilySearchResults()"
   ]
  },
  {
   "cell_type": "code",
   "execution_count": null,
   "id": "2f886735",
   "metadata": {},
   "outputs": [],
   "source": [
    "tavaily_tool.invoke(\"what is gnp?\")"
   ]
  },
  {
   "cell_type": "code",
   "execution_count": null,
   "id": "65cb6923",
   "metadata": {},
   "outputs": [],
   "source": [
    "@tool\n",
    "def python_repl_tool(\n",
    "    code: Annotated[str, \"The python code to execute to generate your chart.\"],\n",
    "):\n",
    "    \"\"\"Use this to execute python code and do math. If you want to see the output of a value,\n",
    "    you should print it out with `print(...)`. This is visible to the user.\"\"\"\n",
    "    \n",
    "    try:\n",
    "        result = repl.run(code)\n",
    "    except BaseException as e:\n",
    "        return f\"Failed to execute. Error: {repr(e)}\"\n",
    "    \n",
    "    result_str = f\"Successfully executed:\\n\\`\\`\\`python\\n{code}\\n\\`\\`\\`\\nStdout: {result}\"\n",
    "    return result_str"
   ]
  },
  {
   "cell_type": "code",
   "execution_count": 111,
   "id": "27a2595a",
   "metadata": {},
   "outputs": [],
   "source": [
    "code = \"\"\"\n",
    "x = 5\n",
    "y = x * 2\n",
    "print(y,end=\"\")\n",
    "\"\"\""
   ]
  },
  {
   "cell_type": "code",
   "execution_count": 112,
   "id": "14226e35",
   "metadata": {},
   "outputs": [],
   "source": [
    "repl=PythonREPL()"
   ]
  },
  {
   "cell_type": "code",
   "execution_count": 113,
   "id": "0e33a289",
   "metadata": {},
   "outputs": [
    {
     "data": {
      "text/plain": [
       "'10'"
      ]
     },
     "execution_count": 113,
     "metadata": {},
     "output_type": "execute_result"
    }
   ],
   "source": [
    "repl.run(code)"
   ]
  },
  {
   "cell_type": "code",
   "execution_count": 114,
   "id": "c514ecaa",
   "metadata": {},
   "outputs": [],
   "source": [
    "members=[\"researcher\",\"coder\"]"
   ]
  },
  {
   "cell_type": "code",
   "execution_count": 115,
   "id": "fb63d7d6",
   "metadata": {},
   "outputs": [],
   "source": [
    "options=members+[\"FINISH\"]"
   ]
  },
  {
   "cell_type": "code",
   "execution_count": 118,
   "id": "c8d457fc",
   "metadata": {},
   "outputs": [
    {
     "data": {
      "text/plain": [
       "['researcher', 'coder', 'FINISH']"
      ]
     },
     "execution_count": 118,
     "metadata": {},
     "output_type": "execute_result"
    }
   ],
   "source": [
    "options"
   ]
  },
  {
   "cell_type": "code",
   "execution_count": 119,
   "id": "f45001a9",
   "metadata": {},
   "outputs": [],
   "source": [
    "class Router(TypedDict):\n",
    "    \"\"\"Worker to route to next. If no workers needed, route to FINISH.\"\"\"\n",
    "    next: Literal['researcher', 'coder', 'FINISH']"
   ]
  },
  {
   "cell_type": "code",
   "execution_count": 132,
   "id": "315f608e",
   "metadata": {},
   "outputs": [],
   "source": [
    "from pydantic import BaseModel\n",
    "from typing import Literal\n",
    "\n",
    "class Router(BaseModel):\n",
    "    next: Literal[\"researcher\", \"coder\", \"FINISH\"]"
   ]
  },
  {
   "cell_type": "code",
   "execution_count": 120,
   "id": "8abcae0f",
   "metadata": {},
   "outputs": [],
   "source": [
    "class State(MessagesState):\n",
    "    next:str"
   ]
  },
  {
   "cell_type": "code",
   "execution_count": 134,
   "id": "4315e5e1",
   "metadata": {},
   "outputs": [],
   "source": [
    "system_prompt=f\"\"\"\n",
    "You are a supervisor, tasked with managing a conversation between the following workers: {members}. \n",
    "Given the following user request, respond with the worker to act next. \n",
    "Each worker will perform a task and respond with their results and status. \n",
    "When finished, respond with FINISH.\n",
    "\"\"\""
   ]
  },
  {
   "cell_type": "code",
   "execution_count": 135,
   "id": "30f9e656",
   "metadata": {},
   "outputs": [
    {
     "data": {
      "text/plain": [
       "[{'role': 'system',\n",
       "  'content': \"\\nYou are a supervisor, tasked with managing a conversation between the following workers: ['researcher', 'coder']. \\nGiven the following user request, respond with the worker to act next. \\nEach worker will perform a task and respond with their results and status. \\nWhen finished, respond with FINISH.\\n\"}]"
      ]
     },
     "execution_count": 135,
     "metadata": {},
     "output_type": "execute_result"
    }
   ],
   "source": [
    "[{\"role\": \"system\", \"content\": system_prompt},]"
   ]
  },
  {
   "cell_type": "code",
   "execution_count": null,
   "id": "04b10d87",
   "metadata": {},
   "outputs": [],
   "source": [
    "# Instead of structured output, use a regular call and parse the response\n",
    "def supervisor_node(state: State) -> Command[Literal[\"researcher\", \"coder\", \"__end__\"]]:\n",
    "    messages = [{\"role\": \"system\", \"content\": system_prompt}] + state[\"messages\"]\n",
    "    \n",
    "    # Add instructions to return JSON in the system prompt\n",
    "    system_prompt_with_json = system_prompt + \"\\n\\nRespond with a JSON object with a 'next' field containing either 'researcher', 'coder', or 'FINISH'.\"\n",
    "    messages[0][\"content\"] = system_prompt_with_json\n",
    "    \n",
    "    response = openai_model.invoke(messages)\n",
    "    \n",
    "    # Parse the JSON response\n",
    "    import json\n",
    "    try:\n",
    "        parsed = json.loads(response.content)\n",
    "        goto = parsed[\"next\"]\n",
    "    except:\n",
    "        # Fallback if JSON parsing fails\n",
    "        goto = \"researcher\"  # or handle error appropriately\n",
    "    \n",
    "    print(\"below my goto**********************************\")\n",
    "    print(goto)\n",
    "    \n",
    "    if goto == \"FINISH\":\n",
    "        goto = \"__end__\"  # Use \"__end__\" instead of END\n",
    "        \n",
    "    return Command(goto=goto, update={\"next\": goto})"
   ]
  },
  {
   "cell_type": "code",
   "execution_count": 136,
   "id": "997fe56a",
   "metadata": {},
   "outputs": [],
   "source": [
    "def research_node(state: State) -> Command[Literal[\"supervisor\"]]:\n",
    "    \n",
    "    research_agent = create_react_agent(openai_model, tools=[tavaily_tool], prompt=\"You are a researcher. DO NOT do any math.\")\n",
    "    \n",
    "    result = research_agent.invoke(state)\n",
    "    \n",
    "    return Command(\n",
    "        update={\n",
    "            \"messages\": [\n",
    "                HumanMessage(content=result[\"messages\"][-1].content, name=\"researcher\")\n",
    "            ]\n",
    "        },\n",
    "        goto=\"supervisor\",\n",
    "    )"
   ]
  },
  {
   "cell_type": "code",
   "execution_count": 137,
   "id": "93ce7b46",
   "metadata": {},
   "outputs": [],
   "source": [
    "def code_node(state: State) -> Command[Literal[\"supervisor\"]]:\n",
    "    \n",
    "    code_agent = create_react_agent(openai_model, tools=[python_repl_tool])\n",
    "    \n",
    "    result = code_agent.invoke(state)\n",
    "    \n",
    "    return Command(\n",
    "        update={\n",
    "            \"messages\": [\n",
    "                HumanMessage(content=result[\"messages\"][-1].content, name=\"coder\")\n",
    "            ]\n",
    "        },\n",
    "        goto=\"supervisor\",\n",
    "    )"
   ]
  },
  {
   "cell_type": "code",
   "execution_count": 138,
   "id": "bc75a09c",
   "metadata": {},
   "outputs": [],
   "source": [
    "graph=StateGraph(State)"
   ]
  },
  {
   "cell_type": "code",
   "execution_count": 139,
   "id": "0df6717f",
   "metadata": {},
   "outputs": [],
   "source": [
    "graph.add_node(\"supervisor\",supervisor_node)\n",
    "graph.add_node(\"researcher\", research_node)\n",
    "graph.add_node(\"coder\", code_node)\n",
    "\n",
    "graph.add_edge(START,\"supervisor\")\n",
    "app=graph.compile()"
   ]
  },
  {
   "cell_type": "code",
   "execution_count": 140,
   "id": "42dc4911",
   "metadata": {},
   "outputs": [
    {
     "data": {
      "image/png": "[encoded data removed]",
      "text/plain": [
       "<IPython.core.display.Image object>"
      ]
     },
     "metadata": {},
     "output_type": "display_data"
    }
   ],
   "source": [
    "from IPython.display import display, Image\n",
    "\n",
    "display(Image(app.get_graph().draw_mermaid_png()))"
   ]
  },
  {
   "cell_type": "code",
   "execution_count": null,
   "id": "5aa4f881",
   "metadata": {},
   "outputs": [],
   "source": [
    "for s in app.stream({\"messages\": [(\"user\", \"What's the square root of 42?\")]}, subgraphs=True):\n",
    "    print(s)\n",
    "    print(\"----\")"
   ]
  }
 ],
 "metadata": {
  "kernelspec": {
   "display_name": "Python 3",
   "language": "python",
   "name": "python3"
  },
  "language_info": {
   "codemirror_mode": {
    "name": "ipython",
    "version": 3
   },
   "file_extension": ".py",
   "mimetype": "text/x-python",
   "name": "python",
   "nbconvert_exporter": "python",
   "pygments_lexer": "ipython3",
   "version": "3.12.8"
  }
 },
 "nbformat": 4,
 "nbformat_minor": 5
}
